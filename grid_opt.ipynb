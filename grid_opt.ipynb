{
 "cells": [
  {
   "cell_type": "code",
   "execution_count": 71,
   "metadata": {},
   "outputs": [
    {
     "name": "stdout",
     "output_type": "stream",
     "text": [
      "Libraries loaded.\n"
     ]
    }
   ],
   "source": [
    "import transdist\n",
    "import imp\n",
    "imp.reload(wind)\n",
    "import wind\n",
    "import pandas as pd\n",
    "import numpy as np\n",
    "import geopandas as gpd\n",
    "import requests\n",
    "from shapely.geometry import Point\n",
    "from matplotlib import pyplot as plt\n",
    "%matplotlib inline\n",
    "import time # NB: Use to limit rate of making requests to a website\n",
    "print('Libraries loaded.')"
   ]
  },
  {
   "cell_type": "code",
   "execution_count": 6,
   "metadata": {},
   "outputs": [],
   "source": [
    "import gmaps\n",
    "import os\n",
    "gmaps.configure(api_key=os.environ[\"GOOGLE_API_KEY\"])\n",
    "import json"
   ]
  },
  {
   "cell_type": "code",
   "execution_count": 141,
   "metadata": {},
   "outputs": [],
   "source": [
    "with open('special_gdf.geojson','r') as f : \n",
    "    special_gdf_geojson = json.load(f)\n",
    "trans_layer = gmaps.geojson_layer(special_gdf_geojson,stroke_color=(0,0,0))"
   ]
  },
  {
   "cell_type": "code",
   "execution_count": 137,
   "metadata": {},
   "outputs": [],
   "source": [
    "grid_div = 10\n",
    "lat_range = np.linspace(32.5,transdist.MAX_LAT,grid_div)\n",
    "lon_range = np.linspace(-118.5,-114,grid_div)\n",
    "point_grid = np.meshgrid(lat_range,lon_range,indexing='ij')\n",
    "grid_point_list = [(lat,lon) for lat,lon in zip(point_grid[0].ravel(),point_grid[1].ravel())]\n",
    "grid_layer = gmaps.symbol_layer(\n",
    "    grid_point_list, fill_color=\"red\", stroke_color=\"red\", scale=3\n",
    ")\n"
   ]
  },
  {
   "cell_type": "code",
   "execution_count": 146,
   "metadata": {},
   "outputs": [],
   "source": [
    "trans_idx_list,trans_point_list,trans_dist_list = list(zip(*[transdist.find_closest_trans_point(latlon) for latlon in grid_point_list]))\n",
    "trans_grid_layer = gmaps.symbol_layer(\n",
    "    trans_point_list, fill_color=(255,0,255), stroke_color=(255,0,255), scale=3\n",
    ")"
   ]
  },
  {
   "cell_type": "code",
   "execution_count": 148,
   "metadata": {},
   "outputs": [
    {
     "data": {
      "application/vnd.jupyter.widget-view+json": {
       "model_id": "28baa7a03b9844df816d4f352ebbd5e6",
       "version_major": 2,
       "version_minor": 0
      },
      "text/plain": [
       "Figure(layout=FigureLayout(height='600px', width='800px'))"
      ]
     },
     "metadata": {},
     "output_type": "display_data"
    }
   ],
   "source": [
    "# closest_layer = gmaps.symbol_layer(\n",
    "#     [closest_point], fill_color=\"red\", stroke_color=\"red\", scale=2\n",
    "# )\n",
    "# target_layer = gmaps.symbol_layer(\n",
    "#     [latlon], fill_color=(0,255,0), stroke_color=(0,255,0), scale=2\n",
    "# )\n",
    "\n",
    "fig = gmaps.figure(\n",
    "    layout={\n",
    "        'width': '800px',\n",
    "        'height': '600px',\n",
    "    })\n",
    "fig.add_layer(trans_layer)\n",
    "fig.add_layer(grid_layer)\n",
    "fig.add_layer(trans_grid_layer)\n",
    "fig"
   ]
  },
  {
   "cell_type": "code",
   "execution_count": 129,
   "metadata": {},
   "outputs": [
    {
     "name": "stdout",
     "output_type": "stream",
     "text": [
      "cross validation scores: [ 0.39319975 -0.28086299 -0.05885783 -0.8864213   0.12697556]\n",
      "training data\n",
      "0.3155372391826523\n",
      "testing data\n",
      "-1.7370507102813981\n"
     ]
    }
   ],
   "source": [
    "wind_farm_data = pd.read_pickle('data/select-wind-power.pkl')\n",
    "#features = ['mean_wind_speed','mean_cubed_wind_speed','elevation']\n",
    "features = wind.features\n",
    "model = wind.fit_model(wind_farm_data,features)"
   ]
  },
  {
   "cell_type": "code",
   "execution_count": 57,
   "metadata": {},
   "outputs": [],
   "source": [
    "nrel = wind.setup_nrel()"
   ]
  },
  {
   "cell_type": "code",
   "execution_count": 121,
   "metadata": {},
   "outputs": [
    {
     "name": "stdout",
     "output_type": "stream",
     "text": [
      "CPU times: user 4.87 s, sys: 431 ms, total: 5.3 s\n",
      "Wall time: 1min 49s\n"
     ]
    }
   ],
   "source": [
    "%time testX1 = np.array([wind.latlon_to_features(nrel,latlon,wind.features) for latlon in trans_point_list])\n",
    "testX2 = np.array([wind.latlon_to_features(nrel,latlon,wind.features) for latlon in grid_point_list])"
   ]
  },
  {
   "cell_type": "code",
   "execution_count": 122,
   "metadata": {},
   "outputs": [],
   "source": [
    "y1 = model.predict(testX1)\n",
    "y2 = model.predict(testX2)\n",
    "y = np.concatenate((y2,y1))"
   ]
  },
  {
   "cell_type": "code",
   "execution_count": 131,
   "metadata": {},
   "outputs": [
    {
     "data": {
      "text/plain": [
       "<matplotlib.image.AxesImage at 0x13bdec8b0>"
      ]
     },
     "execution_count": 131,
     "metadata": {},
     "output_type": "execute_result"
    },
    {
     "data": {
      "image/png": "[encoded data removed]",
      "text/plain": [
       "<Figure size 432x288 with 1 Axes>"
      ]
     },
     "metadata": {
      "needs_background": "light"
     },
     "output_type": "display_data"
    }
   ],
   "source": [
    "plt.imshow(y2.reshape(10,10))"
   ]
  },
  {
   "cell_type": "code",
   "execution_count": 100,
   "metadata": {},
   "outputs": [
    {
     "data": {
      "text/plain": [
       "<matplotlib.collections.PathCollection at 0x12c9a6130>"
      ]
     },
     "execution_count": 100,
     "metadata": {},
     "output_type": "execute_result"
    },
    {
     "data": {
      "image/png": "[encoded data removed]",
      "text/plain": [
       "<Figure size 432x288 with 1 Axes>"
      ]
     },
     "metadata": {
      "needs_background": "light"
     },
     "output_type": "display_data"
    }
   ],
   "source": [
    "plt.scatter(trans_dist_list,y1)"
   ]
  },
  {
   "cell_type": "code",
   "execution_count": 150,
   "metadata": {},
   "outputs": [],
   "source": [
    "#pd.read_pickle('data/select-wind-power.pkl').to_pickle('data/select-wind-power_p3.pkl',protocol = 3)"
   ]
  },
  {
   "cell_type": "code",
   "execution_count": 149,
   "metadata": {},
   "outputs": [],
   "source": [
    "#fopt_grid_vals.to_pickle('test_opt_grid_vals_10x10_p3.pkl',protocol=3)"
   ]
  },
  {
   "cell_type": "code",
   "execution_count": 125,
   "metadata": {},
   "outputs": [],
   "source": [
    "lats, lons = zip(*(grid_point_list + list(trans_point_list)))\n",
    "opt_grid_vals = pd.DataFrame({'latitude' : lats, 'longitude' : lons,\n",
    "              'frac_capacity' : y, 'trans_dist' : (list(trans_dist_list)+[0 for _ in grid_point_list])})\n",
    "#fopt_grid_vals.to_pickle('test_opt_grid_vals_10x10.pkl')"
   ]
  },
  {
   "cell_type": "code",
   "execution_count": 115,
   "metadata": {},
   "outputs": [
    {
     "data": {
      "text/html": [
       "<div>\n",
       "<style scoped>\n",
       "    .dataframe tbody tr th:only-of-type {\n",
       "        vertical-align: middle;\n",
       "    }\n",
       "\n",
       "    .dataframe tbody tr th {\n",
       "        vertical-align: top;\n",
       "    }\n",
       "\n",
       "    .dataframe thead th {\n",
       "        text-align: right;\n",
       "    }\n",
       "</style>\n",
       "<table border=\"1\" class=\"dataframe\">\n",
       "  <thead>\n",
       "    <tr style=\"text-align: right;\">\n",
       "      <th></th>\n",
       "      <th>latitude</th>\n",
       "      <th>longitude</th>\n",
       "      <th>frac_capacity</th>\n",
       "      <th>trans_dist</th>\n",
       "    </tr>\n",
       "  </thead>\n",
       "  <tbody>\n",
       "    <tr>\n",
       "      <th>0</th>\n",
       "      <td>32.500000</td>\n",
       "      <td>-118.500000</td>\n",
       "      <td>0.376165</td>\n",
       "      <td>0.000000</td>\n",
       "    </tr>\n",
       "    <tr>\n",
       "      <th>1</th>\n",
       "      <td>32.500000</td>\n",
       "      <td>-117.375000</td>\n",
       "      <td>0.229288</td>\n",
       "      <td>0.000000</td>\n",
       "    </tr>\n",
       "    <tr>\n",
       "      <th>2</th>\n",
       "      <td>32.500000</td>\n",
       "      <td>-116.250000</td>\n",
       "      <td>0.327096</td>\n",
       "      <td>0.000000</td>\n",
       "    </tr>\n",
       "    <tr>\n",
       "      <th>3</th>\n",
       "      <td>32.500000</td>\n",
       "      <td>-115.125000</td>\n",
       "      <td>0.077938</td>\n",
       "      <td>0.000000</td>\n",
       "    </tr>\n",
       "    <tr>\n",
       "      <th>4</th>\n",
       "      <td>32.500000</td>\n",
       "      <td>-114.000000</td>\n",
       "      <td>0.051991</td>\n",
       "      <td>0.000000</td>\n",
       "    </tr>\n",
       "    <tr>\n",
       "      <th>5</th>\n",
       "      <td>32.993125</td>\n",
       "      <td>-118.500000</td>\n",
       "      <td>0.303038</td>\n",
       "      <td>0.000000</td>\n",
       "    </tr>\n",
       "    <tr>\n",
       "      <th>6</th>\n",
       "      <td>32.993125</td>\n",
       "      <td>-117.375000</td>\n",
       "      <td>0.155764</td>\n",
       "      <td>0.000000</td>\n",
       "    </tr>\n",
       "    <tr>\n",
       "      <th>7</th>\n",
       "      <td>32.993125</td>\n",
       "      <td>-116.250000</td>\n",
       "      <td>0.159645</td>\n",
       "      <td>0.000000</td>\n",
       "    </tr>\n",
       "    <tr>\n",
       "      <th>8</th>\n",
       "      <td>32.993125</td>\n",
       "      <td>-115.125000</td>\n",
       "      <td>0.028600</td>\n",
       "      <td>0.000000</td>\n",
       "    </tr>\n",
       "    <tr>\n",
       "      <th>9</th>\n",
       "      <td>32.993125</td>\n",
       "      <td>-114.000000</td>\n",
       "      <td>-0.011693</td>\n",
       "      <td>0.000000</td>\n",
       "    </tr>\n",
       "    <tr>\n",
       "      <th>10</th>\n",
       "      <td>33.486249</td>\n",
       "      <td>-118.500000</td>\n",
       "      <td>0.286422</td>\n",
       "      <td>0.000000</td>\n",
       "    </tr>\n",
       "    <tr>\n",
       "      <th>11</th>\n",
       "      <td>33.486249</td>\n",
       "      <td>-117.375000</td>\n",
       "      <td>0.206546</td>\n",
       "      <td>0.000000</td>\n",
       "    </tr>\n",
       "    <tr>\n",
       "      <th>12</th>\n",
       "      <td>33.486249</td>\n",
       "      <td>-116.250000</td>\n",
       "      <td>0.071355</td>\n",
       "      <td>0.000000</td>\n",
       "    </tr>\n",
       "    <tr>\n",
       "      <th>13</th>\n",
       "      <td>33.486249</td>\n",
       "      <td>-115.125000</td>\n",
       "      <td>0.066460</td>\n",
       "      <td>0.000000</td>\n",
       "    </tr>\n",
       "    <tr>\n",
       "      <th>14</th>\n",
       "      <td>33.486249</td>\n",
       "      <td>-114.000000</td>\n",
       "      <td>-0.096718</td>\n",
       "      <td>0.000000</td>\n",
       "    </tr>\n",
       "    <tr>\n",
       "      <th>15</th>\n",
       "      <td>33.979374</td>\n",
       "      <td>-118.500000</td>\n",
       "      <td>0.220555</td>\n",
       "      <td>0.000000</td>\n",
       "    </tr>\n",
       "    <tr>\n",
       "      <th>16</th>\n",
       "      <td>33.979374</td>\n",
       "      <td>-117.375000</td>\n",
       "      <td>0.112261</td>\n",
       "      <td>0.000000</td>\n",
       "    </tr>\n",
       "    <tr>\n",
       "      <th>17</th>\n",
       "      <td>33.979374</td>\n",
       "      <td>-116.250000</td>\n",
       "      <td>0.179264</td>\n",
       "      <td>0.000000</td>\n",
       "    </tr>\n",
       "    <tr>\n",
       "      <th>18</th>\n",
       "      <td>33.979374</td>\n",
       "      <td>-115.125000</td>\n",
       "      <td>0.019535</td>\n",
       "      <td>0.000000</td>\n",
       "    </tr>\n",
       "    <tr>\n",
       "      <th>19</th>\n",
       "      <td>33.979374</td>\n",
       "      <td>-114.000000</td>\n",
       "      <td>-0.165733</td>\n",
       "      <td>0.000000</td>\n",
       "    </tr>\n",
       "    <tr>\n",
       "      <th>20</th>\n",
       "      <td>34.472499</td>\n",
       "      <td>-118.500000</td>\n",
       "      <td>0.239109</td>\n",
       "      <td>0.000000</td>\n",
       "    </tr>\n",
       "    <tr>\n",
       "      <th>21</th>\n",
       "      <td>34.472499</td>\n",
       "      <td>-117.375000</td>\n",
       "      <td>0.189339</td>\n",
       "      <td>0.000000</td>\n",
       "    </tr>\n",
       "    <tr>\n",
       "      <th>22</th>\n",
       "      <td>34.472499</td>\n",
       "      <td>-116.250000</td>\n",
       "      <td>0.103013</td>\n",
       "      <td>0.000000</td>\n",
       "    </tr>\n",
       "    <tr>\n",
       "      <th>23</th>\n",
       "      <td>34.472499</td>\n",
       "      <td>-115.125000</td>\n",
       "      <td>-0.028761</td>\n",
       "      <td>0.000000</td>\n",
       "    </tr>\n",
       "    <tr>\n",
       "      <th>24</th>\n",
       "      <td>34.472499</td>\n",
       "      <td>-114.000000</td>\n",
       "      <td>-0.185531</td>\n",
       "      <td>0.000000</td>\n",
       "    </tr>\n",
       "    <tr>\n",
       "      <th>25</th>\n",
       "      <td>33.370025</td>\n",
       "      <td>-117.554958</td>\n",
       "      <td>0.163147</td>\n",
       "      <td>81.304778</td>\n",
       "    </tr>\n",
       "    <tr>\n",
       "      <th>26</th>\n",
       "      <td>32.607663</td>\n",
       "      <td>-117.093292</td>\n",
       "      <td>0.201943</td>\n",
       "      <td>18.036753</td>\n",
       "    </tr>\n",
       "    <tr>\n",
       "      <th>27</th>\n",
       "      <td>32.613150</td>\n",
       "      <td>-116.267322</td>\n",
       "      <td>0.342092</td>\n",
       "      <td>7.862228</td>\n",
       "    </tr>\n",
       "    <tr>\n",
       "      <th>28</th>\n",
       "      <td>32.701170</td>\n",
       "      <td>-115.124627</td>\n",
       "      <td>0.073980</td>\n",
       "      <td>13.862331</td>\n",
       "    </tr>\n",
       "    <tr>\n",
       "      <th>29</th>\n",
       "      <td>32.777802</td>\n",
       "      <td>-114.386410</td>\n",
       "      <td>-0.006555</td>\n",
       "      <td>29.563996</td>\n",
       "    </tr>\n",
       "    <tr>\n",
       "      <th>30</th>\n",
       "      <td>33.797502</td>\n",
       "      <td>-118.258929</td>\n",
       "      <td>0.199097</td>\n",
       "      <td>57.160263</td>\n",
       "    </tr>\n",
       "    <tr>\n",
       "      <th>31</th>\n",
       "      <td>32.990963</td>\n",
       "      <td>-117.247113</td>\n",
       "      <td>0.160863</td>\n",
       "      <td>7.428466</td>\n",
       "    </tr>\n",
       "    <tr>\n",
       "      <th>32</th>\n",
       "      <td>32.787436</td>\n",
       "      <td>-116.339817</td>\n",
       "      <td>0.318411</td>\n",
       "      <td>15.105688</td>\n",
       "    </tr>\n",
       "    <tr>\n",
       "      <th>33</th>\n",
       "      <td>32.957004</td>\n",
       "      <td>-115.294082</td>\n",
       "      <td>0.045322</td>\n",
       "      <td>10.131759</td>\n",
       "    </tr>\n",
       "    <tr>\n",
       "      <th>34</th>\n",
       "      <td>32.781258</td>\n",
       "      <td>-114.383924</td>\n",
       "      <td>-0.003243</td>\n",
       "      <td>26.673070</td>\n",
       "    </tr>\n",
       "    <tr>\n",
       "      <th>35</th>\n",
       "      <td>33.797502</td>\n",
       "      <td>-118.258929</td>\n",
       "      <td>0.199097</td>\n",
       "      <td>25.559352</td>\n",
       "    </tr>\n",
       "    <tr>\n",
       "      <th>36</th>\n",
       "      <td>33.455557</td>\n",
       "      <td>-117.400979</td>\n",
       "      <td>0.226472</td>\n",
       "      <td>2.593417</td>\n",
       "    </tr>\n",
       "    <tr>\n",
       "      <th>37</th>\n",
       "      <td>33.584012</td>\n",
       "      <td>-116.215897</td>\n",
       "      <td>0.032172</td>\n",
       "      <td>7.019257</td>\n",
       "    </tr>\n",
       "    <tr>\n",
       "      <th>38</th>\n",
       "      <td>33.415142</td>\n",
       "      <td>-115.123715</td>\n",
       "      <td>0.086384</td>\n",
       "      <td>4.901162</td>\n",
       "    </tr>\n",
       "    <tr>\n",
       "      <th>39</th>\n",
       "      <td>33.561649</td>\n",
       "      <td>-114.481418</td>\n",
       "      <td>-0.071111</td>\n",
       "      <td>28.270761</td>\n",
       "    </tr>\n",
       "    <tr>\n",
       "      <th>40</th>\n",
       "      <td>33.977765</td>\n",
       "      <td>-118.436898</td>\n",
       "      <td>0.207209</td>\n",
       "      <td>3.624995</td>\n",
       "    </tr>\n",
       "    <tr>\n",
       "      <th>41</th>\n",
       "      <td>34.012044</td>\n",
       "      <td>-117.333157</td>\n",
       "      <td>0.094612</td>\n",
       "      <td>3.292485</td>\n",
       "    </tr>\n",
       "    <tr>\n",
       "      <th>42</th>\n",
       "      <td>34.129578</td>\n",
       "      <td>-116.250544</td>\n",
       "      <td>0.023450</td>\n",
       "      <td>10.352804</td>\n",
       "    </tr>\n",
       "    <tr>\n",
       "      <th>43</th>\n",
       "      <td>34.047553</td>\n",
       "      <td>-115.212041</td>\n",
       "      <td>0.016011</td>\n",
       "      <td>6.858610</td>\n",
       "    </tr>\n",
       "    <tr>\n",
       "      <th>44</th>\n",
       "      <td>34.099701</td>\n",
       "      <td>-113.941833</td>\n",
       "      <td>-0.152622</td>\n",
       "      <td>8.939820</td>\n",
       "    </tr>\n",
       "    <tr>\n",
       "      <th>45</th>\n",
       "      <td>34.467352</td>\n",
       "      <td>-118.497906</td>\n",
       "      <td>0.228044</td>\n",
       "      <td>0.374373</td>\n",
       "    </tr>\n",
       "    <tr>\n",
       "      <th>46</th>\n",
       "      <td>34.471882</td>\n",
       "      <td>-117.375629</td>\n",
       "      <td>0.189543</td>\n",
       "      <td>0.055618</td>\n",
       "    </tr>\n",
       "    <tr>\n",
       "      <th>47</th>\n",
       "      <td>34.745364</td>\n",
       "      <td>-116.214154</td>\n",
       "      <td>0.008024</td>\n",
       "      <td>18.919426</td>\n",
       "    </tr>\n",
       "    <tr>\n",
       "      <th>48</th>\n",
       "      <td>34.457743</td>\n",
       "      <td>-115.056436</td>\n",
       "      <td>-0.059468</td>\n",
       "      <td>4.044370</td>\n",
       "    </tr>\n",
       "    <tr>\n",
       "      <th>49</th>\n",
       "      <td>34.289394</td>\n",
       "      <td>-114.133154</td>\n",
       "      <td>-0.177552</td>\n",
       "      <td>14.737543</td>\n",
       "    </tr>\n",
       "  </tbody>\n",
       "</table>\n",
       "</div>"
      ],
      "text/plain": [
       "     latitude   longitude  frac_capacity  trans_dist\n",
       "0   32.500000 -118.500000       0.376165    0.000000\n",
       "1   32.500000 -117.375000       0.229288    0.000000\n",
       "2   32.500000 -116.250000       0.327096    0.000000\n",
       "3   32.500000 -115.125000       0.077938    0.000000\n",
       "4   32.500000 -114.000000       0.051991    0.000000\n",
       "5   32.993125 -118.500000       0.303038    0.000000\n",
       "6   32.993125 -117.375000       0.155764    0.000000\n",
       "7   32.993125 -116.250000       0.159645    0.000000\n",
       "8   32.993125 -115.125000       0.028600    0.000000\n",
       "9   32.993125 -114.000000      -0.011693    0.000000\n",
       "10  33.486249 -118.500000       0.286422    0.000000\n",
       "11  33.486249 -117.375000       0.206546    0.000000\n",
       "12  33.486249 -116.250000       0.071355    0.000000\n",
       "13  33.486249 -115.125000       0.066460    0.000000\n",
       "14  33.486249 -114.000000      -0.096718    0.000000\n",
       "15  33.979374 -118.500000       0.220555    0.000000\n",
       "16  33.979374 -117.375000       0.112261    0.000000\n",
       "17  33.979374 -116.250000       0.179264    0.000000\n",
       "18  33.979374 -115.125000       0.019535    0.000000\n",
       "19  33.979374 -114.000000      -0.165733    0.000000\n",
       "20  34.472499 -118.500000       0.239109    0.000000\n",
       "21  34.472499 -117.375000       0.189339    0.000000\n",
       "22  34.472499 -116.250000       0.103013    0.000000\n",
       "23  34.472499 -115.125000      -0.028761    0.000000\n",
       "24  34.472499 -114.000000      -0.185531    0.000000\n",
       "25  33.370025 -117.554958       0.163147   81.304778\n",
       "26  32.607663 -117.093292       0.201943   18.036753\n",
       "27  32.613150 -116.267322       0.342092    7.862228\n",
       "28  32.701170 -115.124627       0.073980   13.862331\n",
       "29  32.777802 -114.386410      -0.006555   29.563996\n",
       "30  33.797502 -118.258929       0.199097   57.160263\n",
       "31  32.990963 -117.247113       0.160863    7.428466\n",
       "32  32.787436 -116.339817       0.318411   15.105688\n",
       "33  32.957004 -115.294082       0.045322   10.131759\n",
       "34  32.781258 -114.383924      -0.003243   26.673070\n",
       "35  33.797502 -118.258929       0.199097   25.559352\n",
       "36  33.455557 -117.400979       0.226472    2.593417\n",
       "37  33.584012 -116.215897       0.032172    7.019257\n",
       "38  33.415142 -115.123715       0.086384    4.901162\n",
       "39  33.561649 -114.481418      -0.071111   28.270761\n",
       "40  33.977765 -118.436898       0.207209    3.624995\n",
       "41  34.012044 -117.333157       0.094612    3.292485\n",
       "42  34.129578 -116.250544       0.023450   10.352804\n",
       "43  34.047553 -115.212041       0.016011    6.858610\n",
       "44  34.099701 -113.941833      -0.152622    8.939820\n",
       "45  34.467352 -118.497906       0.228044    0.374373\n",
       "46  34.471882 -117.375629       0.189543    0.055618\n",
       "47  34.745364 -116.214154       0.008024   18.919426\n",
       "48  34.457743 -115.056436      -0.059468    4.044370\n",
       "49  34.289394 -114.133154      -0.177552   14.737543"
      ]
     },
     "execution_count": 115,
     "metadata": {},
     "output_type": "execute_result"
    }
   ],
   "source": [
    "opt_grid_vals"
   ]
  },
  {
   "cell_type": "code",
   "execution_count": null,
   "metadata": {},
   "outputs": [],
   "source": []
  }
 ],
 "metadata": {
  "kernelspec": {
   "display_name": "Python 3",
   "language": "python",
   "name": "python3"
  },
  "language_info": {
   "codemirror_mode": {
    "name": "ipython",
    "version": 3
   },
   "file_extension": ".py",
   "mimetype": "text/x-python",
   "name": "python",
   "nbconvert_exporter": "python",
   "pygments_lexer": "ipython3",
   "version": "3.8.2"
  },
  "latex_envs": {
   "LaTeX_envs_menu_present": true,
   "autoclose": false,
   "autocomplete": true,
   "bibliofile": "biblio.bib",
   "cite_by": "apalike",
   "current_citInitial": 1,
   "eqLabelWithNumbers": true,
   "eqNumInitial": 1,
   "hotkeys": {
    "equation": "Ctrl-E",
    "itemize": "Ctrl-I"
   },
   "labels_anchors": false,
   "latex_user_defs": false,
   "report_style_numbering": false,
   "user_envs_cfg": false
  },
  "toc": {
   "base_numbering": 1,
   "nav_menu": {},
   "number_sections": true,
   "sideBar": true,
   "skip_h1_title": false,
   "title_cell": "Table of Contents",
   "title_sidebar": "Contents",
   "toc_cell": false,
   "toc_position": {},
   "toc_section_display": true,
   "toc_window_display": false
  },
  "varInspector": {
   "cols": {
    "lenName": 16,
    "lenType": 16,
    "lenVar": 40
   },
   "kernels_config": {
    "python": {
     "delete_cmd_postfix": "",
     "delete_cmd_prefix": "del ",
     "library": "var_list.py",
     "varRefreshCmd": "print(var_dic_list())"
    },
    "r": {
     "delete_cmd_postfix": ") ",
     "delete_cmd_prefix": "rm(",
     "library": "var_list.r",
     "varRefreshCmd": "cat(var_dic_list()) "
    }
   },
   "position": {
    "height": "633.5294189453125px",
    "left": "1261.5440673828125px",
    "right": "20px",
    "top": "120px",
    "width": "339.6323547363281px"
   },
   "types_to_exclude": [
    "module",
    "function",
    "builtin_function_or_method",
    "instance",
    "_Feature"
   ],
   "window_display": false
  }
 },
 "nbformat": 4,
 "nbformat_minor": 4
}
