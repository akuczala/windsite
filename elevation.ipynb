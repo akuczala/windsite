{
 "cells": [
  {
   "cell_type": "code",
   "execution_count": 9,
   "metadata": {},
   "outputs": [],
   "source": [
    "import pandas as pd\n",
    "import numpy as np\n",
    "import os\n",
    "import gmaps\n",
    "from matplotlib import pyplot as plt\n",
    "%matplotlib inline\n",
    "import json\n",
    "import requests"
   ]
  },
  {
   "cell_type": "code",
   "execution_count": 10,
   "metadata": {},
   "outputs": [],
   "source": [
    "#stolen from https://gist.github.com/Alliages/a858a59b2487d81eb66c0c3b62d042be\n",
    "\n",
    "def elevation(lat, lng):\n",
    "    apikey = os.environ[\"GOOGLE_API_KEY\"]\n",
    "    url = \"https://maps.googleapis.com/maps/api/elevation/json\"\n",
    "    request = requests.get(url+\"?locations=\"+str(lat)+\",\"+str(lng)+\"&key=\"+apikey)\n",
    "    try:\n",
    "        results = request.json().get('results')\n",
    "        if 0 < len(results):\n",
    "            elevation = results[0].get('elevation')\n",
    "            # ELEVATION\n",
    "            return elevation\n",
    "        else:\n",
    "            print('HTTP GET Request failed.')\n",
    "    except ValueError:\n",
    "        print('JSON decode failed: '+str(request))"
   ]
  },
  {
   "cell_type": "code",
   "execution_count": 12,
   "metadata": {},
   "outputs": [
    {
     "data": {
      "text/plain": [
       "1036.13330078125"
      ]
     },
     "execution_count": 12,
     "metadata": {},
     "output_type": "execute_result"
    }
   ],
   "source": [
    "elevation(35.0192,-118.3031)"
   ]
  },
  {
   "cell_type": "code",
   "execution_count": null,
   "metadata": {},
   "outputs": [],
   "source": [
    "35.0192\t-118.3031"
   ]
  }
 ],
 "metadata": {
  "kernelspec": {
   "display_name": "Python 3",
   "language": "python",
   "name": "python3"
  },
  "language_info": {
   "codemirror_mode": {
    "name": "ipython",
    "version": 3
   },
   "file_extension": ".py",
   "mimetype": "text/x-python",
   "name": "python",
   "nbconvert_exporter": "python",
   "pygments_lexer": "ipython3",
   "version": "3.8.2"
  }
 },
 "nbformat": 4,
 "nbformat_minor": 4
}
