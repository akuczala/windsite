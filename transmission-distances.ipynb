{
 "cells": [
  {
   "cell_type": "code",
   "execution_count": 1,
   "metadata": {},
   "outputs": [
    {
     "name": "stdout",
     "output_type": "stream",
     "text": [
      "Libraries loaded.\n"
     ]
    }
   ],
   "source": [
    "import pandas as pd\n",
    "import numpy as np\n",
    "import geopandas as gpd\n",
    "import requests\n",
    "from shapely.geometry import Point\n",
    "from matplotlib import pyplot as plt\n",
    "%matplotlib inline\n",
    "import time # NB: Use to limit rate of making requests to a website\n",
    "print('Libraries loaded.')"
   ]
  },
  {
   "cell_type": "code",
   "execution_count": 2,
   "metadata": {},
   "outputs": [],
   "source": [
    "def get_bounds(x):\n",
    "    return x.bounds"
   ]
  },
  {
   "cell_type": "code",
   "execution_count": 3,
   "metadata": {},
   "outputs": [
    {
     "name": "stdout",
     "output_type": "stream",
     "text": [
      "6793\n"
     ]
    }
   ],
   "source": [
    "#shape file\n",
    "trans_gdf = gpd.read_file('data/ca-transmission-lines/c1ba3265-9d1d-4aa2-88d2-d8e27e2d9e76202048-1-1beav9v.4src.shx')\n",
    "trans_gdf['length'] = pd.to_numeric(trans_gdf['Length_Fee'])\n",
    "trans_valid_gdf = trans_gdf[['kV_Sort','length','geometry']].dropna()\n",
    "print(len(trans_valid_gdf))"
   ]
  },
  {
   "cell_type": "code",
   "execution_count": 4,
   "metadata": {},
   "outputs": [
    {
     "name": "stdout",
     "output_type": "stream",
     "text": [
      "1741\n"
     ]
    }
   ],
   "source": [
    "MILE_FEET = 5280\n",
    "trans_long_gdf = trans_valid_gdf[trans_valid_gdf['length'] > MILE_FEET*5]\n",
    "print(len(trans_long_gdf))"
   ]
  },
  {
   "cell_type": "code",
   "execution_count": 7,
   "metadata": {},
   "outputs": [
    {
     "name": "stdout",
     "output_type": "stream",
     "text": [
      "883\n",
      "235\n"
     ]
    }
   ],
   "source": [
    "special_gdf = trans_valid_gdf[(trans_valid_gdf['kV_Sort'] > 100) & (trans_valid_gdf['length'] > MILE_FEET*5)].reset_index()\n",
    "print(len(special_gdf))\n",
    "special_gdf['bounds'] = pd.DataFrame(special_gdf['geometry'].apply(get_bounds).to_numpy().copy(),columns=['bounds'])\n",
    "# (minx, miny, maxx, maxy)\n",
    "max_lat = 34.472499\n",
    "#restrict to power lines in southern ca\n",
    "special_gdf = special_gdf[special_gdf['bounds'].apply(lambda x: x[1] < max_lat)]\n",
    "print(len(special_gdf))"
   ]
  },
  {
   "cell_type": "code",
   "execution_count": 97,
   "metadata": {},
   "outputs": [
    {
     "name": "stdout",
     "output_type": "stream",
     "text": [
      "32241\n"
     ]
    }
   ],
   "source": [
    "#check total number of points\n",
    "def get_npoints(x):\n",
    "    try:\n",
    "        return len(x.coords)\n",
    "    except:\n",
    "        return sum([len(line.coords) for line in x])\n",
    "            \n",
    "n_pts = sum(special_gdf['geometry'].apply(get_npoints))\n",
    "print(n_pts)"
   ]
  },
  {
   "cell_type": "code",
   "execution_count": 55,
   "metadata": {},
   "outputs": [
    {
     "name": "stdout",
     "output_type": "stream",
     "text": [
      "CPU times: user 30.5 ms, sys: 2.07 ms, total: 32.6 ms\n",
      "Wall time: 30.9 ms\n",
      "(33.3397033880133, -115.558201665591) 11.547963439650962\n"
     ]
    }
   ],
   "source": [
    "from shapely.geometry.linestring import LineString\n",
    "from geopy.distance import distance\n",
    "FAR = (-1000,-100)\n",
    "def sq_dist(lonlat1,lonlat2): #should use geopy dist here\n",
    "    return (lonlat1[0]-lonlat2[0])**2 + \\\n",
    "    (lonlat1[1]-lonlat2[1])**2\n",
    "def find_closest_in_geo(geo,lonlat):\n",
    "    #closest = FAR\n",
    "    if type(geo) == LineString:\n",
    "        best_idx = np.argmin([sq_dist(lonlat,p) for p in geo.coords])\n",
    "        return geo.coords[int(best_idx)]\n",
    "    else:\n",
    "        closest_coords = [\n",
    "            find_closest_in_geo(line,lonlat) for line in geo\n",
    "        ]\n",
    "        best_idx = int(np.argmin([sq_dist(lonlat,p) for p in closest_coords]))\n",
    "        return closest_coords[best_idx]\n",
    "def find_closest_trans_point(data,latlon):\n",
    "    lonlat = latlon[::-1]\n",
    "    closest_coords = [find_closest_in_geo(special_gdf['geometry'].iloc[i],lonlat)\n",
    "                     for i in range(len(special_gdf))]\n",
    "    best_idx = int(np.argmin([sq_dist(lonlat,p) for p in closest_coords]))\n",
    "    return (best_idx,closest_coords[best_idx][::-1]) #convert back to latlon\n",
    "latlon = (33.5,-115.5)\n",
    "\n",
    "%time closest_idx, closest_point = find_closest_trans_point(special_gdf,latlon)\n",
    "trans_dist = distance(latlon,closest_point).miles\n",
    "print(closest_point,trans_dist)"
   ]
  },
  {
   "cell_type": "code",
   "execution_count": null,
   "metadata": {},
   "outputs": [],
   "source": []
  },
  {
   "cell_type": "code",
   "execution_count": 15,
   "metadata": {},
   "outputs": [],
   "source": [
    "#special_gdf[['geometry','kV_Sort']].to_file(\"special_gdf.geojson\", driver='GeoJSON')\n",
    "special_gdf.drop('bounds',axis=1).to_file(\"special_gdf.geojson\", driver='GeoJSON')\n",
    "with open('special_gdf.geojson','r') as f : \n",
    "    special_gdf_geojson = json.load(f)"
   ]
  },
  {
   "cell_type": "code",
   "execution_count": 21,
   "metadata": {},
   "outputs": [],
   "source": [
    "import gmaps\n",
    "import os\n",
    "gmaps.configure(api_key=os.environ[\"GOOGLE_API_KEY\"])\n",
    "import json\n",
    "trans_layer = gmaps.geojson_layer(special_gdf_geojson)"
   ]
  },
  {
   "cell_type": "code",
   "execution_count": 54,
   "metadata": {},
   "outputs": [
    {
     "data": {
      "application/vnd.jupyter.widget-view+json": {
       "model_id": "7730fa87e5da4b1f9db48275e1f5715b",
       "version_major": 2,
       "version_minor": 0
      },
      "text/plain": [
       "Figure(layout=FigureLayout(height='600px', width='800px'))"
      ]
     },
     "metadata": {},
     "output_type": "display_data"
    }
   ],
   "source": [
    "closest_layer = gmaps.symbol_layer(\n",
    "    [closest_point], fill_color=\"red\", stroke_color=\"red\", scale=2\n",
    ")\n",
    "target_layer = gmaps.symbol_layer(\n",
    "    [latlon], fill_color=(0,255,0), stroke_color=(0,255,0), scale=2\n",
    ")\n",
    "\n",
    "fig = gmaps.figure(\n",
    "    layout={\n",
    "        'width': '800px',\n",
    "        'height': '600px',\n",
    "    },\n",
    "    map_type='SATELLITE')\n",
    "fig.add_layer(trans_layer)\n",
    "fig.add_layer(closest_layer)\n",
    "fig.add_layer(target_layer)\n",
    "fig"
   ]
  },
  {
   "cell_type": "code",
   "execution_count": 147,
   "metadata": {},
   "outputs": [
    {
     "data": {
      "text/plain": [
       "(-116.730371024884, 33.7036940161665)"
      ]
     },
     "execution_count": 147,
     "metadata": {},
     "output_type": "execute_result"
    }
   ],
   "source": [
    "trans_long_gdf['geometry'].iloc[0].coords[2]"
   ]
  },
  {
   "cell_type": "code",
   "execution_count": null,
   "metadata": {},
   "outputs": [],
   "source": []
  }
 ],
 "metadata": {
  "kernelspec": {
   "display_name": "Python 3",
   "language": "python",
   "name": "python3"
  },
  "language_info": {
   "codemirror_mode": {
    "name": "ipython",
    "version": 3
   },
   "file_extension": ".py",
   "mimetype": "text/x-python",
   "name": "python",
   "nbconvert_exporter": "python",
   "pygments_lexer": "ipython3",
   "version": "3.8.2"
  },
  "latex_envs": {
   "LaTeX_envs_menu_present": true,
   "autoclose": false,
   "autocomplete": true,
   "bibliofile": "biblio.bib",
   "cite_by": "apalike",
   "current_citInitial": 1,
   "eqLabelWithNumbers": true,
   "eqNumInitial": 1,
   "hotkeys": {
    "equation": "Ctrl-E",
    "itemize": "Ctrl-I"
   },
   "labels_anchors": false,
   "latex_user_defs": false,
   "report_style_numbering": false,
   "user_envs_cfg": false
  },
  "toc": {
   "base_numbering": 1,
   "nav_menu": {},
   "number_sections": true,
   "sideBar": true,
   "skip_h1_title": false,
   "title_cell": "Table of Contents",
   "title_sidebar": "Contents",
   "toc_cell": false,
   "toc_position": {},
   "toc_section_display": true,
   "toc_window_display": false
  },
  "varInspector": {
   "cols": {
    "lenName": 16,
    "lenType": 16,
    "lenVar": 40
   },
   "kernels_config": {
    "python": {
     "delete_cmd_postfix": "",
     "delete_cmd_prefix": "del ",
     "library": "var_list.py",
     "varRefreshCmd": "print(var_dic_list())"
    },
    "r": {
     "delete_cmd_postfix": ") ",
     "delete_cmd_prefix": "rm(",
     "library": "var_list.r",
     "varRefreshCmd": "cat(var_dic_list()) "
    }
   },
   "types_to_exclude": [
    "module",
    "function",
    "builtin_function_or_method",
    "instance",
    "_Feature"
   ],
   "window_display": false
  }
 },
 "nbformat": 4,
 "nbformat_minor": 4
}
