{
 "cells": [
  {
   "cell_type": "code",
   "execution_count": 38,
   "metadata": {},
   "outputs": [],
   "source": [
    "import overpy\n",
    "import geopy\n",
    "api = overpy.Overpass()\n"
   ]
  },
  {
   "cell_type": "code",
   "execution_count": 10,
   "metadata": {},
   "outputs": [],
   "source": [
    "def make_query(lat,lon,radius=1000):\n",
    "    return \"\"\"<query type=\"way\">\n",
    "    <around lat=\" \"\"\" + str(lat) + \"\"\" \" lon=\" \"\"\" + str(lon) + \"\"\" \" radius=\" \"\"\" + str(radius) + \"\"\" \"/>\n",
    "    </query>\n",
    "    <union>\n",
    "      <item/>\n",
    "      <recurse type=\"down\"/>\n",
    "    </union>\n",
    "    <print/>\"\"\""
   ]
  },
  {
   "cell_type": "code",
   "execution_count": 11,
   "metadata": {},
   "outputs": [
    {
     "data": {
      "text/plain": [
       "'<query type=\"way\">\\n    <around lat=\" 33.255202 \" lon=\" -116.25851 \" radius=\" 1000 \"/>\\n    </query>\\n    <union>\\n      <item/>\\n      <recurse type=\"down\"/>\\n    </union>\\n    <print/>'"
      ]
     },
     "execution_count": 11,
     "metadata": {},
     "output_type": "execute_result"
    }
   ],
   "source": [
    "make_query(33.255202,-116.258510)"
   ]
  },
  {
   "cell_type": "code",
   "execution_count": 13,
   "metadata": {},
   "outputs": [
    {
     "name": "stdout",
     "output_type": "stream",
     "text": [
      "8\n",
      "  Highway: track\n",
      "  Highway: path\n",
      "  Highway: n/a\n",
      "  Highway: n/a\n",
      "  Highway: n/a\n",
      "  Highway: n/a\n",
      "  Highway: n/a\n",
      "  Highway: track\n"
     ]
    }
   ],
   "source": [
    "# fetch all ways and nodes\n",
    "example_query = \"\"\"\n",
    "    way(50.746,7.154,50.748,7.157) [\"highway\"];\n",
    "    (._;>;);\n",
    "    out body;\n",
    "    \"\"\"\n",
    "\n",
    "test_query = \"\"\"<query type=\"way\">\n",
    "    <around lat=\"33.255202\" lon=\"-116.258510\" radius=\"1000\"/>\n",
    "</query>\n",
    "<union>\n",
    "  <item/>\n",
    "  <recurse type=\"down\"/>\n",
    "</union>\n",
    "<print/>\"\"\"\n",
    "\n",
    "result = api.query(make_query(33.255202,-116.258510))\n",
    "\n",
    "print(len(result.ways))\n",
    "for way in result.ways:\n",
    "    \n",
    "    #print(\"Name: %s\" % way.tags.get(\"name\", \"n/a\"))\n",
    "    print(\"  Highway: %s\" % way.tags.get(\"highway\", \"n/a\"))\n",
    "    #print(\"  Nodes:\")\n",
    "    #for node in way.nodes:\n",
    "    #    print(\"    Lat: %f, Lon: %f\" % (node.lat, node.lon))"
   ]
  },
  {
   "cell_type": "code",
   "execution_count": 52,
   "metadata": {},
   "outputs": [],
   "source": [
    "from geopy.distance import distance\n",
    "def sq_dist(latlon1,latlon2):\n",
    "    return (latlon1[0]-latlon2[0])**2 + (latlon1[1]-latlon2[1])**2 \n",
    "def nearest_node(latlon,way):\n",
    "    dists = [distance(latlon,latlon_float((node.lat,node.lon))).miles for node in way.nodes]\n",
    "    idx = np.argmin(dists)\n",
    "    return (lambda n: latlon_float((n.lat,n.lon)))(way.nodes[idx]), np.min(dists)\n",
    "def latlon_float(latlon):\n",
    "    return (float(latlon[0]),float(latlon[1]))\n",
    "\n",
    "#consider removing motorway, residential\n",
    "def is_valid_highway(label):\n",
    "    valid_highways = 'motorway,trunk,primary,secondary,tertiary,unclassified,residential'.split(',')\n",
    "    return np.any([label == l for l in valid_highways]) \n",
    "\n",
    "def closest_valid_node(latlon,ways):\n",
    "    highway_labels = [way.tags.get(\"highway\", \"n/a\") for way in result.ways]\n",
    "    is_valid = list(map(is_valid_highway,highway_labels))\n",
    "    valid_ways = [way for way,v in zip(result.ways,is_valid) if v]\n",
    "    if len(valid_ways) == 0:\n",
    "        return (np.nan,np.nan), np.nan\n",
    "    coords, dists = zip(*[nearest_node(latlon,way) for way in valid_ways])\n",
    "    min_idx = np.argmin([dists])\n",
    "    min_dist = dists[min_idx]\n",
    "    min_coord = coords[min_idx]\n",
    "    return min_coord, min_dist"
   ]
  },
  {
   "cell_type": "code",
   "execution_count": 55,
   "metadata": {},
   "outputs": [
    {
     "name": "stdout",
     "output_type": "stream",
     "text": [
      "25\n",
      "((33.4714886, -117.018138), 0.22963041597937678)\n"
     ]
    }
   ],
   "source": [
    "latlon = (33.468705, -117.020323)\n",
    "result = api.query(make_query(*latlon))\n",
    "print(len(result.ways))\n",
    "print(closest_valid_node(latlon,result.ways))\n"
   ]
  },
  {
   "cell_type": "code",
   "execution_count": 46,
   "metadata": {},
   "outputs": [],
   "source": [
    "highway_labels = [way.tags.get(\"highway\", \"n/a\") for way in result.ways]\n",
    "is_valid = list(map(is_valid_highway,highway_labels))\n",
    "valid_ways = [way for way,v in zip(result.ways,is_valid) if v]\n",
    "coords, dists = zip(*[nearest_node(latlon,way) for way in valid_ways])\n",
    "min_idx = np.argmin([dists])\n",
    "min_dist = dists[min_idx]\n",
    "min_coord = coords[min_idx]"
   ]
  },
  {
   "cell_type": "code",
   "execution_count": 48,
   "metadata": {},
   "outputs": [
    {
     "data": {
      "text/plain": [
       "(32.729824, -116.866913)"
      ]
     },
     "execution_count": 48,
     "metadata": {},
     "output_type": "execute_result"
    }
   ],
   "source": [
    "min_coord"
   ]
  },
  {
   "cell_type": "code",
   "execution_count": null,
   "metadata": {},
   "outputs": [],
   "source": []
  }
 ],
 "metadata": {
  "kernelspec": {
   "display_name": "Python 3",
   "language": "python",
   "name": "python3"
  },
  "language_info": {
   "codemirror_mode": {
    "name": "ipython",
    "version": 3
   },
   "file_extension": ".py",
   "mimetype": "text/x-python",
   "name": "python",
   "nbconvert_exporter": "python",
   "pygments_lexer": "ipython3",
   "version": "3.8.2"
  },
  "latex_envs": {
   "LaTeX_envs_menu_present": true,
   "autoclose": false,
   "autocomplete": true,
   "bibliofile": "biblio.bib",
   "cite_by": "apalike",
   "current_citInitial": 1,
   "eqLabelWithNumbers": true,
   "eqNumInitial": 1,
   "hotkeys": {
    "equation": "Ctrl-E",
    "itemize": "Ctrl-I"
   },
   "labels_anchors": false,
   "latex_user_defs": false,
   "report_style_numbering": false,
   "user_envs_cfg": false
  },
  "toc": {
   "base_numbering": 1,
   "nav_menu": {},
   "number_sections": true,
   "sideBar": true,
   "skip_h1_title": false,
   "title_cell": "Table of Contents",
   "title_sidebar": "Contents",
   "toc_cell": false,
   "toc_position": {},
   "toc_section_display": true,
   "toc_window_display": false
  },
  "varInspector": {
   "cols": {
    "lenName": 16,
    "lenType": 16,
    "lenVar": 40
   },
   "kernels_config": {
    "python": {
     "delete_cmd_postfix": "",
     "delete_cmd_prefix": "del ",
     "library": "var_list.py",
     "varRefreshCmd": "print(var_dic_list())"
    },
    "r": {
     "delete_cmd_postfix": ") ",
     "delete_cmd_prefix": "rm(",
     "library": "var_list.r",
     "varRefreshCmd": "cat(var_dic_list()) "
    }
   },
   "types_to_exclude": [
    "module",
    "function",
    "builtin_function_or_method",
    "instance",
    "_Feature"
   ],
   "window_display": false
  }
 },
 "nbformat": 4,
 "nbformat_minor": 4
}
