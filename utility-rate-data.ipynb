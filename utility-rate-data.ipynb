{
 "cells": [
  {
   "cell_type": "code",
   "execution_count": 1,
   "metadata": {},
   "outputs": [],
   "source": [
    "import pandas as pd\n",
    "from matplotlib import pyplot as plt"
   ]
  },
  {
   "cell_type": "markdown",
   "metadata": {},
   "source": [
    "https://openei.org/wiki/Utility_Rate_Database"
   ]
  },
  {
   "cell_type": "markdown",
   "metadata": {},
   "source": [
    "# from file"
   ]
  },
  {
   "cell_type": "code",
   "execution_count": 15,
   "metadata": {},
   "outputs": [
    {
     "data": {
      "text/plain": [
       "Index(['_id', 'approved', 'demandKeyVals', 'demandMax', 'demandMin',\n",
       "       'demandRateUnits', 'effectiveDate', 'eiaId', 'energyRateStrux',\n",
       "       'energyWeekdaySched', 'energyWeekendSched', 'rateName', 'revisions',\n",
       "       'sector', 'sourceParent', 'sourceReference', 'utilityName',\n",
       "       'demandUnits', 'dgRules', 'fixedChargeFirstMeter', 'fixedChargeUnits',\n",
       "       'description', 'endDate', 'energyComments', 'flatDemandUnits',\n",
       "       'phaseWiring', 'basicComments', 'flatDemandMonths', 'flatDemandStrux',\n",
       "       'supercedes', 'voltageCategory', 'demandRateStrux',\n",
       "       'demandWeekdaySched', 'demandWeekendSched', 'serviceMin', 'serviceMax',\n",
       "       'demandComments', 'energyMax', 'demandHist', 'demandReactPwrCharge',\n",
       "       'fixedKeyVals', 'energyMin', 'demandRatchetPercentage', 'energyHist',\n",
       "       'minChargeUnits', 'minCharge', 'energyKeyVals', 'coincidentRateStrux',\n",
       "       'coincidentRateUnits', 'coincidentSched', 'demandWindow', 'is_default',\n",
       "       'serviceType', 'enddate', 'fuelAdjustmentsMonthly', 'loadFactorMin',\n",
       "       'loadFactorWindow', 'loadFactorMax', 'fixedChargeEaAddl',\n",
       "       'loadFactorHistory'],\n",
       "      dtype='object')"
      ]
     },
     "execution_count": 15,
     "metadata": {},
     "output_type": "execute_result"
    }
   ],
   "source": [
    "df = pd.read_json('data/utility-price-zip.json')\n",
    "df.columns"
   ]
  },
  {
   "cell_type": "code",
   "execution_count": 10,
   "metadata": {},
   "outputs": [],
   "source": [
    "def match_str(s,s_match):\n",
    "    if s_match in s:\n",
    "        return True\n",
    "    #print(s_match[-1])\n",
    "    if len(s) >= len(s_match[:-1]) and s_match[-1] == ' ': #check end, without space\n",
    "        #if s == 'Alta I' and s_match == 'Alta I ':\n",
    "            #print('|' + s[-len(s_match[:-1]):] + '|')\n",
    "            #print('|' + s_match[:-1] + '|')\n",
    "        if s[-len(s_match[:-1]):] == s_match[:-1]:\n",
    "            return True\n",
    "    return False\n",
    "def vec_str_in(s_arr,s_match):\n",
    "    return [match_str(str(s),s_match) for s in s_arr]\n",
    "def vec_all_str_in(s_arr,s_match_list):\n",
    "    return [np.all([match_str(str(s),s_match) for s_match in s_match_list]) for s in s_arr]"
   ]
  },
  {
   "cell_type": "code",
   "execution_count": null,
   "metadata": {},
   "outputs": [],
   "source": [
    "df.columns[vec_str_in(df.columns,con"
   ]
  },
  {
   "cell_type": "code",
   "execution_count": 20,
   "metadata": {},
   "outputs": [
    {
     "data": {
      "text/html": [
       "<div>\n",
       "<style scoped>\n",
       "    .dataframe tbody tr th:only-of-type {\n",
       "        vertical-align: middle;\n",
       "    }\n",
       "\n",
       "    .dataframe tbody tr th {\n",
       "        vertical-align: top;\n",
       "    }\n",
       "\n",
       "    .dataframe thead th {\n",
       "        text-align: right;\n",
       "    }\n",
       "</style>\n",
       "<table border=\"1\" class=\"dataframe\">\n",
       "  <thead>\n",
       "    <tr style=\"text-align: right;\">\n",
       "      <th></th>\n",
       "      <th>rateName</th>\n",
       "      <th>sector</th>\n",
       "    </tr>\n",
       "  </thead>\n",
       "  <tbody>\n",
       "    <tr>\n",
       "      <th>497</th>\n",
       "      <td>A (Primary)</td>\n",
       "      <td>Commercial</td>\n",
       "    </tr>\n",
       "    <tr>\n",
       "      <th>7753</th>\n",
       "      <td>DR- TOU- Inland Baseline Region</td>\n",
       "      <td>Residential</td>\n",
       "    </tr>\n",
       "    <tr>\n",
       "      <th>8244</th>\n",
       "      <td>DR - Desert Baseline Region</td>\n",
       "      <td>Residential</td>\n",
       "    </tr>\n",
       "    <tr>\n",
       "      <th>14158</th>\n",
       "      <td>DR-SES (Solar Energy Systems)</td>\n",
       "      <td>Residential</td>\n",
       "    </tr>\n",
       "    <tr>\n",
       "      <th>18451</th>\n",
       "      <td>AL-TOU Secondary</td>\n",
       "      <td>Commercial</td>\n",
       "    </tr>\n",
       "    <tr>\n",
       "      <th>...</th>\n",
       "      <td>...</td>\n",
       "      <td>...</td>\n",
       "    </tr>\n",
       "    <tr>\n",
       "      <th>49843</th>\n",
       "      <td>TOU-DR-1 Inland Baseline Region</td>\n",
       "      <td>Residential</td>\n",
       "    </tr>\n",
       "    <tr>\n",
       "      <th>49844</th>\n",
       "      <td>EV-TOU-2</td>\n",
       "      <td>Residential</td>\n",
       "    </tr>\n",
       "    <tr>\n",
       "      <th>49845</th>\n",
       "      <td>DG-R Primary (0-500 KW)</td>\n",
       "      <td>Commercial</td>\n",
       "    </tr>\n",
       "    <tr>\n",
       "      <th>49846</th>\n",
       "      <td>EV-TOU-5</td>\n",
       "      <td>Residential</td>\n",
       "    </tr>\n",
       "    <tr>\n",
       "      <th>52088</th>\n",
       "      <td>DR-TOU EXPERIMENTAL DOMESTIC TIME-OF-USE SERVI...</td>\n",
       "      <td>Residential</td>\n",
       "    </tr>\n",
       "  </tbody>\n",
       "</table>\n",
       "<p>309 rows × 2 columns</p>\n",
       "</div>"
      ],
      "text/plain": [
       "                                                rateName       sector\n",
       "497                                          A (Primary)   Commercial\n",
       "7753                     DR- TOU- Inland Baseline Region  Residential\n",
       "8244                         DR - Desert Baseline Region  Residential\n",
       "14158                      DR-SES (Solar Energy Systems)  Residential\n",
       "18451                                   AL-TOU Secondary   Commercial\n",
       "...                                                  ...          ...\n",
       "49843                    TOU-DR-1 Inland Baseline Region  Residential\n",
       "49844                                           EV-TOU-2  Residential\n",
       "49845                            DG-R Primary (0-500 KW)   Commercial\n",
       "49846                                           EV-TOU-5  Residential\n",
       "52088  DR-TOU EXPERIMENTAL DOMESTIC TIME-OF-USE SERVI...  Residential\n",
       "\n",
       "[309 rows x 2 columns]"
      ]
     },
     "execution_count": 20,
     "metadata": {},
     "output_type": "execute_result"
    }
   ],
   "source": [
    "df[df.utilityName == 'San Diego Gas & Electric Co'][['rateName','sector']]"
   ]
  },
  {
   "cell_type": "code",
   "execution_count": 6,
   "metadata": {},
   "outputs": [
    {
     "data": {
      "text/plain": [
       "0        STREET LIGHTING-ASSOCIATION-OWNED: High Pressu...\n",
       "1        SCHEDULE SL-1 STREET AND HIGHWAY LIGHTING SERV...\n",
       "2                          Public Street Lighting 400W HPS\n",
       "3         SCHEDULE OL - 250 watt high pressure sodium lamp\n",
       "4               Area Lighting - HPS 100W Open Air Security\n",
       "                               ...                        \n",
       "49483             Large General Service (34.5kV and above)\n",
       "49484       Large General Service (Secondary Distribution)\n",
       "49485    Industrial and Large Power Service (34.5kV and...\n",
       "49486    Industrial and Large Power Service (Secondary ...\n",
       "49487        Residential - Standard Distributed Generation\n",
       "Name: name, Length: 49488, dtype: object"
      ]
     },
     "execution_count": 6,
     "metadata": {},
     "output_type": "execute_result"
    }
   ],
   "source": [
    "df.name"
   ]
  },
  {
   "cell_type": "markdown",
   "metadata": {},
   "source": [
    "# from api"
   ]
  },
  {
   "cell_type": "code",
   "execution_count": 23,
   "metadata": {},
   "outputs": [],
   "source": [
    "import requests\n",
    "import os"
   ]
  },
  {
   "cell_type": "code",
   "execution_count": 32,
   "metadata": {},
   "outputs": [],
   "source": [
    "api_key = os.environ['OPENEI_API_KEY']\n",
    "#api_url_base = 'https://api.digitalocean.com/v2/'"
   ]
  },
  {
   "cell_type": "code",
   "execution_count": 34,
   "metadata": {},
   "outputs": [],
   "source": [
    "response = requests.get(\"https://api.openei.org/utility_rates?version=3&format=json&api_key=\" + api_key)"
   ]
  },
  {
   "cell_type": "code",
   "execution_count": 36,
   "metadata": {},
   "outputs": [
    {
     "data": {
      "text/plain": [
       "'https://api.openei.org/utility_rates?version=3&format=json&api_key=L1VQ3oR8PgrybNvo3eUXLXqq2HNhMm3zJ2Bh6xBn'"
      ]
     },
     "execution_count": 36,
     "metadata": {},
     "output_type": "execute_result"
    }
   ],
   "source": []
  },
  {
   "cell_type": "code",
   "execution_count": null,
   "metadata": {},
   "outputs": [],
   "source": []
  }
 ],
 "metadata": {
  "kernelspec": {
   "display_name": "Python 3",
   "language": "python",
   "name": "python3"
  },
  "language_info": {
   "codemirror_mode": {
    "name": "ipython",
    "version": 3
   },
   "file_extension": ".py",
   "mimetype": "text/x-python",
   "name": "python",
   "nbconvert_exporter": "python",
   "pygments_lexer": "ipython3",
   "version": "3.8.2"
  }
 },
 "nbformat": 4,
 "nbformat_minor": 4
}
