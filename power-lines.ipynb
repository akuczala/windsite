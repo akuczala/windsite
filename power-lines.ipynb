{
 "cells": [
  {
   "cell_type": "code",
   "execution_count": 30,
   "metadata": {},
   "outputs": [
    {
     "name": "stdout",
     "output_type": "stream",
     "text": [
      "Libraries loaded.\n"
     ]
    }
   ],
   "source": [
    "import pandas as pd\n",
    "import numpy as np\n",
    "import geopandas as gpd\n",
    "import requests\n",
    "from shapely.geometry import Point\n",
    "from matplotlib import pyplot as plt\n",
    "%matplotlib inline\n",
    "import time # NB: Use to limit rate of making requests to a website\n",
    "print('Libraries loaded.')"
   ]
  },
  {
   "cell_type": "code",
   "execution_count": 2,
   "metadata": {},
   "outputs": [],
   "source": [
    "#get list of all obstacle names\n",
    "with open(\"data/06-CA-noheader.Dat\",'r') as f:\n",
    "    lines = f.readlines()\n",
    "trunc_lines = [s[35:] for s in lines]\n",
    "with open(\"data/CA-obstacles.Dat\",'w') as f:\n",
    "    f.writelines(trunc_lines)"
   ]
  },
  {
   "cell_type": "code",
   "execution_count": 17,
   "metadata": {},
   "outputs": [],
   "source": [
    "df = pd.read_table(\"data/CA-obstacles.Dat\", sep=\"\\s+\",\n",
    "                   usecols=range(7),\n",
    "                   header=None)\n",
    "df.columns = ['lat_deg','lat_min','lat_sec','lon_deg','lon_min','lon_sec','name']"
   ]
  },
  {
   "cell_type": "code",
   "execution_count": 18,
   "metadata": {},
   "outputs": [
    {
     "data": {
      "text/plain": [
       "array(['TOWER', 'UTILITY', 'POLE', 'T-L', 'BLDG', 'STACK', 'ANTENNA',\n",
       "       'SOLAR', 'SIGN', 'ELEC', 'BLDG-TWR', 'CATENARY', 'VERTICAL',\n",
       "       'TANK', 'FENCE', 'CRANE', 'BRIDGE', 'WINDMILL', 'MONUMENT',\n",
       "       'SPIRE', 'CTRL', 'NAVAID', 'MET', 'AMUSEMENT', 'GEN', 'ELEVATOR',\n",
       "       'LANDFILL', 'BALLOON', 'DOME', 'PLANT', 'HEAT', 'DAM', 'REFINERY',\n",
       "       'WINDSOCK', 'RIG', 'SILO', 'STADIUM', 'AG', 'COOL'], dtype=object)"
      ]
     },
     "execution_count": 18,
     "metadata": {},
     "output_type": "execute_result"
    }
   ],
   "source": [
    "#list all obstacle names\n",
    "df['name'].unique()"
   ]
  },
  {
   "cell_type": "markdown",
   "metadata": {},
   "source": [
    "according to the FAA website, 'catenary' means 'the highest point in sag above ground' of power lines\n",
    "wouldn't that be the location of the transmission structures?"
   ]
  },
  {
   "cell_type": "code",
   "execution_count": 19,
   "metadata": {},
   "outputs": [
    {
     "data": {
      "text/html": [
       "<div>\n",
       "<style scoped>\n",
       "    .dataframe tbody tr th:only-of-type {\n",
       "        vertical-align: middle;\n",
       "    }\n",
       "\n",
       "    .dataframe tbody tr th {\n",
       "        vertical-align: top;\n",
       "    }\n",
       "\n",
       "    .dataframe thead th {\n",
       "        text-align: right;\n",
       "    }\n",
       "</style>\n",
       "<table border=\"1\" class=\"dataframe\">\n",
       "  <thead>\n",
       "    <tr style=\"text-align: right;\">\n",
       "      <th></th>\n",
       "      <th>latitude</th>\n",
       "      <th>longitude</th>\n",
       "    </tr>\n",
       "  </thead>\n",
       "  <tbody>\n",
       "    <tr>\n",
       "      <th>0</th>\n",
       "      <td>32.607408</td>\n",
       "      <td>-116.780339</td>\n",
       "    </tr>\n",
       "    <tr>\n",
       "      <th>1</th>\n",
       "      <td>32.613714</td>\n",
       "      <td>-116.266311</td>\n",
       "    </tr>\n",
       "    <tr>\n",
       "      <th>2</th>\n",
       "      <td>32.627903</td>\n",
       "      <td>-116.185831</td>\n",
       "    </tr>\n",
       "    <tr>\n",
       "      <th>3</th>\n",
       "      <td>32.628139</td>\n",
       "      <td>-116.183131</td>\n",
       "    </tr>\n",
       "    <tr>\n",
       "      <th>4</th>\n",
       "      <td>32.632814</td>\n",
       "      <td>-117.019833</td>\n",
       "    </tr>\n",
       "    <tr>\n",
       "      <th>...</th>\n",
       "      <td>...</td>\n",
       "      <td>...</td>\n",
       "    </tr>\n",
       "    <tr>\n",
       "      <th>1086</th>\n",
       "      <td>41.115556</td>\n",
       "      <td>-121.751111</td>\n",
       "    </tr>\n",
       "    <tr>\n",
       "      <th>1087</th>\n",
       "      <td>41.180556</td>\n",
       "      <td>-121.674444</td>\n",
       "    </tr>\n",
       "    <tr>\n",
       "      <th>1088</th>\n",
       "      <td>41.235556</td>\n",
       "      <td>-121.631667</td>\n",
       "    </tr>\n",
       "    <tr>\n",
       "      <th>1089</th>\n",
       "      <td>41.985833</td>\n",
       "      <td>-122.373333</td>\n",
       "    </tr>\n",
       "    <tr>\n",
       "      <th>1090</th>\n",
       "      <td>41.987500</td>\n",
       "      <td>-122.376389</td>\n",
       "    </tr>\n",
       "  </tbody>\n",
       "</table>\n",
       "<p>1091 rows × 2 columns</p>\n",
       "</div>"
      ],
      "text/plain": [
       "       latitude   longitude\n",
       "0     32.607408 -116.780339\n",
       "1     32.613714 -116.266311\n",
       "2     32.627903 -116.185831\n",
       "3     32.628139 -116.183131\n",
       "4     32.632814 -117.019833\n",
       "...         ...         ...\n",
       "1086  41.115556 -121.751111\n",
       "1087  41.180556 -121.674444\n",
       "1088  41.235556 -121.631667\n",
       "1089  41.985833 -122.373333\n",
       "1090  41.987500 -122.376389\n",
       "\n",
       "[1091 rows x 2 columns]"
      ]
     },
     "execution_count": 19,
     "metadata": {},
     "output_type": "execute_result"
    }
   ],
   "source": [
    "def to_dec_coords(sign,degree,minute,second):\n",
    "        return sign*(degree + minute/60 + second/(60*60))\n",
    "def convert_obstacle_df(df):\n",
    "    for c, cs in zip(['lat_sec','lon_sec'],['lat_sign','lon_sign']):\n",
    "        #convert cardinal direction to decimal degree sign\n",
    "        #for north america these will be the same for all rows (N,W)\n",
    "        df[cs] = df[c].apply(lambda s: \n",
    "                            {'N' : 1, 'S' : -1, 'E' : 1, 'W' : -1}[s[-1]]\n",
    "                            )\n",
    "        #drop N, W markers\n",
    "        df[c] = df[c].apply(lambda s: s[:-1])\n",
    "\n",
    "    #convert to float\n",
    "    for c in df.columns:\n",
    "        df[c] = df[c].astype(np.float)\n",
    "\n",
    "    df['latitude'] = to_dec_coords(df['lat_sign'],df['lat_deg'],df['lat_min'],df['lat_sec'])\n",
    "    df['longitude'] = to_dec_coords(df['lon_sign'],df['lon_deg'],df['lon_min'],df['lon_sec'])\n",
    "    return df[['latitude','longitude']]\n",
    "\n",
    "\n",
    "\n",
    "df_cat = df[df.name == 'CATENARY'].reset_index()\n",
    "df_cat = df_cat.drop(['name'],axis=1)\n",
    "df_cat = convert_obstacle_df(df_cat)\n",
    "\n",
    "df_cat"
   ]
  },
  {
   "cell_type": "markdown",
   "metadata": {},
   "source": [
    "## plot points on CA map"
   ]
  },
  {
   "cell_type": "code",
   "execution_count": 30,
   "metadata": {},
   "outputs": [],
   "source": [
    "usa_gpd = gpd.read_file('maps/states_21basic/states.shp')\n",
    "ca_gpd = usa_gpd[usa_gpd.STATE_ABBR == 'CA']\n",
    "df_cat['points'] =  [Point(xy) for xy in zip(df_cat['longitude'],df_cat['latitude'])]\n",
    "crs = usa_gpd.crs\n",
    "cat_gdf = gpd.GeoDataFrame(df_cat, crs = crs, geometry = df_cat['points'])"
   ]
  },
  {
   "cell_type": "code",
   "execution_count": 34,
   "metadata": {},
   "outputs": [
    {
     "data": {
      "text/plain": [
       "(33, 34)"
      ]
     },
     "execution_count": 34,
     "metadata": {},
     "output_type": "execute_result"
    },
    {
     "data": {
      "image/png": "[encoded data removed]",
      "text/plain": [
       "<Figure size 1080x576 with 1 Axes>"
      ]
     },
     "metadata": {
      "needs_background": "light"
     },
     "output_type": "display_data"
    }
   ],
   "source": [
    "fig, ax = plt.subplots(figsize=(15,8))\n",
    "#plot california\n",
    "base = ca_gpd.plot(color='white',edgecolor='black',ax=ax)\n",
    "#plot cat locations\n",
    "cat_gdf.plot(ax=ax,markersize=1)\n",
    "ax.set_xlim(-118,-116)\n",
    "ax.set_ylim(33,34)"
   ]
  },
  {
   "cell_type": "markdown",
   "metadata": {},
   "source": [
    "## plot points on google map"
   ]
  },
  {
   "cell_type": "code",
   "execution_count": 13,
   "metadata": {},
   "outputs": [],
   "source": [
    "import os\n",
    "import gmaps\n",
    "gmaps.configure(api_key=os.environ[\"GOOGLE_API_KEY\"])"
   ]
  },
  {
   "cell_type": "code",
   "execution_count": 8,
   "metadata": {},
   "outputs": [
    {
     "data": {
      "text/html": [
       "<div>\n",
       "<style scoped>\n",
       "    .dataframe tbody tr th:only-of-type {\n",
       "        vertical-align: middle;\n",
       "    }\n",
       "\n",
       "    .dataframe tbody tr th {\n",
       "        vertical-align: top;\n",
       "    }\n",
       "\n",
       "    .dataframe thead th {\n",
       "        text-align: right;\n",
       "    }\n",
       "</style>\n",
       "<table border=\"1\" class=\"dataframe\">\n",
       "  <thead>\n",
       "    <tr style=\"text-align: right;\">\n",
       "      <th></th>\n",
       "      <th>latitude</th>\n",
       "      <th>longitude</th>\n",
       "      <th>magnitude</th>\n",
       "    </tr>\n",
       "  </thead>\n",
       "  <tbody>\n",
       "    <tr>\n",
       "      <th>0</th>\n",
       "      <td>65.193300</td>\n",
       "      <td>-149.072500</td>\n",
       "      <td>1.70</td>\n",
       "    </tr>\n",
       "    <tr>\n",
       "      <th>1</th>\n",
       "      <td>38.791832</td>\n",
       "      <td>-122.780830</td>\n",
       "      <td>2.10</td>\n",
       "    </tr>\n",
       "    <tr>\n",
       "      <th>2</th>\n",
       "      <td>38.818001</td>\n",
       "      <td>-122.792168</td>\n",
       "      <td>0.48</td>\n",
       "    </tr>\n",
       "    <tr>\n",
       "      <th>3</th>\n",
       "      <td>33.601667</td>\n",
       "      <td>-116.727667</td>\n",
       "      <td>0.78</td>\n",
       "    </tr>\n",
       "    <tr>\n",
       "      <th>4</th>\n",
       "      <td>37.378334</td>\n",
       "      <td>-118.520836</td>\n",
       "      <td>3.64</td>\n",
       "    </tr>\n",
       "  </tbody>\n",
       "</table>\n",
       "</div>"
      ],
      "text/plain": [
       "    latitude   longitude  magnitude\n",
       "0  65.193300 -149.072500       1.70\n",
       "1  38.791832 -122.780830       2.10\n",
       "2  38.818001 -122.792168       0.48\n",
       "3  33.601667 -116.727667       0.78\n",
       "4  37.378334 -118.520836       3.64"
      ]
     },
     "execution_count": 8,
     "metadata": {},
     "output_type": "execute_result"
    }
   ],
   "source": [
    "import gmaps.datasets\n",
    "earthquake_df = gmaps.datasets.load_dataset_as_df('earthquakes')\n",
    "earthquake_df.head()"
   ]
  },
  {
   "cell_type": "code",
   "execution_count": 9,
   "metadata": {},
   "outputs": [
    {
     "data": {
      "text/plain": [
       "dict_keys(['taxi_rides', 'earthquakes', 'acled_africa', 'acled_africa_by_year', 'london_congestion_zone', 'nuclear_plants', 'starbucks_kfc_uk', 'gini'])"
      ]
     },
     "execution_count": 9,
     "metadata": {},
     "output_type": "execute_result"
    }
   ],
   "source": [
    "gmaps.datasets.list_datasets()"
   ]
  },
  {
   "cell_type": "code",
   "execution_count": 26,
   "metadata": {},
   "outputs": [],
   "source": [
    "locations = earthquake_df[['latitude', 'longitude']]\n",
    "weights = earthquake_df['magnitude']\n",
    "cat_layer = gmaps.symbol_layer(\n",
    "    df_cat, fill_color=\"red\", stroke_color=\"red\", scale=2\n",
    ")"
   ]
  },
  {
   "cell_type": "code",
   "execution_count": 29,
   "metadata": {},
   "outputs": [],
   "source": [
    "# fig = gmaps.figure(map_type='SATELLITE')\n",
    "# fig.add_layer(cat_layer)\n",
    "# fig\n"
   ]
  },
  {
   "cell_type": "code",
   "execution_count": 44,
   "metadata": {},
   "outputs": [],
   "source": [
    "#geojson\n",
    "r = requests.get('https://opendata.arcgis.com/datasets/a5b51de6cb3b47c794021c4358fad97e_0.geojson')\n",
    "trans_json = r.json()\n",
    "trans_layer = gmaps.geojson_layer(trans_json)"
   ]
  },
  {
   "cell_type": "code",
   "execution_count": 47,
   "metadata": {},
   "outputs": [],
   "source": [
    "usa_turbines = pd.read_csv('data/uswtdbCSV/uswtdb_v3_0_1_20200514.csv')\n",
    "ca_turbines = usa_turbines[usa_turbines.t_state == 'CA']\n",
    "ca_turbines = ca_turbines.rename(columns={\"xlong\" : \"longitude\", \"ylat\" : \"latitude\"})"
   ]
  },
  {
   "cell_type": "code",
   "execution_count": 63,
   "metadata": {},
   "outputs": [
    {
     "data": {
      "text/html": [
       "<div>\n",
       "<style scoped>\n",
       "    .dataframe tbody tr th:only-of-type {\n",
       "        vertical-align: middle;\n",
       "    }\n",
       "\n",
       "    .dataframe tbody tr th {\n",
       "        vertical-align: top;\n",
       "    }\n",
       "\n",
       "    .dataframe thead th {\n",
       "        text-align: right;\n",
       "    }\n",
       "</style>\n",
       "<table border=\"1\" class=\"dataframe\">\n",
       "  <thead>\n",
       "    <tr style=\"text-align: right;\">\n",
       "      <th></th>\n",
       "      <th>t_state</th>\n",
       "    </tr>\n",
       "    <tr>\n",
       "      <th>p_name</th>\n",
       "      <th></th>\n",
       "    </tr>\n",
       "  </thead>\n",
       "  <tbody>\n",
       "    <tr>\n",
       "      <th>unknown Tehachapi Wind Resource Area 1</th>\n",
       "      <td>772</td>\n",
       "    </tr>\n",
       "    <tr>\n",
       "      <th>Mesa Wind Farm</th>\n",
       "      <td>432</td>\n",
       "    </tr>\n",
       "    <tr>\n",
       "      <th>Sky River</th>\n",
       "      <td>327</td>\n",
       "    </tr>\n",
       "    <tr>\n",
       "      <th>Mojave 16, 17 &amp; 18 (Desertwind III PPC Tru</th>\n",
       "      <td>288</td>\n",
       "    </tr>\n",
       "    <tr>\n",
       "      <th>Ridgetop</th>\n",
       "      <td>228</td>\n",
       "    </tr>\n",
       "    <tr>\n",
       "      <th>Painted Hills</th>\n",
       "      <td>223</td>\n",
       "    </tr>\n",
       "    <tr>\n",
       "      <th>Historic Victory Garden (Wind Stream)</th>\n",
       "      <td>217</td>\n",
       "    </tr>\n",
       "    <tr>\n",
       "      <th>Tehachapi Windplant II</th>\n",
       "      <td>202</td>\n",
       "    </tr>\n",
       "    <tr>\n",
       "      <th>Difwind 6</th>\n",
       "      <td>199</td>\n",
       "    </tr>\n",
       "    <tr>\n",
       "      <th>Dinosaur Point</th>\n",
       "      <td>162</td>\n",
       "    </tr>\n",
       "  </tbody>\n",
       "</table>\n",
       "</div>"
      ],
      "text/plain": [
       "                                            t_state\n",
       "p_name                                             \n",
       "unknown Tehachapi Wind Resource Area 1          772\n",
       "Mesa Wind Farm                                  432\n",
       "Sky River                                       327\n",
       "Mojave 16, 17 & 18 (Desertwind III PPC Tru      288\n",
       "Ridgetop                                        228\n",
       "Painted Hills                                   223\n",
       "Historic Victory Garden (Wind Stream)           217\n",
       "Tehachapi Windplant II                          202\n",
       "Difwind 6                                       199\n",
       "Dinosaur Point                                  162"
      ]
     },
     "execution_count": 63,
     "metadata": {},
     "output_type": "execute_result"
    }
   ],
   "source": [
    "#count number of turbines at each plant\n",
    "ca_turbines[['p_name','t_state']].groupby(['p_name']).count().sort_values('t_state',ascending=False).head(10)"
   ]
  },
  {
   "cell_type": "code",
   "execution_count": 64,
   "metadata": {},
   "outputs": [],
   "source": [
    "turbine_layer = gmaps.symbol_layer(\n",
    "    ca_turbines[ca_turbines.p_name == 'Dinosaur Point'][['latitude','longitude']],\n",
    "    fill_color=\"red\", stroke_color=\"red\", scale=2)"
   ]
  },
  {
   "cell_type": "markdown",
   "metadata": {},
   "source": [
    "Many of  251 Wind turbines unaccounted for\n",
    "\n",
    "Most / all of Dinosaur point turbines accounted for"
   ]
  },
  {
   "cell_type": "code",
   "execution_count": 68,
   "metadata": {},
   "outputs": [
    {
     "data": {
      "application/vnd.jupyter.widget-view+json": {
       "model_id": "13a990a35b03432795a5a32928548138",
       "version_major": 2,
       "version_minor": 0
      },
      "text/plain": [
       "Figure(layout=FigureLayout(height='600px', width='800px'))"
      ]
     },
     "metadata": {},
     "output_type": "display_data"
    }
   ],
   "source": [
    "fig = gmaps.figure(\n",
    "    layout={\n",
    "        'width': '800px',\n",
    "        'height': '600px',\n",
    "    },\n",
    "    map_type='SATELLITE')\n",
    "fig.add_layer(trans_layer)\n",
    "fig.add_layer(turbine_layer)\n",
    "fig"
   ]
  },
  {
   "cell_type": "code",
   "execution_count": null,
   "metadata": {},
   "outputs": [],
   "source": []
  }
 ],
 "metadata": {
  "kernelspec": {
   "display_name": "Python 3",
   "language": "python",
   "name": "python3"
  },
  "language_info": {
   "codemirror_mode": {
    "name": "ipython",
    "version": 3
   },
   "file_extension": ".py",
   "mimetype": "text/x-python",
   "name": "python",
   "nbconvert_exporter": "python",
   "pygments_lexer": "ipython3",
   "version": "3.8.2"
  }
 },
 "nbformat": 4,
 "nbformat_minor": 4
}
