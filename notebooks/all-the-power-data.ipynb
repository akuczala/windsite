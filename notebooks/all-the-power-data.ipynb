{
 "cells": [
  {
   "cell_type": "code",
   "execution_count": 1,
   "metadata": {},
   "outputs": [],
   "source": [
    "import requests\n",
    "import pandas as pd\n",
    "import os\n",
    "import json\n",
    "\n",
    "eia_api_key = os.environ['EIA_API_KEY']\n",
    "\n",
    "import sys\n",
    "sys.path.append('/Users/kook/insight/windsite/src')"
   ]
  },
  {
   "cell_type": "code",
   "execution_count": 3,
   "metadata": {},
   "outputs": [
    {
     "data": {
      "text/html": [
       "<div>\n",
       "<style scoped>\n",
       "    .dataframe tbody tr th:only-of-type {\n",
       "        vertical-align: middle;\n",
       "    }\n",
       "\n",
       "    .dataframe tbody tr th {\n",
       "        vertical-align: top;\n",
       "    }\n",
       "\n",
       "    .dataframe thead th {\n",
       "        text-align: right;\n",
       "    }\n",
       "</style>\n",
       "<table border=\"1\" class=\"dataframe\">\n",
       "  <thead>\n",
       "    <tr style=\"text-align: right;\">\n",
       "      <th></th>\n",
       "      <th>case_id</th>\n",
       "      <th>faa_ors</th>\n",
       "      <th>faa_asn</th>\n",
       "      <th>usgs_pr_id</th>\n",
       "      <th>eia_id</th>\n",
       "      <th>t_state</th>\n",
       "      <th>t_county</th>\n",
       "      <th>t_fips</th>\n",
       "      <th>p_name</th>\n",
       "      <th>p_year</th>\n",
       "      <th>...</th>\n",
       "      <th>t_hh</th>\n",
       "      <th>t_rd</th>\n",
       "      <th>t_rsa</th>\n",
       "      <th>t_ttlh</th>\n",
       "      <th>t_conf_atr</th>\n",
       "      <th>t_conf_loc</th>\n",
       "      <th>t_img_date</th>\n",
       "      <th>t_img_srce</th>\n",
       "      <th>xlong</th>\n",
       "      <th>ylat</th>\n",
       "    </tr>\n",
       "  </thead>\n",
       "  <tbody>\n",
       "    <tr>\n",
       "      <th>0</th>\n",
       "      <td>3073326</td>\n",
       "      <td>NaN</td>\n",
       "      <td>NaN</td>\n",
       "      <td>4970.0</td>\n",
       "      <td>52161.0</td>\n",
       "      <td>CA</td>\n",
       "      <td>Kern County</td>\n",
       "      <td>6029</td>\n",
       "      <td>251 Wind</td>\n",
       "      <td>1987.0</td>\n",
       "      <td>...</td>\n",
       "      <td>NaN</td>\n",
       "      <td>NaN</td>\n",
       "      <td>NaN</td>\n",
       "      <td>NaN</td>\n",
       "      <td>2</td>\n",
       "      <td>3</td>\n",
       "      <td>5/8/2018</td>\n",
       "      <td>Digital Globe</td>\n",
       "      <td>-118.358871</td>\n",
       "      <td>35.084488</td>\n",
       "    </tr>\n",
       "    <tr>\n",
       "      <th>1</th>\n",
       "      <td>3073427</td>\n",
       "      <td>NaN</td>\n",
       "      <td>NaN</td>\n",
       "      <td>4954.0</td>\n",
       "      <td>52161.0</td>\n",
       "      <td>CA</td>\n",
       "      <td>Kern County</td>\n",
       "      <td>6029</td>\n",
       "      <td>251 Wind</td>\n",
       "      <td>1987.0</td>\n",
       "      <td>...</td>\n",
       "      <td>NaN</td>\n",
       "      <td>NaN</td>\n",
       "      <td>NaN</td>\n",
       "      <td>NaN</td>\n",
       "      <td>2</td>\n",
       "      <td>3</td>\n",
       "      <td>5/8/2018</td>\n",
       "      <td>Digital Globe</td>\n",
       "      <td>-118.362762</td>\n",
       "      <td>35.086163</td>\n",
       "    </tr>\n",
       "    <tr>\n",
       "      <th>2</th>\n",
       "      <td>3003862</td>\n",
       "      <td>NaN</td>\n",
       "      <td>NaN</td>\n",
       "      <td>5836.0</td>\n",
       "      <td>52161.0</td>\n",
       "      <td>CA</td>\n",
       "      <td>Kern County</td>\n",
       "      <td>6029</td>\n",
       "      <td>251 Wind</td>\n",
       "      <td>1987.0</td>\n",
       "      <td>...</td>\n",
       "      <td>NaN</td>\n",
       "      <td>NaN</td>\n",
       "      <td>NaN</td>\n",
       "      <td>NaN</td>\n",
       "      <td>2</td>\n",
       "      <td>3</td>\n",
       "      <td>5/8/2018</td>\n",
       "      <td>Digital Globe</td>\n",
       "      <td>-118.351288</td>\n",
       "      <td>35.091396</td>\n",
       "    </tr>\n",
       "    <tr>\n",
       "      <th>3</th>\n",
       "      <td>3072662</td>\n",
       "      <td>NaN</td>\n",
       "      <td>NaN</td>\n",
       "      <td>5113.0</td>\n",
       "      <td>52161.0</td>\n",
       "      <td>CA</td>\n",
       "      <td>Kern County</td>\n",
       "      <td>6029</td>\n",
       "      <td>251 Wind</td>\n",
       "      <td>1987.0</td>\n",
       "      <td>...</td>\n",
       "      <td>NaN</td>\n",
       "      <td>NaN</td>\n",
       "      <td>NaN</td>\n",
       "      <td>NaN</td>\n",
       "      <td>2</td>\n",
       "      <td>3</td>\n",
       "      <td>5/8/2018</td>\n",
       "      <td>Digital Globe</td>\n",
       "      <td>-118.368385</td>\n",
       "      <td>35.075634</td>\n",
       "    </tr>\n",
       "    <tr>\n",
       "      <th>4</th>\n",
       "      <td>3073445</td>\n",
       "      <td>NaN</td>\n",
       "      <td>NaN</td>\n",
       "      <td>4958.0</td>\n",
       "      <td>52161.0</td>\n",
       "      <td>CA</td>\n",
       "      <td>Kern County</td>\n",
       "      <td>6029</td>\n",
       "      <td>251 Wind</td>\n",
       "      <td>1987.0</td>\n",
       "      <td>...</td>\n",
       "      <td>NaN</td>\n",
       "      <td>NaN</td>\n",
       "      <td>NaN</td>\n",
       "      <td>NaN</td>\n",
       "      <td>2</td>\n",
       "      <td>3</td>\n",
       "      <td>5/8/2018</td>\n",
       "      <td>Digital Globe</td>\n",
       "      <td>-118.360405</td>\n",
       "      <td>35.084354</td>\n",
       "    </tr>\n",
       "  </tbody>\n",
       "</table>\n",
       "<p>5 rows × 25 columns</p>\n",
       "</div>"
      ],
      "text/plain": [
       "   case_id faa_ors faa_asn  usgs_pr_id   eia_id t_state     t_county  t_fips  \\\n",
       "0  3073326     NaN     NaN      4970.0  52161.0      CA  Kern County    6029   \n",
       "1  3073427     NaN     NaN      4954.0  52161.0      CA  Kern County    6029   \n",
       "2  3003862     NaN     NaN      5836.0  52161.0      CA  Kern County    6029   \n",
       "3  3072662     NaN     NaN      5113.0  52161.0      CA  Kern County    6029   \n",
       "4  3073445     NaN     NaN      4958.0  52161.0      CA  Kern County    6029   \n",
       "\n",
       "     p_name  p_year  ...  t_hh  t_rd t_rsa t_ttlh  t_conf_atr  t_conf_loc  \\\n",
       "0  251 Wind  1987.0  ...   NaN   NaN   NaN    NaN           2           3   \n",
       "1  251 Wind  1987.0  ...   NaN   NaN   NaN    NaN           2           3   \n",
       "2  251 Wind  1987.0  ...   NaN   NaN   NaN    NaN           2           3   \n",
       "3  251 Wind  1987.0  ...   NaN   NaN   NaN    NaN           2           3   \n",
       "4  251 Wind  1987.0  ...   NaN   NaN   NaN    NaN           2           3   \n",
       "\n",
       "   t_img_date     t_img_srce       xlong       ylat  \n",
       "0    5/8/2018  Digital Globe -118.358871  35.084488  \n",
       "1    5/8/2018  Digital Globe -118.362762  35.086163  \n",
       "2    5/8/2018  Digital Globe -118.351288  35.091396  \n",
       "3    5/8/2018  Digital Globe -118.368385  35.075634  \n",
       "4    5/8/2018  Digital Globe -118.360405  35.084354  \n",
       "\n",
       "[5 rows x 25 columns]"
      ]
     },
     "execution_count": 3,
     "metadata": {},
     "output_type": "execute_result"
    }
   ],
   "source": [
    "usw_df = pd.read_csv('../data/uswtdbCSV/uswtdb_v3_0_1_20200514.csv')\n",
    "usw_df.head()"
   ]
  },
  {
   "cell_type": "code",
   "execution_count": 4,
   "metadata": {
    "scrolled": true
   },
   "outputs": [
    {
     "ename": "NameError",
     "evalue": "name 'plant_df' is not defined",
     "output_type": "error",
     "traceback": [
      "\u001b[0;31m---------------------------------------------------------------------------\u001b[0m",
      "\u001b[0;31mNameError\u001b[0m                                 Traceback (most recent call last)",
      "\u001b[0;32m<ipython-input-4-b0d729a6e003>\u001b[0m in \u001b[0;36m<module>\u001b[0;34m\u001b[0m\n\u001b[0;32m----> 1\u001b[0;31m \u001b[0mprint\u001b[0m\u001b[0;34m(\u001b[0m\u001b[0mnp\u001b[0m\u001b[0;34m.\u001b[0m\u001b[0mcount_nonzero\u001b[0m\u001b[0;34m(\u001b[0m\u001b[0;34m[\u001b[0m\u001b[0mlen\u001b[0m\u001b[0;34m(\u001b[0m\u001b[0musw_df\u001b[0m\u001b[0;34m[\u001b[0m\u001b[0musw_df\u001b[0m\u001b[0;34m.\u001b[0m\u001b[0meia_id\u001b[0m \u001b[0;34m==\u001b[0m \u001b[0meia_id\u001b[0m\u001b[0;34m]\u001b[0m\u001b[0;34m)\u001b[0m\u001b[0;34m>\u001b[0m\u001b[0;36m0\u001b[0m \u001b[0;32mfor\u001b[0m \u001b[0meia_id\u001b[0m \u001b[0;32min\u001b[0m \u001b[0mplant_df\u001b[0m\u001b[0;34m[\u001b[0m\u001b[0;34m'Plant Code'\u001b[0m\u001b[0;34m]\u001b[0m\u001b[0;34m]\u001b[0m\u001b[0;34m)\u001b[0m\u001b[0;34m)\u001b[0m\u001b[0;34m\u001b[0m\u001b[0;34m\u001b[0m\u001b[0m\n\u001b[0m\u001b[1;32m      2\u001b[0m \u001b[0mprint\u001b[0m\u001b[0;34m(\u001b[0m\u001b[0mlen\u001b[0m\u001b[0;34m(\u001b[0m\u001b[0musw_df\u001b[0m\u001b[0;34m[\u001b[0m\u001b[0;34m'p_name'\u001b[0m\u001b[0;34m]\u001b[0m\u001b[0;34m.\u001b[0m\u001b[0munique\u001b[0m\u001b[0;34m(\u001b[0m\u001b[0;34m)\u001b[0m\u001b[0;34m)\u001b[0m\u001b[0;34m)\u001b[0m\u001b[0;34m\u001b[0m\u001b[0;34m\u001b[0m\u001b[0m\n",
      "\u001b[0;31mNameError\u001b[0m: name 'plant_df' is not defined"
     ]
    }
   ],
   "source": [
    "print(np.count_nonzero([len(usw_df[usw_df.eia_id == eia_id])>0 for eia_id in plant_df['Plant Code']]))\n",
    "print(len(usw_df['p_name'].unique()))"
   ]
  },
  {
   "cell_type": "code",
   "execution_count": 8,
   "metadata": {},
   "outputs": [
    {
     "name": "stdout",
     "output_type": "stream",
     "text": [
      "1168\n"
     ]
    },
    {
     "data": {
      "text/html": [
       "<div>\n",
       "<style scoped>\n",
       "    .dataframe tbody tr th:only-of-type {\n",
       "        vertical-align: middle;\n",
       "    }\n",
       "\n",
       "    .dataframe tbody tr th {\n",
       "        vertical-align: top;\n",
       "    }\n",
       "\n",
       "    .dataframe thead th {\n",
       "        text-align: right;\n",
       "    }\n",
       "</style>\n",
       "<table border=\"1\" class=\"dataframe\">\n",
       "  <thead>\n",
       "    <tr style=\"text-align: right;\">\n",
       "      <th></th>\n",
       "      <th>Plant Name</th>\n",
       "      <th>Plant Code</th>\n",
       "      <th>State</th>\n",
       "      <th>Sector Name</th>\n",
       "      <th>Prime Movers</th>\n",
       "      <th>Fuel Types</th>\n",
       "    </tr>\n",
       "  </thead>\n",
       "  <tbody>\n",
       "    <tr>\n",
       "      <th>0</th>\n",
       "      <td>85 A</td>\n",
       "      <td>52162</td>\n",
       "      <td>CA</td>\n",
       "      <td>Electric utility non-cogen</td>\n",
       "      <td>WT</td>\n",
       "      <td>WND</td>\n",
       "    </tr>\n",
       "    <tr>\n",
       "      <th>1</th>\n",
       "      <td>85 B</td>\n",
       "      <td>52163</td>\n",
       "      <td>CA</td>\n",
       "      <td>Electric utility non-cogen</td>\n",
       "      <td>WT</td>\n",
       "      <td>WND</td>\n",
       "    </tr>\n",
       "    <tr>\n",
       "      <th>2</th>\n",
       "      <td>Adair Wind Farm</td>\n",
       "      <td>56810</td>\n",
       "      <td>IA</td>\n",
       "      <td>Electric utility</td>\n",
       "      <td>WT</td>\n",
       "      <td>WND</td>\n",
       "    </tr>\n",
       "    <tr>\n",
       "      <th>3</th>\n",
       "      <td>Adams Wind</td>\n",
       "      <td>59637</td>\n",
       "      <td>IA</td>\n",
       "      <td>Electric utility</td>\n",
       "      <td>WT</td>\n",
       "      <td>WND</td>\n",
       "    </tr>\n",
       "    <tr>\n",
       "      <th>4</th>\n",
       "      <td>Adams Wind Farm</td>\n",
       "      <td>56307</td>\n",
       "      <td>MN</td>\n",
       "      <td>Electric utility non-cogen</td>\n",
       "      <td>WT</td>\n",
       "      <td>WND</td>\n",
       "    </tr>\n",
       "  </tbody>\n",
       "</table>\n",
       "</div>"
      ],
      "text/plain": [
       "        Plant Name  Plant Code State                 Sector Name Prime Movers  \\\n",
       "0             85 A       52162    CA  Electric utility non-cogen           WT   \n",
       "1             85 B       52163    CA  Electric utility non-cogen           WT   \n",
       "2  Adair Wind Farm       56810    IA            Electric utility           WT   \n",
       "3       Adams Wind       59637    IA            Electric utility           WT   \n",
       "4  Adams Wind Farm       56307    MN  Electric utility non-cogen           WT   \n",
       "\n",
       "  Fuel Types  \n",
       "0        WND  \n",
       "1        WND  \n",
       "2        WND  \n",
       "3        WND  \n",
       "4        WND  "
      ]
     },
     "execution_count": 8,
     "metadata": {},
     "output_type": "execute_result"
    }
   ],
   "source": [
    "plant_df = pd.read_csv('../data/List_of_plants_for_wind_United_States_all_sectors.csv',skiprows=4)\n",
    "print(len(plant_df))\n",
    "plant_df.head()"
   ]
  },
  {
   "cell_type": "code",
   "execution_count": 7,
   "metadata": {},
   "outputs": [],
   "source": [
    "response = requests.get(\n",
    "    'http://api.eia.gov/series/?api_key='+ eia_api_key + '&series_id=ELEC.PLANT.GEN.52162-ALL-ALL.A'\n",
    ")\n",
    "data = json.loads(response.content.decode('utf-8'))"
   ]
  },
  {
   "cell_type": "code",
   "execution_count": 13,
   "metadata": {},
   "outputs": [],
   "source": [
    "def parse_data(data):\n",
    "    ddict = data['series'][0]\n",
    "    out_dict = {int(x[0]): x[1] for x in ddict['data']}\n",
    "    out_dict.update({'lat' : float(ddict['lat']), 'lon' : float(ddict['lon'])})\n",
    "    return out_dict\n",
    "def get_plant_data(eia_id,eia_api_key):\n",
    "    response = requests.get(\n",
    "    'http://api.eia.gov/series/?api_key='+ eia_api_key + '&series_id=ELEC.PLANT.GEN.'+ str(eia_id) + '-ALL-ALL.A'\n",
    "    )\n",
    "    return json.loads(response.content.decode('utf-8'))\n",
    "def dict_listify(d): #make each element a single element list, for pandas\n",
    "    return {k:[v] for k,v in d.items()}\n",
    "def dict_to_panda_row(d): #dict to single row pd df\n",
    "    return pd.DataFrame(dict_listify(d))"
   ]
  },
  {
   "cell_type": "code",
   "execution_count": 76,
   "metadata": {},
   "outputs": [],
   "source": [
    "response = requests.get(\n",
    "    'http://api.eia.gov/series/?api_key='+ eia_api_key + '&series_id=ELEC.PLANT.GEN.ALL-ALL-ALL.A'\n",
    "    )"
   ]
  },
  {
   "cell_type": "code",
   "execution_count": 78,
   "metadata": {},
   "outputs": [],
   "source": [
    "test = json.loads(response.content.decode('utf-8'))"
   ]
  },
  {
   "cell_type": "code",
   "execution_count": 96,
   "metadata": {
    "scrolled": true
   },
   "outputs": [
    {
     "name": "stdout",
     "output_type": "stream",
     "text": [
      "0\n",
      "'series'\n",
      "10\n",
      "20\n",
      "30\n",
      "40\n",
      "50\n",
      "60\n",
      "70\n",
      "'series'\n",
      "'series'\n",
      "80\n",
      "90\n",
      "100\n",
      "110\n",
      "120\n",
      "130\n",
      "140\n",
      "150\n",
      "160\n",
      "170\n",
      "180\n",
      "190\n",
      "200\n",
      "210\n",
      "220\n",
      "230\n",
      "240\n",
      "250\n",
      "260\n",
      "270\n",
      "280\n",
      "290\n",
      "'series'\n",
      "300\n",
      "310\n",
      "320\n",
      "330\n",
      "340\n",
      "'series'\n",
      "350\n",
      "360\n",
      "370\n",
      "380\n",
      "390\n",
      "400\n",
      "410\n",
      "420\n",
      "430\n",
      "440\n",
      "450\n",
      "460\n",
      "470\n",
      "480\n",
      "490\n",
      "500\n",
      "510\n",
      "520\n",
      "530\n",
      "540\n",
      "550\n",
      "560\n",
      "570\n",
      "580\n",
      "'series'\n",
      "590\n",
      "'series'\n",
      "'series'\n",
      "'series'\n",
      "'series'\n",
      "'series'\n",
      "'series'\n",
      "600\n",
      "610\n",
      "620\n",
      "630\n",
      "640\n",
      "650\n",
      "660\n"
     ]
    }
   ],
   "source": [
    "data_dicts = []\n",
    "for i,eia_id in enumerate(plant_df['Plant Code'][500:]):\n",
    "    if i%10 == 0:\n",
    "        print(i)\n",
    "    try:\n",
    "        data_dicts.append(parse_data(get_plant_data(eia_id,eia_api_key)))\n",
    "    except Exception as e:\n",
    "        print(e)\n",
    "        data_dicts.append([])"
   ]
  },
  {
   "cell_type": "code",
   "execution_count": 89,
   "metadata": {},
   "outputs": [],
   "source": [
    "test = get_plant_data(plant_df['Plant Code'].iloc[215],eia_api_key)"
   ]
  },
  {
   "cell_type": "code",
   "execution_count": 90,
   "metadata": {},
   "outputs": [
    {
     "data": {
      "text/plain": [
       "{'request': {'command': 'series',\n",
       "  'series_id': 'elec.plant.gen.63431-all-all.a'},\n",
       " 'data': {'error': 'invalid series_id. For key registration, documentation, and examples see https://www.eia.gov/developer/'}}"
      ]
     },
     "execution_count": 90,
     "metadata": {},
     "output_type": "execute_result"
    }
   ],
   "source": [
    "test"
   ]
  },
  {
   "cell_type": "code",
   "execution_count": 84,
   "metadata": {},
   "outputs": [],
   "source": [
    "#data_dicts_215 = data_dicts.copy()"
   ]
  },
  {
   "cell_type": "code",
   "execution_count": 97,
   "metadata": {},
   "outputs": [],
   "source": [
    "# import pickle as pkl\n",
    "# with ropen('eia_dicts_500:.pkl','wb') as f:\n",
    "#     pkl.dump(data_dicts,f,protocol=3)"
   ]
  },
  {
   "cell_type": "code",
   "execution_count": 11,
   "metadata": {},
   "outputs": [],
   "source": [
    "import pickle as pkl\n",
    "all_dicts = []\n",
    "for file_end in ['215','215:500','500:']:\n",
    "    with open('../data/eia_dicts_' + file_end + '.pkl','rb') as f:\n",
    "        all_dicts = all_dicts + pkl.load(f)"
   ]
  },
  {
   "cell_type": "code",
   "execution_count": 109,
   "metadata": {},
   "outputs": [
    {
     "data": {
      "text/html": [
       "<div>\n",
       "<style scoped>\n",
       "    .dataframe tbody tr th:only-of-type {\n",
       "        vertical-align: middle;\n",
       "    }\n",
       "\n",
       "    .dataframe tbody tr th {\n",
       "        vertical-align: top;\n",
       "    }\n",
       "\n",
       "    .dataframe thead th {\n",
       "        text-align: right;\n",
       "    }\n",
       "</style>\n",
       "<table border=\"1\" class=\"dataframe\">\n",
       "  <thead>\n",
       "    <tr style=\"text-align: right;\">\n",
       "      <th></th>\n",
       "      <th>2018</th>\n",
       "      <th>2017</th>\n",
       "      <th>2016</th>\n",
       "      <th>2015</th>\n",
       "      <th>2014</th>\n",
       "      <th>2013</th>\n",
       "      <th>2012</th>\n",
       "      <th>2011</th>\n",
       "      <th>2010</th>\n",
       "      <th>2009</th>\n",
       "      <th>2008</th>\n",
       "      <th>2007</th>\n",
       "      <th>2006</th>\n",
       "      <th>2005</th>\n",
       "      <th>2004</th>\n",
       "      <th>2003</th>\n",
       "      <th>2002</th>\n",
       "      <th>2001</th>\n",
       "      <th>lat</th>\n",
       "      <th>lon</th>\n",
       "    </tr>\n",
       "  </thead>\n",
       "  <tbody>\n",
       "    <tr>\n",
       "      <th>0</th>\n",
       "      <td>15766</td>\n",
       "      <td>16521</td>\n",
       "      <td>16012</td>\n",
       "      <td>13347</td>\n",
       "      <td>16839</td>\n",
       "      <td>18640</td>\n",
       "      <td>14816</td>\n",
       "      <td>19384</td>\n",
       "      <td>20673</td>\n",
       "      <td>19576</td>\n",
       "      <td>20895</td>\n",
       "      <td>16263.002</td>\n",
       "      <td>8781</td>\n",
       "      <td>13725</td>\n",
       "      <td>18309</td>\n",
       "      <td>19298</td>\n",
       "      <td>22893</td>\n",
       "      <td>19458</td>\n",
       "      <td>35.1011</td>\n",
       "      <td>-118.3372</td>\n",
       "    </tr>\n",
       "  </tbody>\n",
       "</table>\n",
       "</div>"
      ],
      "text/plain": [
       "    2018   2017   2016   2015   2014   2013   2012   2011   2010   2009  \\\n",
       "0  15766  16521  16012  13347  16839  18640  14816  19384  20673  19576   \n",
       "\n",
       "    2008       2007  2006   2005   2004   2003   2002   2001      lat  \\\n",
       "0  20895  16263.002  8781  13725  18309  19298  22893  19458  35.1011   \n",
       "\n",
       "        lon  \n",
       "0 -118.3372  "
      ]
     },
     "execution_count": 109,
     "metadata": {},
     "output_type": "execute_result"
    }
   ],
   "source": [
    "dict_to_panda_row(all_dicts[0])"
   ]
  },
  {
   "cell_type": "code",
   "execution_count": 110,
   "metadata": {},
   "outputs": [
    {
     "data": {
      "text/html": [
       "<div>\n",
       "<style scoped>\n",
       "    .dataframe tbody tr th:only-of-type {\n",
       "        vertical-align: middle;\n",
       "    }\n",
       "\n",
       "    .dataframe tbody tr th {\n",
       "        vertical-align: top;\n",
       "    }\n",
       "\n",
       "    .dataframe thead th {\n",
       "        text-align: right;\n",
       "    }\n",
       "</style>\n",
       "<table border=\"1\" class=\"dataframe\">\n",
       "  <thead>\n",
       "    <tr style=\"text-align: right;\">\n",
       "      <th></th>\n",
       "    </tr>\n",
       "  </thead>\n",
       "  <tbody>\n",
       "  </tbody>\n",
       "</table>\n",
       "</div>"
      ],
      "text/plain": [
       "Empty DataFrame\n",
       "Columns: []\n",
       "Index: []"
      ]
     },
     "execution_count": 110,
     "metadata": {},
     "output_type": "execute_result"
    }
   ],
   "source": [
    "pd.DataFrame({})"
   ]
  },
  {
   "cell_type": "code",
   "execution_count": 14,
   "metadata": {},
   "outputs": [],
   "source": [
    "power_df = pd.concat([dict_to_panda_row(d) if len(d) > 0 else pd.DataFrame({'lat' : [np.nan]})  for d in all_dicts])\n",
    "power_df = power_df.reset_index().drop('index',axis=1)"
   ]
  },
  {
   "cell_type": "code",
   "execution_count": 120,
   "metadata": {
    "scrolled": true
   },
   "outputs": [
    {
     "name": "stdout",
     "output_type": "stream",
     "text": [
      "{2018: 589700, 2017: 625474, 2016: 573434, 2015: 234347, 'lat': 40.999169, 'lon': -88.056247}\n",
      "2018    589700.000000\n",
      "2017    625474.000000\n",
      "2016    573434.000000\n",
      "2015    234347.000000\n",
      "2014              NaN\n",
      "2013              NaN\n",
      "2012              NaN\n",
      "2011              NaN\n",
      "2010              NaN\n",
      "2009              NaN\n",
      "2008              NaN\n",
      "2007              NaN\n",
      "2006              NaN\n",
      "2005              NaN\n",
      "2004              NaN\n",
      "2003              NaN\n",
      "2002              NaN\n",
      "2001              NaN\n",
      "lat         40.999169\n",
      "lon        -88.056247\n",
      "2019              NaN\n",
      "Name: 0, dtype: float64\n"
     ]
    }
   ],
   "source": [
    "#test\n",
    "print(parse_data(get_plant_data(plant_df['Plant Code'].iloc[800],eia_api_key)))\n",
    "print(power_df.iloc[800])"
   ]
  },
  {
   "cell_type": "code",
   "execution_count": 193,
   "metadata": {},
   "outputs": [
    {
     "data": {
      "text/plain": [
       "2001    19458\n",
       "2002    22893\n",
       "2003    19298\n",
       "2004    18309\n",
       "2005    13725\n",
       "2006     8781\n",
       "2007    16263\n",
       "2008    20895\n",
       "2009    19576\n",
       "2010    20673\n",
       "2011    19384\n",
       "2012    14816\n",
       "2013    18640\n",
       "2014    16839\n",
       "2015    13347\n",
       "2016    16012\n",
       "2017    16521\n",
       "2018    15766\n",
       "2019      NaN\n",
       "Name: 0, dtype: object"
      ]
     },
     "execution_count": 193,
     "metadata": {},
     "output_type": "execute_result"
    }
   ],
   "source": [
    "power_df.loc[0].loc[np.arange(2001,2020)]"
   ]
  },
  {
   "cell_type": "code",
   "execution_count": 30,
   "metadata": {},
   "outputs": [],
   "source": [
    "power_df['Plant Code'] = plant_df['Plant Code']\n",
    "power_df['Plant Name'] = plant_df['Plant Name']\n",
    "power_df['State'] = plant_df['State']\n",
    "power_df['std MWh'] = power_df.apply(lambda row: np.std(row.loc[np.arange(2001,2020)]),axis=1)\n",
    "power_df['mean MWh'] = power_df.apply(lambda row: np.mean(row.loc[np.arange(2001,2020)]),axis=1)\n",
    "power_df['mean MW'] = power_df['mean MWh']/8760\n",
    "power_df['2018 MW'] = power_df[2018]/8760\n",
    "power_df['2017 MW'] = power_df[2017]/8760\n",
    "power_df['2016 MW'] = power_df[2016]/8760"
   ]
  },
  {
   "cell_type": "code",
   "execution_count": 43,
   "metadata": {},
   "outputs": [
    {
     "name": "stderr",
     "output_type": "stream",
     "text": [
      "/Users/kook/opt/anaconda3/envs/insight_h5py/lib/python3.8/site-packages/numpy/lib/histograms.py:839: RuntimeWarning: invalid value encountered in greater_equal\n",
      "  keep = (tmp_a >= first_edge)\n",
      "/Users/kook/opt/anaconda3/envs/insight_h5py/lib/python3.8/site-packages/numpy/lib/histograms.py:840: RuntimeWarning: invalid value encountered in less_equal\n",
      "  keep &= (tmp_a <= last_edge)\n"
     ]
    },
    {
     "data": {
      "image/png": "[encoded data removed]",
      "text/plain": [
       "<Figure size 432x288 with 1 Axes>"
      ]
     },
     "metadata": {
      "needs_background": "light"
     },
     "output_type": "display_data"
    },
    {
     "data": {
      "image/png": "[encoded data removed]",
      "text/plain": [
       "<Figure size 432x288 with 1 Axes>"
      ]
     },
     "metadata": {
      "needs_background": "light"
     },
     "output_type": "display_data"
    }
   ],
   "source": [
    "plt.hist(power_df['2018 MW']); plt.show()\n",
    "plt.hist(power_df['2016 MW']); plt.show()"
   ]
  },
  {
   "cell_type": "code",
   "execution_count": 29,
   "metadata": {},
   "outputs": [
    {
     "name": "stderr",
     "output_type": "stream",
     "text": [
      "/Users/kook/opt/anaconda3/envs/insight_h5py/lib/python3.8/site-packages/numpy/lib/histograms.py:839: RuntimeWarning: invalid value encountered in greater_equal\n",
      "  keep = (tmp_a >= first_edge)\n",
      "/Users/kook/opt/anaconda3/envs/insight_h5py/lib/python3.8/site-packages/numpy/lib/histograms.py:840: RuntimeWarning: invalid value encountered in less_equal\n",
      "  keep &= (tmp_a <= last_edge)\n"
     ]
    },
    {
     "data": {
      "image/png": "[encoded data removed]",
      "text/plain": [
       "<Figure size 432x288 with 1 Axes>"
      ]
     },
     "metadata": {
      "needs_background": "light"
     },
     "output_type": "display_data"
    },
    {
     "data": {
      "image/png": "[encoded data removed]",
      "text/plain": [
       "<Figure size 432x288 with 1 Axes>"
      ]
     },
     "metadata": {
      "needs_background": "light"
     },
     "output_type": "display_data"
    }
   ],
   "source": [
    "plt.hist(power_df['std MWh']/8760); plt.show()\n",
    "plt.hist(power_df['mean MWh']/8760); plt.show()"
   ]
  },
  {
   "cell_type": "code",
   "execution_count": 25,
   "metadata": {},
   "outputs": [
    {
     "data": {
      "text/plain": [
       "[<matplotlib.lines.Line2D at 0x125b150a0>]"
      ]
     },
     "execution_count": 25,
     "metadata": {},
     "output_type": "execute_result"
    },
    {
     "data": {
      "image/png": "[encoded data removed]",
      "text/plain": [
       "<Figure size 432x288 with 1 Axes>"
      ]
     },
     "metadata": {
      "needs_background": "light"
     },
     "output_type": "display_data"
    }
   ],
   "source": [
    "from matplotlib import pyplot as plt\n",
    "plt.scatter(power_df['mean MW'],power_df[2018]/8760)\n",
    "plt.plot([0,200],[0,200],c='red')"
   ]
  },
  {
   "cell_type": "code",
   "execution_count": 17,
   "metadata": {},
   "outputs": [
    {
     "data": {
      "text/html": [
       "<div>\n",
       "<style scoped>\n",
       "    .dataframe tbody tr th:only-of-type {\n",
       "        vertical-align: middle;\n",
       "    }\n",
       "\n",
       "    .dataframe tbody tr th {\n",
       "        vertical-align: top;\n",
       "    }\n",
       "\n",
       "    .dataframe thead th {\n",
       "        text-align: right;\n",
       "    }\n",
       "</style>\n",
       "<table border=\"1\" class=\"dataframe\">\n",
       "  <thead>\n",
       "    <tr style=\"text-align: right;\">\n",
       "      <th></th>\n",
       "      <th>2018</th>\n",
       "      <th>2017</th>\n",
       "      <th>2016</th>\n",
       "      <th>2015</th>\n",
       "      <th>2014</th>\n",
       "      <th>2013</th>\n",
       "      <th>2012</th>\n",
       "      <th>2011</th>\n",
       "      <th>2010</th>\n",
       "      <th>2009</th>\n",
       "      <th>...</th>\n",
       "      <th>2001</th>\n",
       "      <th>lat</th>\n",
       "      <th>lon</th>\n",
       "      <th>2019</th>\n",
       "      <th>Plant Code</th>\n",
       "      <th>Plant Name</th>\n",
       "      <th>State</th>\n",
       "      <th>mean MWh</th>\n",
       "      <th>mean MW</th>\n",
       "      <th>2018 MW</th>\n",
       "    </tr>\n",
       "  </thead>\n",
       "  <tbody>\n",
       "    <tr>\n",
       "      <th>0</th>\n",
       "      <td>15766.0</td>\n",
       "      <td>16521.0</td>\n",
       "      <td>16012.0</td>\n",
       "      <td>13347.0</td>\n",
       "      <td>16839.0</td>\n",
       "      <td>18640.0</td>\n",
       "      <td>14816.0</td>\n",
       "      <td>19384.0</td>\n",
       "      <td>20673.0</td>\n",
       "      <td>19576.0</td>\n",
       "      <td>...</td>\n",
       "      <td>19458.0</td>\n",
       "      <td>35.101100</td>\n",
       "      <td>-118.337200</td>\n",
       "      <td>NaN</td>\n",
       "      <td>52162</td>\n",
       "      <td>85 A</td>\n",
       "      <td>CA</td>\n",
       "      <td>17288.666778</td>\n",
       "      <td>1.973592</td>\n",
       "      <td>1.799772</td>\n",
       "    </tr>\n",
       "    <tr>\n",
       "      <th>1</th>\n",
       "      <td>18824.0</td>\n",
       "      <td>16355.0</td>\n",
       "      <td>20601.0</td>\n",
       "      <td>17296.0</td>\n",
       "      <td>22336.0</td>\n",
       "      <td>25968.0</td>\n",
       "      <td>19584.0</td>\n",
       "      <td>25984.0</td>\n",
       "      <td>29408.0</td>\n",
       "      <td>27564.0</td>\n",
       "      <td>...</td>\n",
       "      <td>27425.0</td>\n",
       "      <td>35.101100</td>\n",
       "      <td>-118.337200</td>\n",
       "      <td>NaN</td>\n",
       "      <td>52163</td>\n",
       "      <td>85 B</td>\n",
       "      <td>CA</td>\n",
       "      <td>24298.944333</td>\n",
       "      <td>2.773852</td>\n",
       "      <td>2.148858</td>\n",
       "    </tr>\n",
       "    <tr>\n",
       "      <th>2</th>\n",
       "      <td>414150.0</td>\n",
       "      <td>471946.0</td>\n",
       "      <td>485613.0</td>\n",
       "      <td>470368.0</td>\n",
       "      <td>490310.0</td>\n",
       "      <td>523247.0</td>\n",
       "      <td>538881.0</td>\n",
       "      <td>531126.0</td>\n",
       "      <td>497375.0</td>\n",
       "      <td>438053.0</td>\n",
       "      <td>...</td>\n",
       "      <td>NaN</td>\n",
       "      <td>41.423600</td>\n",
       "      <td>-94.665000</td>\n",
       "      <td>NaN</td>\n",
       "      <td>56810</td>\n",
       "      <td>Adair Wind Farm</td>\n",
       "      <td>IA</td>\n",
       "      <td>443616.636364</td>\n",
       "      <td>50.641169</td>\n",
       "      <td>47.277397</td>\n",
       "    </tr>\n",
       "    <tr>\n",
       "      <th>3</th>\n",
       "      <td>459960.0</td>\n",
       "      <td>485774.0</td>\n",
       "      <td>483943.0</td>\n",
       "      <td>34999.0</td>\n",
       "      <td>NaN</td>\n",
       "      <td>NaN</td>\n",
       "      <td>NaN</td>\n",
       "      <td>NaN</td>\n",
       "      <td>NaN</td>\n",
       "      <td>NaN</td>\n",
       "      <td>...</td>\n",
       "      <td>NaN</td>\n",
       "      <td>40.920000</td>\n",
       "      <td>-94.671667</td>\n",
       "      <td>NaN</td>\n",
       "      <td>59637</td>\n",
       "      <td>Adams Wind</td>\n",
       "      <td>IA</td>\n",
       "      <td>366169.000000</td>\n",
       "      <td>41.800114</td>\n",
       "      <td>52.506849</td>\n",
       "    </tr>\n",
       "    <tr>\n",
       "      <th>4</th>\n",
       "      <td>47270.0</td>\n",
       "      <td>55159.0</td>\n",
       "      <td>57259.0</td>\n",
       "      <td>59207.0</td>\n",
       "      <td>60767.0</td>\n",
       "      <td>59686.0</td>\n",
       "      <td>61706.0</td>\n",
       "      <td>59639.0</td>\n",
       "      <td>56083.0</td>\n",
       "      <td>60575.0</td>\n",
       "      <td>...</td>\n",
       "      <td>NaN</td>\n",
       "      <td>43.554778</td>\n",
       "      <td>-92.724139</td>\n",
       "      <td>NaN</td>\n",
       "      <td>56307</td>\n",
       "      <td>Adams Wind Farm</td>\n",
       "      <td>MN</td>\n",
       "      <td>58914.333267</td>\n",
       "      <td>6.725381</td>\n",
       "      <td>5.396119</td>\n",
       "    </tr>\n",
       "  </tbody>\n",
       "</table>\n",
       "<p>5 rows × 27 columns</p>\n",
       "</div>"
      ],
      "text/plain": [
       "       2018      2017      2016      2015      2014      2013      2012  \\\n",
       "0   15766.0   16521.0   16012.0   13347.0   16839.0   18640.0   14816.0   \n",
       "1   18824.0   16355.0   20601.0   17296.0   22336.0   25968.0   19584.0   \n",
       "2  414150.0  471946.0  485613.0  470368.0  490310.0  523247.0  538881.0   \n",
       "3  459960.0  485774.0  483943.0   34999.0       NaN       NaN       NaN   \n",
       "4   47270.0   55159.0   57259.0   59207.0   60767.0   59686.0   61706.0   \n",
       "\n",
       "       2011      2010      2009  ...     2001        lat         lon  2019  \\\n",
       "0   19384.0   20673.0   19576.0  ...  19458.0  35.101100 -118.337200   NaN   \n",
       "1   25984.0   29408.0   27564.0  ...  27425.0  35.101100 -118.337200   NaN   \n",
       "2  531126.0  497375.0  438053.0  ...      NaN  41.423600  -94.665000   NaN   \n",
       "3       NaN       NaN       NaN  ...      NaN  40.920000  -94.671667   NaN   \n",
       "4   59639.0   56083.0   60575.0  ...      NaN  43.554778  -92.724139   NaN   \n",
       "\n",
       "   Plant Code       Plant Name  State       mean MWh    mean MW    2018 MW  \n",
       "0       52162             85 A     CA   17288.666778   1.973592   1.799772  \n",
       "1       52163             85 B     CA   24298.944333   2.773852   2.148858  \n",
       "2       56810  Adair Wind Farm     IA  443616.636364  50.641169  47.277397  \n",
       "3       59637       Adams Wind     IA  366169.000000  41.800114  52.506849  \n",
       "4       56307  Adams Wind Farm     MN   58914.333267   6.725381   5.396119  \n",
       "\n",
       "[5 rows x 27 columns]"
      ]
     },
     "execution_count": 17,
     "metadata": {},
     "output_type": "execute_result"
    }
   ],
   "source": [
    "power_df.head()"
   ]
  },
  {
   "cell_type": "code",
   "execution_count": 31,
   "metadata": {},
   "outputs": [],
   "source": [
    "usw_df_filter = pd.concat([usw_df[usw_df['eia_id'] == eia_id] for eia_id in power_df['Plant Code']])\n",
    "usw_df_filter['eia_id'] = usw_df_filter['eia_id'].astype(np.int)"
   ]
  },
  {
   "cell_type": "code",
   "execution_count": 212,
   "metadata": {},
   "outputs": [
    {
     "data": {
      "text/plain": [
       "1016"
      ]
     },
     "execution_count": 212,
     "metadata": {},
     "output_type": "execute_result"
    }
   ],
   "source": [
    "len(usw_df_filter['eia_id'].unique())"
   ]
  },
  {
   "cell_type": "code",
   "execution_count": 225,
   "metadata": {},
   "outputs": [
    {
     "data": {
      "text/plain": [
       "944    32235.0\n",
       "Name: 2018, dtype: float64"
      ]
     },
     "execution_count": 225,
     "metadata": {},
     "output_type": "execute_result"
    }
   ],
   "source": [
    "power_df[power_df['Plant Code'] == usw_df_stats['eia_id'].iloc[0]][2018]"
   ]
  },
  {
   "cell_type": "code",
   "execution_count": 238,
   "metadata": {},
   "outputs": [
    {
     "data": {
      "text/plain": [
       "30991.777722222225"
      ]
     },
     "execution_count": 238,
     "metadata": {},
     "output_type": "execute_result"
    }
   ],
   "source": [
    "power_df.set_index('Plant Code').loc[90,'mean MWh']"
   ]
  },
  {
   "cell_type": "code",
   "execution_count": 45,
   "metadata": {},
   "outputs": [
    {
     "data": {
      "text/html": [
       "<div>\n",
       "<style scoped>\n",
       "    .dataframe tbody tr th:only-of-type {\n",
       "        vertical-align: middle;\n",
       "    }\n",
       "\n",
       "    .dataframe tbody tr th {\n",
       "        vertical-align: top;\n",
       "    }\n",
       "\n",
       "    .dataframe thead tr th {\n",
       "        text-align: left;\n",
       "    }\n",
       "</style>\n",
       "<table border=\"1\" class=\"dataframe\">\n",
       "  <thead>\n",
       "    <tr>\n",
       "      <th></th>\n",
       "      <th>eia_id</th>\n",
       "      <th>t_cap</th>\n",
       "      <th colspan=\"2\" halign=\"left\">p_cap</th>\n",
       "      <th>mean MW</th>\n",
       "      <th>2018 MW</th>\n",
       "      <th>latitude</th>\n",
       "      <th>longitude</th>\n",
       "      <th>State</th>\n",
       "      <th>t_cap_factor</th>\n",
       "      <th>p_cap_factor</th>\n",
       "      <th>t_cap_factor_18</th>\n",
       "      <th>p_cap_factor_18</th>\n",
       "      <th>t_capacity</th>\n",
       "      <th>p_capacity</th>\n",
       "    </tr>\n",
       "    <tr>\n",
       "      <th></th>\n",
       "      <th></th>\n",
       "      <th>&lt;lambda&gt;</th>\n",
       "      <th>max</th>\n",
       "      <th>min</th>\n",
       "      <th></th>\n",
       "      <th></th>\n",
       "      <th></th>\n",
       "      <th></th>\n",
       "      <th></th>\n",
       "      <th></th>\n",
       "      <th></th>\n",
       "      <th></th>\n",
       "      <th></th>\n",
       "      <th></th>\n",
       "      <th></th>\n",
       "    </tr>\n",
       "  </thead>\n",
       "  <tbody>\n",
       "    <tr>\n",
       "      <th>1</th>\n",
       "      <td>508</td>\n",
       "      <td>7.500</td>\n",
       "      <td>4.50</td>\n",
       "      <td>3.00</td>\n",
       "      <td>3.719400</td>\n",
       "      <td>1.209589</td>\n",
       "      <td>38.033327</td>\n",
       "      <td>-102.537915</td>\n",
       "      <td>CO</td>\n",
       "      <td>0.495920</td>\n",
       "      <td>0.826533</td>\n",
       "      <td>0.161279</td>\n",
       "      <td>0.268798</td>\n",
       "      <td>7.500</td>\n",
       "      <td>4.50</td>\n",
       "    </tr>\n",
       "    <tr>\n",
       "      <th>2</th>\n",
       "      <td>692</td>\n",
       "      <td>6.270</td>\n",
       "      <td>3.30</td>\n",
       "      <td>1.20</td>\n",
       "      <td>1.956919</td>\n",
       "      <td>1.990753</td>\n",
       "      <td>41.835278</td>\n",
       "      <td>-106.242778</td>\n",
       "      <td>WY</td>\n",
       "      <td>0.312108</td>\n",
       "      <td>0.593006</td>\n",
       "      <td>0.317505</td>\n",
       "      <td>0.603259</td>\n",
       "      <td>6.270</td>\n",
       "      <td>3.30</td>\n",
       "    </tr>\n",
       "    <tr>\n",
       "      <th>3</th>\n",
       "      <td>944</td>\n",
       "      <td>3.000</td>\n",
       "      <td>3.00</td>\n",
       "      <td>3.00</td>\n",
       "      <td>0.453438</td>\n",
       "      <td>0.871804</td>\n",
       "      <td>41.451494</td>\n",
       "      <td>-90.148547</td>\n",
       "      <td>IL</td>\n",
       "      <td>0.151146</td>\n",
       "      <td>0.151146</td>\n",
       "      <td>0.290601</td>\n",
       "      <td>0.290601</td>\n",
       "      <td>3.000</td>\n",
       "      <td>3.00</td>\n",
       "    </tr>\n",
       "    <tr>\n",
       "      <th>4</th>\n",
       "      <td>1172</td>\n",
       "      <td>1.500</td>\n",
       "      <td>1.50</td>\n",
       "      <td>1.50</td>\n",
       "      <td>0.314396</td>\n",
       "      <td>0.584247</td>\n",
       "      <td>43.279722</td>\n",
       "      <td>-92.810556</td>\n",
       "      <td>IA</td>\n",
       "      <td>0.209597</td>\n",
       "      <td>0.209597</td>\n",
       "      <td>0.389498</td>\n",
       "      <td>0.389498</td>\n",
       "      <td>1.500</td>\n",
       "      <td>1.50</td>\n",
       "    </tr>\n",
       "    <tr>\n",
       "      <th>5</th>\n",
       "      <td>1998</td>\n",
       "      <td>1.200</td>\n",
       "      <td>1.25</td>\n",
       "      <td>1.25</td>\n",
       "      <td>0.262241</td>\n",
       "      <td>0.344635</td>\n",
       "      <td>43.940500</td>\n",
       "      <td>-94.943400</td>\n",
       "      <td>MN</td>\n",
       "      <td>0.218535</td>\n",
       "      <td>0.209793</td>\n",
       "      <td>0.287196</td>\n",
       "      <td>0.275708</td>\n",
       "      <td>1.200</td>\n",
       "      <td>1.25</td>\n",
       "    </tr>\n",
       "    <tr>\n",
       "      <th>...</th>\n",
       "      <td>...</td>\n",
       "      <td>...</td>\n",
       "      <td>...</td>\n",
       "      <td>...</td>\n",
       "      <td>...</td>\n",
       "      <td>...</td>\n",
       "      <td>...</td>\n",
       "      <td>...</td>\n",
       "      <td>...</td>\n",
       "      <td>...</td>\n",
       "      <td>...</td>\n",
       "      <td>...</td>\n",
       "      <td>...</td>\n",
       "      <td>...</td>\n",
       "      <td>...</td>\n",
       "    </tr>\n",
       "    <tr>\n",
       "      <th>1009</th>\n",
       "      <td>62227</td>\n",
       "      <td>30.240</td>\n",
       "      <td>30.24</td>\n",
       "      <td>30.24</td>\n",
       "      <td>9.313927</td>\n",
       "      <td>NaN</td>\n",
       "      <td>33.578240</td>\n",
       "      <td>-99.192100</td>\n",
       "      <td>TX</td>\n",
       "      <td>0.308000</td>\n",
       "      <td>0.308000</td>\n",
       "      <td>NaN</td>\n",
       "      <td>NaN</td>\n",
       "      <td>30.240</td>\n",
       "      <td>30.24</td>\n",
       "    </tr>\n",
       "    <tr>\n",
       "      <th>1010</th>\n",
       "      <td>62269</td>\n",
       "      <td>100.750</td>\n",
       "      <td>66.63</td>\n",
       "      <td>34.13</td>\n",
       "      <td>36.363242</td>\n",
       "      <td>NaN</td>\n",
       "      <td>44.104377</td>\n",
       "      <td>-96.126733</td>\n",
       "      <td>MN</td>\n",
       "      <td>0.360925</td>\n",
       "      <td>0.545749</td>\n",
       "      <td>NaN</td>\n",
       "      <td>NaN</td>\n",
       "      <td>100.750</td>\n",
       "      <td>66.63</td>\n",
       "    </tr>\n",
       "    <tr>\n",
       "      <th>1011</th>\n",
       "      <td>62291</td>\n",
       "      <td>44.600</td>\n",
       "      <td>44.60</td>\n",
       "      <td>44.60</td>\n",
       "      <td>8.145776</td>\n",
       "      <td>0.403767</td>\n",
       "      <td>44.857694</td>\n",
       "      <td>-95.568888</td>\n",
       "      <td>MN</td>\n",
       "      <td>0.182641</td>\n",
       "      <td>0.182641</td>\n",
       "      <td>0.009053</td>\n",
       "      <td>0.009053</td>\n",
       "      <td>44.600</td>\n",
       "      <td>44.60</td>\n",
       "    </tr>\n",
       "    <tr>\n",
       "      <th>1012</th>\n",
       "      <td>62356</td>\n",
       "      <td>181.300</td>\n",
       "      <td>183.75</td>\n",
       "      <td>183.75</td>\n",
       "      <td>42.542580</td>\n",
       "      <td>NaN</td>\n",
       "      <td>34.072251</td>\n",
       "      <td>-99.264676</td>\n",
       "      <td>TX</td>\n",
       "      <td>0.234653</td>\n",
       "      <td>0.231524</td>\n",
       "      <td>NaN</td>\n",
       "      <td>NaN</td>\n",
       "      <td>181.300</td>\n",
       "      <td>183.75</td>\n",
       "    </tr>\n",
       "    <tr>\n",
       "      <th>1013</th>\n",
       "      <td>62488</td>\n",
       "      <td>199.275</td>\n",
       "      <td>199.28</td>\n",
       "      <td>199.28</td>\n",
       "      <td>36.402968</td>\n",
       "      <td>NaN</td>\n",
       "      <td>37.978800</td>\n",
       "      <td>-95.224400</td>\n",
       "      <td>KS</td>\n",
       "      <td>0.182677</td>\n",
       "      <td>0.182672</td>\n",
       "      <td>NaN</td>\n",
       "      <td>NaN</td>\n",
       "      <td>199.275</td>\n",
       "      <td>199.28</td>\n",
       "    </tr>\n",
       "  </tbody>\n",
       "</table>\n",
       "<p>993 rows × 15 columns</p>\n",
       "</div>"
      ],
      "text/plain": [
       "     eia_id    t_cap   p_cap            mean MW   2018 MW   latitude  \\\n",
       "            <lambda>     max     min                                   \n",
       "1       508    7.500    4.50    3.00   3.719400  1.209589  38.033327   \n",
       "2       692    6.270    3.30    1.20   1.956919  1.990753  41.835278   \n",
       "3       944    3.000    3.00    3.00   0.453438  0.871804  41.451494   \n",
       "4      1172    1.500    1.50    1.50   0.314396  0.584247  43.279722   \n",
       "5      1998    1.200    1.25    1.25   0.262241  0.344635  43.940500   \n",
       "...     ...      ...     ...     ...        ...       ...        ...   \n",
       "1009  62227   30.240   30.24   30.24   9.313927       NaN  33.578240   \n",
       "1010  62269  100.750   66.63   34.13  36.363242       NaN  44.104377   \n",
       "1011  62291   44.600   44.60   44.60   8.145776  0.403767  44.857694   \n",
       "1012  62356  181.300  183.75  183.75  42.542580       NaN  34.072251   \n",
       "1013  62488  199.275  199.28  199.28  36.402968       NaN  37.978800   \n",
       "\n",
       "       longitude State t_cap_factor p_cap_factor t_cap_factor_18  \\\n",
       "                                                                   \n",
       "1    -102.537915    CO     0.495920     0.826533        0.161279   \n",
       "2    -106.242778    WY     0.312108     0.593006        0.317505   \n",
       "3     -90.148547    IL     0.151146     0.151146        0.290601   \n",
       "4     -92.810556    IA     0.209597     0.209597        0.389498   \n",
       "5     -94.943400    MN     0.218535     0.209793        0.287196   \n",
       "...          ...   ...          ...          ...             ...   \n",
       "1009  -99.192100    TX     0.308000     0.308000             NaN   \n",
       "1010  -96.126733    MN     0.360925     0.545749             NaN   \n",
       "1011  -95.568888    MN     0.182641     0.182641        0.009053   \n",
       "1012  -99.264676    TX     0.234653     0.231524             NaN   \n",
       "1013  -95.224400    KS     0.182677     0.182672             NaN   \n",
       "\n",
       "     p_cap_factor_18 t_capacity p_capacity  \n",
       "                                            \n",
       "1           0.268798      7.500       4.50  \n",
       "2           0.603259      6.270       3.30  \n",
       "3           0.290601      3.000       3.00  \n",
       "4           0.389498      1.500       1.50  \n",
       "5           0.275708      1.200       1.25  \n",
       "...              ...        ...        ...  \n",
       "1009             NaN     30.240      30.24  \n",
       "1010             NaN    100.750      66.63  \n",
       "1011        0.009053     44.600      44.60  \n",
       "1012             NaN    181.300     183.75  \n",
       "1013             NaN    199.275     199.28  \n",
       "\n",
       "[993 rows x 15 columns]"
      ]
     },
     "execution_count": 45,
     "metadata": {},
     "output_type": "execute_result"
    }
   ],
   "source": [
    "usw_df_stats = usw_df_filter.groupby('eia_id').agg({'t_cap' : lambda x : x.sum()/1000, 'p_cap' : ['max','min']}).reset_index()\n",
    "#usw_df_stats['cap_factor'] = usw_df_stats.apply(lambda row: power_dfrow['eia_id'],axis=1)\n",
    "usw_df_stats['mean MW'] = [power_df.set_index('Plant Code').loc[eia_id,'mean MW'] for eia_id in usw_df_stats['eia_id']]\n",
    "usw_df_stats['2018 MW'] = [power_df.set_index('Plant Code').loc[eia_id,'2018 MW'] for eia_id in usw_df_stats['eia_id']]\n",
    "usw_df_stats['latitude'] = [power_df.set_index('Plant Code').loc[eia_id,'lat'] for eia_id in usw_df_stats['eia_id']]\n",
    "usw_df_stats['longitude'] = [power_df.set_index('Plant Code').loc[eia_id,'lon'] for eia_id in usw_df_stats['eia_id']]\n",
    "usw_df_stats['State'] = [power_df.set_index('Plant Code').loc[eia_id,'State'] for eia_id in usw_df_stats['eia_id']]\n",
    "usw_df_stats['t_cap_factor'] = usw_df_stats['mean MW']/usw_df_stats[('t_cap','<lambda>')]\n",
    "usw_df_stats['p_cap_factor'] = usw_df_stats['mean MW']/usw_df_stats[('p_cap','max')]\n",
    "usw_df_stats['t_cap_factor_18'] = usw_df_stats['2018 MW']/usw_df_stats[('t_cap','<lambda>')]\n",
    "usw_df_stats['p_cap_factor_18'] = usw_df_stats['2018 MW']/usw_df_stats[('p_cap','max')]\n",
    "# usw_df_stats['t_capacity'] = usw_df_stats[('t_cap','<lambda>')]\n",
    "# usw_df_stats['p_capacity'] = usw_df_stats[('p_cap','max')]\n",
    "#filter out some nans\n",
    "usw_df_stats = usw_df_stats.iloc[\n",
    "    usw_df_stats[['latitude','longitude','t_cap_factor','p_cap_factor','eia_id','mean MW']\n",
    "                ].dropna().index]\n",
    "\n",
    "#filter out AK, HI\n",
    "usw_df_stats = usw_df_stats[(usw_df_stats['State'] != 'HI') & (usw_df_stats['State'] != 'AK')]\n",
    "usw_df_stats"
   ]
  },
  {
   "cell_type": "code",
   "execution_count": 35,
   "metadata": {},
   "outputs": [],
   "source": [
    "#fusw_df_stats.to_pickle('../data/all-power-1-2.pkl')"
   ]
  },
  {
   "cell_type": "code",
   "execution_count": 251,
   "metadata": {},
   "outputs": [
    {
     "data": {
      "text/plain": [
       "max    0.66\n",
       "min    0.07\n",
       "dtype: float64"
      ]
     },
     "execution_count": 251,
     "metadata": {},
     "output_type": "execute_result"
    }
   ],
   "source": [
    "np.min(usw_df_stats['p_cap'])"
   ]
  },
  {
   "cell_type": "code",
   "execution_count": 262,
   "metadata": {},
   "outputs": [
    {
     "name": "stdout",
     "output_type": "stream",
     "text": [
      "8\n"
     ]
    },
    {
     "data": {
      "text/plain": [
       "12"
      ]
     },
     "execution_count": 262,
     "metadata": {},
     "output_type": "execute_result"
    },
    {
     "data": {
      "image/png": "[encoded data removed]",
      "text/plain": [
       "<Figure size 432x288 with 1 Axes>"
      ]
     },
     "metadata": {
      "needs_background": "light"
     },
     "output_type": "display_data"
    }
   ],
   "source": [
    "from matplotlib import pyplot as plt\n",
    "%matplotlib inline\n",
    "plt.plot(usw_df_stats['mean MW']-usw_df_stats[('p_cap','max')])\n",
    "print(np.count_nonzero(usw_df_stats['mean MW']>usw_df_stats[('p_cap','max')]))\n",
    "np.count_nonzero(usw_df_stats['mean MW']>usw_df_stats[('t_cap','<lambda>')])"
   ]
  },
  {
   "cell_type": "code",
   "execution_count": 173,
   "metadata": {},
   "outputs": [
    {
     "data": {
      "text/plain": [
       "1.3855646688443584"
      ]
     },
     "execution_count": 173,
     "metadata": {},
     "output_type": "execute_result"
    }
   ],
   "source": [
    "np.max(usw_df_stats[('p_cap','std')]/usw_df_stats[('p_cap','mean')])"
   ]
  },
  {
   "cell_type": "code",
   "execution_count": 169,
   "metadata": {},
   "outputs": [
    {
     "data": {
      "text/plain": [
       "eia_id\n",
       "90         1.005882\n",
       "508        4.200000\n",
       "692        2.393333\n",
       "944        3.000000\n",
       "1172       1.500000\n",
       "            ...    \n",
       "62291     44.600000\n",
       "62356    183.750000\n",
       "62488    199.280000\n",
       "62642           NaN\n",
       "62736      0.975000\n",
       "Name: (p_cap, mean), Length: 1016, dtype: float64"
      ]
     },
     "execution_count": 169,
     "metadata": {},
     "output_type": "execute_result"
    }
   ],
   "source": [
    "usw_df_stats[('p_cap','mean')]"
   ]
  }
 ],
 "metadata": {
  "kernelspec": {
   "display_name": "Python 3",
   "language": "python",
   "name": "python3"
  },
  "language_info": {
   "codemirror_mode": {
    "name": "ipython",
    "version": 3
   },
   "file_extension": ".py",
   "mimetype": "text/x-python",
   "name": "python",
   "nbconvert_exporter": "python",
   "pygments_lexer": "ipython3",
   "version": "3.8.2"
  },
  "latex_envs": {
   "LaTeX_envs_menu_present": true,
   "autoclose": false,
   "autocomplete": true,
   "bibliofile": "biblio.bib",
   "cite_by": "apalike",
   "current_citInitial": 1,
   "eqLabelWithNumbers": true,
   "eqNumInitial": 1,
   "hotkeys": {
    "equation": "Ctrl-E",
    "itemize": "Ctrl-I"
   },
   "labels_anchors": false,
   "latex_user_defs": false,
   "report_style_numbering": false,
   "user_envs_cfg": false
  },
  "toc": {
   "base_numbering": 1,
   "nav_menu": {},
   "number_sections": true,
   "sideBar": true,
   "skip_h1_title": false,
   "title_cell": "Table of Contents",
   "title_sidebar": "Contents",
   "toc_cell": false,
   "toc_position": {},
   "toc_section_display": true,
   "toc_window_display": false
  },
  "varInspector": {
   "cols": {
    "lenName": 16,
    "lenType": 16,
    "lenVar": 40
   },
   "kernels_config": {
    "python": {
     "delete_cmd_postfix": "",
     "delete_cmd_prefix": "del ",
     "library": "var_list.py",
     "varRefreshCmd": "print(var_dic_list())"
    },
    "r": {
     "delete_cmd_postfix": ") ",
     "delete_cmd_prefix": "rm(",
     "library": "var_list.r",
     "varRefreshCmd": "cat(var_dic_list()) "
    }
   },
   "types_to_exclude": [
    "module",
    "function",
    "builtin_function_or_method",
    "instance",
    "_Feature"
   ],
   "window_display": false
  }
 },
 "nbformat": 4,
 "nbformat_minor": 4
}
