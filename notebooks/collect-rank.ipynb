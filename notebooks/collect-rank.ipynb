{
 "cells": [
  {
   "cell_type": "code",
   "execution_count": 2,
   "metadata": {},
   "outputs": [
    {
     "name": "stdout",
     "output_type": "stream",
     "text": [
      "Libraries loaded.\n"
     ]
    }
   ],
   "source": [
    "import sys\n",
    "import os\n",
    "sys.path.append(os.path.abspath(os.path.join('../src')))\n",
    "\n",
    "import pandas as pd\n",
    "import numpy as np\n",
    "import geopandas as gpd\n",
    "import json\n",
    "import seaborn as sns\n",
    "\n",
    "from shapely.geometry import Point\n",
    "from matplotlib import pyplot as plt\n",
    "%matplotlib inline\n",
    "\n",
    "import requests\n",
    "import time\n",
    "\n",
    "import transdist\n",
    "import roads\n",
    "import models\n",
    "\n",
    "print('Libraries loaded.')"
   ]
  },
  {
   "cell_type": "markdown",
   "metadata": {
    "heading_collapsed": true
   },
   "source": [
    "# Load NREL techno-economic dataset for Texas"
   ]
  },
  {
   "cell_type": "markdown",
   "metadata": {
    "hidden": true
   },
   "source": [
    "This dataset contains all sites recommended by NREL for wind development"
   ]
  },
  {
   "cell_type": "code",
   "execution_count": 3,
   "metadata": {
    "hidden": true
   },
   "outputs": [
    {
     "name": "stdout",
     "output_type": "stream",
     "text": [
      "Total number of sites 126692\n",
      "Numberr of sites in Texas 7869\n"
     ]
    },
    {
     "data": {
      "text/html": [
       "<div>\n",
       "<style scoped>\n",
       "    .dataframe tbody tr th:only-of-type {\n",
       "        vertical-align: middle;\n",
       "    }\n",
       "\n",
       "    .dataframe tbody tr th {\n",
       "        vertical-align: top;\n",
       "    }\n",
       "\n",
       "    .dataframe thead th {\n",
       "        text-align: right;\n",
       "    }\n",
       "</style>\n",
       "<table border=\"1\" class=\"dataframe\">\n",
       "  <thead>\n",
       "    <tr style=\"text-align: right;\">\n",
       "      <th></th>\n",
       "      <th>site_id</th>\n",
       "      <th>longitude</th>\n",
       "      <th>latitude</th>\n",
       "      <th>State</th>\n",
       "      <th>County</th>\n",
       "      <th>fraction_of_usable_area</th>\n",
       "      <th>power_curve</th>\n",
       "      <th>capacity</th>\n",
       "      <th>wind_speed</th>\n",
       "      <th>capacity_factor</th>\n",
       "      <th>full_timeseries_directory</th>\n",
       "      <th>full_timeseries_path</th>\n",
       "    </tr>\n",
       "  </thead>\n",
       "  <tbody>\n",
       "    <tr>\n",
       "      <th>169</th>\n",
       "      <td>169</td>\n",
       "      <td>-97.460358</td>\n",
       "      <td>25.896492</td>\n",
       "      <td>Texas</td>\n",
       "      <td>Cameron</td>\n",
       "      <td>0.0049</td>\n",
       "      <td>2</td>\n",
       "      <td>2</td>\n",
       "      <td>7.46</td>\n",
       "      <td>0.433</td>\n",
       "      <td>0</td>\n",
       "      <td>0/169.nc</td>\n",
       "    </tr>\n",
       "    <tr>\n",
       "      <th>251</th>\n",
       "      <td>251</td>\n",
       "      <td>-97.738098</td>\n",
       "      <td>26.032654</td>\n",
       "      <td>Texas</td>\n",
       "      <td>Cameron</td>\n",
       "      <td>0.5680</td>\n",
       "      <td>2</td>\n",
       "      <td>10</td>\n",
       "      <td>7.45</td>\n",
       "      <td>0.414</td>\n",
       "      <td>0</td>\n",
       "      <td>0/251.nc</td>\n",
       "    </tr>\n",
       "    <tr>\n",
       "      <th>288</th>\n",
       "      <td>288</td>\n",
       "      <td>-97.208252</td>\n",
       "      <td>26.059063</td>\n",
       "      <td>Texas</td>\n",
       "      <td>Cameron</td>\n",
       "      <td>0.0801</td>\n",
       "      <td>2</td>\n",
       "      <td>2</td>\n",
       "      <td>8.18</td>\n",
       "      <td>0.506</td>\n",
       "      <td>0</td>\n",
       "      <td>0/288.nc</td>\n",
       "    </tr>\n",
       "    <tr>\n",
       "      <th>367</th>\n",
       "      <td>367</td>\n",
       "      <td>-98.073364</td>\n",
       "      <td>26.078449</td>\n",
       "      <td>Texas</td>\n",
       "      <td>Hidalgo</td>\n",
       "      <td>0.9851</td>\n",
       "      <td>2</td>\n",
       "      <td>16</td>\n",
       "      <td>7.17</td>\n",
       "      <td>0.363</td>\n",
       "      <td>0</td>\n",
       "      <td>0/367.nc</td>\n",
       "    </tr>\n",
       "    <tr>\n",
       "      <th>494</th>\n",
       "      <td>494</td>\n",
       "      <td>-98.311340</td>\n",
       "      <td>26.143227</td>\n",
       "      <td>Texas</td>\n",
       "      <td>Hidalgo</td>\n",
       "      <td>0.9475</td>\n",
       "      <td>2</td>\n",
       "      <td>16</td>\n",
       "      <td>7.06</td>\n",
       "      <td>0.358</td>\n",
       "      <td>0</td>\n",
       "      <td>0/494.nc</td>\n",
       "    </tr>\n",
       "  </tbody>\n",
       "</table>\n",
       "</div>"
      ],
      "text/plain": [
       "     site_id  longitude   latitude  State   County  fraction_of_usable_area  \\\n",
       "169      169 -97.460358  25.896492  Texas  Cameron                   0.0049   \n",
       "251      251 -97.738098  26.032654  Texas  Cameron                   0.5680   \n",
       "288      288 -97.208252  26.059063  Texas  Cameron                   0.0801   \n",
       "367      367 -98.073364  26.078449  Texas  Hidalgo                   0.9851   \n",
       "494      494 -98.311340  26.143227  Texas  Hidalgo                   0.9475   \n",
       "\n",
       "    power_curve  capacity  wind_speed  capacity_factor  \\\n",
       "169           2         2        7.46            0.433   \n",
       "251           2        10        7.45            0.414   \n",
       "288           2         2        8.18            0.506   \n",
       "367           2        16        7.17            0.363   \n",
       "494           2        16        7.06            0.358   \n",
       "\n",
       "     full_timeseries_directory full_timeseries_path  \n",
       "169                          0             0/169.nc  \n",
       "251                          0             0/251.nc  \n",
       "288                          0             0/288.nc  \n",
       "367                          0             0/367.nc  \n",
       "494                          0             0/494.nc  "
      ]
     },
     "execution_count": 3,
     "metadata": {},
     "output_type": "execute_result"
    }
   ],
   "source": [
    "nrel_us = pd.read_csv('../data/nrel-techno-sites.csv')\n",
    "print('Total number of sites',len(nrel_us))\n",
    "#filter out all sites except those in Texas\n",
    "nrel_state = nrel_us[(nrel_us.State == 'Texas')]\n",
    "print('Numberr of sites in Texas',len(nrel_state))\n",
    "#create list of (lat,lon) pairs\n",
    "point_list = list(zip(nrel_state['latitude'],nrel_state['longitude']))\n",
    "nrel_state.head()"
   ]
  },
  {
   "cell_type": "code",
   "execution_count": 4,
   "metadata": {
    "hidden": true
   },
   "outputs": [
    {
     "data": {
      "text/plain": [
       "<matplotlib.axes._subplots.AxesSubplot at 0x7fe86b4e35b0>"
      ]
     },
     "execution_count": 4,
     "metadata": {},
     "output_type": "execute_result"
    },
    {
     "data": {
      "image/png": "[encoded data removed]",
      "text/plain": [
       "<Figure size 432x288 with 1 Axes>"
      ]
     },
     "metadata": {
      "needs_background": "light"
     },
     "output_type": "display_data"
    }
   ],
   "source": [
    "#plot capacity factor distribution\n",
    "sns.distplot(nrel_state['capacity_factor'])"
   ]
  },
  {
   "cell_type": "markdown",
   "metadata": {},
   "source": [
    "# Get closest transmission lines"
   ]
  },
  {
   "cell_type": "markdown",
   "metadata": {},
   "source": [
    "Calculate closest transmission lines"
   ]
  },
  {
   "cell_type": "code",
   "execution_count": 5,
   "metadata": {
    "scrolled": true
   },
   "outputs": [],
   "source": [
    "transdist.get_tx('../data/long-trans-data-TX.geojson')\n",
    "trans_idx_list,trans_point_list,trans_dist_list = list(zip(*[\n",
    "    transdist.find_closest_trans_point(latlon) for latlon in point_list\n",
    "]))\n",
    "\n",
    "trans_df = pd.DataFrame({\n",
    "    'site_id' : nrel_ca['site_id'],\n",
    "    'trans_idx' : trans_idx_list,\n",
    "    'latitude' : [latlon[0] for latlon in trans_point_list],\n",
    "    'longitude': [latlon[1] for latlon in trans_point_list],\n",
    "    'distance': trans_dist_list\n",
    "})\n",
    "trans_df"
   ]
  },
  {
   "cell_type": "markdown",
   "metadata": {},
   "source": [
    "Save closest transmission lines"
   ]
  },
  {
   "cell_type": "code",
   "execution_count": null,
   "metadata": {},
   "outputs": [],
   "source": [
    "#trans_df = pd.to_pickle('../data/trans-df-tx.pkl')"
   ]
  },
  {
   "cell_type": "markdown",
   "metadata": {},
   "source": [
    "Load closest transmission lines"
   ]
  },
  {
   "cell_type": "code",
   "execution_count": 7,
   "metadata": {},
   "outputs": [
    {
     "data": {
      "text/html": [
       "<div>\n",
       "<style scoped>\n",
       "    .dataframe tbody tr th:only-of-type {\n",
       "        vertical-align: middle;\n",
       "    }\n",
       "\n",
       "    .dataframe tbody tr th {\n",
       "        vertical-align: top;\n",
       "    }\n",
       "\n",
       "    .dataframe thead th {\n",
       "        text-align: right;\n",
       "    }\n",
       "</style>\n",
       "<table border=\"1\" class=\"dataframe\">\n",
       "  <thead>\n",
       "    <tr style=\"text-align: right;\">\n",
       "      <th></th>\n",
       "      <th>site_id</th>\n",
       "      <th>trans_idx</th>\n",
       "      <th>latitude</th>\n",
       "      <th>longitude</th>\n",
       "      <th>distance</th>\n",
       "    </tr>\n",
       "  </thead>\n",
       "  <tbody>\n",
       "    <tr>\n",
       "      <th>169</th>\n",
       "      <td>169</td>\n",
       "      <td>833</td>\n",
       "      <td>25.888472</td>\n",
       "      <td>-97.424833</td>\n",
       "      <td>2.279919</td>\n",
       "    </tr>\n",
       "    <tr>\n",
       "      <th>251</th>\n",
       "      <td>251</td>\n",
       "      <td>882</td>\n",
       "      <td>26.087197</td>\n",
       "      <td>-97.785635</td>\n",
       "      <td>4.778612</td>\n",
       "    </tr>\n",
       "    <tr>\n",
       "      <th>288</th>\n",
       "      <td>288</td>\n",
       "      <td>848</td>\n",
       "      <td>26.084680</td>\n",
       "      <td>-97.267434</td>\n",
       "      <td>4.080237</td>\n",
       "    </tr>\n",
       "    <tr>\n",
       "      <th>367</th>\n",
       "      <td>367</td>\n",
       "      <td>885</td>\n",
       "      <td>26.078824</td>\n",
       "      <td>-98.075022</td>\n",
       "      <td>0.106241</td>\n",
       "    </tr>\n",
       "    <tr>\n",
       "      <th>494</th>\n",
       "      <td>494</td>\n",
       "      <td>884</td>\n",
       "      <td>26.103226</td>\n",
       "      <td>-98.213942</td>\n",
       "      <td>6.649775</td>\n",
       "    </tr>\n",
       "    <tr>\n",
       "      <th>...</th>\n",
       "      <td>...</td>\n",
       "      <td>...</td>\n",
       "      <td>...</td>\n",
       "      <td>...</td>\n",
       "      <td>...</td>\n",
       "    </tr>\n",
       "    <tr>\n",
       "      <th>27791</th>\n",
       "      <td>27791</td>\n",
       "      <td>644</td>\n",
       "      <td>36.081104</td>\n",
       "      <td>-102.532032</td>\n",
       "      <td>36.307250</td>\n",
       "    </tr>\n",
       "    <tr>\n",
       "      <th>27965</th>\n",
       "      <td>27965</td>\n",
       "      <td>644</td>\n",
       "      <td>36.081104</td>\n",
       "      <td>-102.532032</td>\n",
       "      <td>38.899448</td>\n",
       "    </tr>\n",
       "    <tr>\n",
       "      <th>27966</th>\n",
       "      <td>27966</td>\n",
       "      <td>644</td>\n",
       "      <td>36.081104</td>\n",
       "      <td>-102.532032</td>\n",
       "      <td>38.092980</td>\n",
       "    </tr>\n",
       "    <tr>\n",
       "      <th>27967</th>\n",
       "      <td>27967</td>\n",
       "      <td>644</td>\n",
       "      <td>36.081104</td>\n",
       "      <td>-102.532032</td>\n",
       "      <td>35.838002</td>\n",
       "    </tr>\n",
       "    <tr>\n",
       "      <th>28131</th>\n",
       "      <td>28131</td>\n",
       "      <td>644</td>\n",
       "      <td>36.081104</td>\n",
       "      <td>-102.532032</td>\n",
       "      <td>39.880884</td>\n",
       "    </tr>\n",
       "  </tbody>\n",
       "</table>\n",
       "<p>7869 rows × 5 columns</p>\n",
       "</div>"
      ],
      "text/plain": [
       "       site_id  trans_idx   latitude   longitude   distance\n",
       "169        169        833  25.888472  -97.424833   2.279919\n",
       "251        251        882  26.087197  -97.785635   4.778612\n",
       "288        288        848  26.084680  -97.267434   4.080237\n",
       "367        367        885  26.078824  -98.075022   0.106241\n",
       "494        494        884  26.103226  -98.213942   6.649775\n",
       "...        ...        ...        ...         ...        ...\n",
       "27791    27791        644  36.081104 -102.532032  36.307250\n",
       "27965    27965        644  36.081104 -102.532032  38.899448\n",
       "27966    27966        644  36.081104 -102.532032  38.092980\n",
       "27967    27967        644  36.081104 -102.532032  35.838002\n",
       "28131    28131        644  36.081104 -102.532032  39.880884\n",
       "\n",
       "[7869 rows x 5 columns]"
      ]
     },
     "execution_count": 7,
     "metadata": {},
     "output_type": "execute_result"
    }
   ],
   "source": [
    "trans_df = pd.read_pickle('../data/trans-df-tx.pkl')\n",
    "trans_df"
   ]
  },
  {
   "cell_type": "markdown",
   "metadata": {},
   "source": [
    "Plot log transmission line distances"
   ]
  },
  {
   "cell_type": "code",
   "execution_count": 9,
   "metadata": {},
   "outputs": [
    {
     "data": {
      "text/plain": [
       "(array([  10.,   43.,  109.,  390.,  882., 1683., 2034., 1558.,  897.,\n",
       "         263.]),\n",
       " array([-1.98726426, -1.57956858, -1.1718729 , -0.76417722, -0.35648154,\n",
       "         0.05121414,  0.45890983,  0.86660551,  1.27430119,  1.68199687,\n",
       "         2.08969255]),\n",
       " <a list of 10 Patch objects>)"
      ]
     },
     "execution_count": 9,
     "metadata": {},
     "output_type": "execute_result"
    },
    {
     "data": {
      "image/png": "[encoded data removed]",
      "text/plain": [
       "<Figure size 432x288 with 1 Axes>"
      ]
     },
     "metadata": {
      "needs_background": "light"
     },
     "output_type": "display_data"
    }
   ],
   "source": [
    "plt.hist(np.log10(trans_df['distance'])); plt.show()"
   ]
  },
  {
   "cell_type": "markdown",
   "metadata": {
    "heading_collapsed": true
   },
   "source": [
    "# Find closest roads"
   ]
  },
  {
   "cell_type": "markdown",
   "metadata": {
    "heading_collapsed": true,
    "hidden": true
   },
   "source": [
    "## Calculate distances to nearest residential roads"
   ]
  },
  {
   "cell_type": "markdown",
   "metadata": {
    "hidden": true
   },
   "source": [
    "The following cell may need to be run multiple times if the Overpass API limit is reached"
   ]
  },
  {
   "cell_type": "code",
   "execution_count": 274,
   "metadata": {
    "hidden": true,
    "scrolled": true
   },
   "outputs": [
    {
     "name": "stdout",
     "output_type": "stream",
     "text": [
      "5850\n",
      "5900\n",
      "5950\n",
      "6000\n",
      "6050\n",
      "6100\n",
      "6150\n",
      "6200\n",
      "6250\n",
      "6300\n",
      "6350\n",
      "6400\n",
      "6450\n",
      "6500\n",
      "6550\n",
      "6600\n",
      "6650\n",
      "6700\n",
      "6750\n",
      "6800\n",
      "6850\n",
      "6900\n",
      "6950\n",
      "7000\n",
      "7050\n",
      "7100\n",
      "7150\n",
      "7200\n",
      "7250\n",
      "7300\n",
      "7350\n",
      "7400\n",
      "7450\n",
      "7500\n",
      "7550\n",
      "7600\n",
      "7650\n",
      "7700\n",
      "7750\n",
      "7800\n",
      "7850\n"
     ]
    }
   ],
   "source": [
    "#find closest residential roads\n",
    "res_road_data_list = []\n",
    "i = 0\n",
    "while i < len(point_list[:]):\n",
    "    if i%50 == 0:\n",
    "        print(i)\n",
    "    latlon = point_list[i]\n",
    "    res_road_data_list.append((nrel_state['site_id'].iloc[i],i) + roads.get_closest_road_radii(latlon,debug=False,valid_highways = ['residential']))\n",
    "    i = i + 1"
   ]
  },
  {
   "cell_type": "code",
   "execution_count": 279,
   "metadata": {
    "hidden": true
   },
   "outputs": [],
   "source": [
    "#check that list site IDs match the NREL database\n",
    "assert(np.all(nrel_state['site_id'].iloc[:len(res_road_data_list)] == [x[0] for x in res_road_data_list]))"
   ]
  },
  {
   "cell_type": "markdown",
   "metadata": {
    "hidden": true
   },
   "source": [
    "Create the residential road database and save"
   ]
  },
  {
   "cell_type": "code",
   "execution_count": 277,
   "metadata": {
    "hidden": true
   },
   "outputs": [
    {
     "data": {
      "text/html": [
       "<div>\n",
       "<style scoped>\n",
       "    .dataframe tbody tr th:only-of-type {\n",
       "        vertical-align: middle;\n",
       "    }\n",
       "\n",
       "    .dataframe tbody tr th {\n",
       "        vertical-align: top;\n",
       "    }\n",
       "\n",
       "    .dataframe thead th {\n",
       "        text-align: right;\n",
       "    }\n",
       "</style>\n",
       "<table border=\"1\" class=\"dataframe\">\n",
       "  <thead>\n",
       "    <tr style=\"text-align: right;\">\n",
       "      <th></th>\n",
       "      <th>site_id</th>\n",
       "      <th>i</th>\n",
       "      <th>latitude</th>\n",
       "      <th>longitude</th>\n",
       "      <th>distance</th>\n",
       "      <th>label</th>\n",
       "    </tr>\n",
       "  </thead>\n",
       "  <tbody>\n",
       "    <tr>\n",
       "      <th>169</th>\n",
       "      <td>169</td>\n",
       "      <td>0</td>\n",
       "      <td>25.896713</td>\n",
       "      <td>-97.459846</td>\n",
       "      <td>0.035290</td>\n",
       "      <td>residential</td>\n",
       "    </tr>\n",
       "    <tr>\n",
       "      <th>251</th>\n",
       "      <td>251</td>\n",
       "      <td>1</td>\n",
       "      <td>26.031307</td>\n",
       "      <td>-97.736630</td>\n",
       "      <td>0.130132</td>\n",
       "      <td>residential</td>\n",
       "    </tr>\n",
       "    <tr>\n",
       "      <th>288</th>\n",
       "      <td>288</td>\n",
       "      <td>2</td>\n",
       "      <td>26.061464</td>\n",
       "      <td>-97.205937</td>\n",
       "      <td>0.219165</td>\n",
       "      <td>residential</td>\n",
       "    </tr>\n",
       "    <tr>\n",
       "      <th>367</th>\n",
       "      <td>367</td>\n",
       "      <td>3</td>\n",
       "      <td>26.077726</td>\n",
       "      <td>-98.068152</td>\n",
       "      <td>0.327825</td>\n",
       "      <td>residential</td>\n",
       "    </tr>\n",
       "    <tr>\n",
       "      <th>494</th>\n",
       "      <td>494</td>\n",
       "      <td>4</td>\n",
       "      <td>26.140845</td>\n",
       "      <td>-98.305813</td>\n",
       "      <td>0.380563</td>\n",
       "      <td>residential</td>\n",
       "    </tr>\n",
       "    <tr>\n",
       "      <th>...</th>\n",
       "      <td>...</td>\n",
       "      <td>...</td>\n",
       "      <td>...</td>\n",
       "      <td>...</td>\n",
       "      <td>...</td>\n",
       "      <td>...</td>\n",
       "    </tr>\n",
       "    <tr>\n",
       "      <th>27791</th>\n",
       "      <td>27791</td>\n",
       "      <td>7864</td>\n",
       "      <td>36.512588</td>\n",
       "      <td>-103.014083</td>\n",
       "      <td>3.853156</td>\n",
       "      <td>residential</td>\n",
       "    </tr>\n",
       "    <tr>\n",
       "      <th>27965</th>\n",
       "      <td>27965</td>\n",
       "      <td>7865</td>\n",
       "      <td>36.492353</td>\n",
       "      <td>-103.053419</td>\n",
       "      <td>1.844439</td>\n",
       "      <td>residential</td>\n",
       "    </tr>\n",
       "    <tr>\n",
       "      <th>27966</th>\n",
       "      <td>27966</td>\n",
       "      <td>7866</td>\n",
       "      <td>36.512465</td>\n",
       "      <td>-103.014439</td>\n",
       "      <td>2.187866</td>\n",
       "      <td>residential</td>\n",
       "    </tr>\n",
       "    <tr>\n",
       "      <th>27967</th>\n",
       "      <td>27967</td>\n",
       "      <td>7867</td>\n",
       "      <td>36.486838</td>\n",
       "      <td>-102.905068</td>\n",
       "      <td>1.507610</td>\n",
       "      <td>residential</td>\n",
       "    </tr>\n",
       "    <tr>\n",
       "      <th>28131</th>\n",
       "      <td>28131</td>\n",
       "      <td>7868</td>\n",
       "      <td>36.512313</td>\n",
       "      <td>-103.015172</td>\n",
       "      <td>1.048014</td>\n",
       "      <td>residential</td>\n",
       "    </tr>\n",
       "  </tbody>\n",
       "</table>\n",
       "<p>7869 rows × 6 columns</p>\n",
       "</div>"
      ],
      "text/plain": [
       "       site_id     i   latitude   longitude  distance        label\n",
       "169        169     0  25.896713  -97.459846  0.035290  residential\n",
       "251        251     1  26.031307  -97.736630  0.130132  residential\n",
       "288        288     2  26.061464  -97.205937  0.219165  residential\n",
       "367        367     3  26.077726  -98.068152  0.327825  residential\n",
       "494        494     4  26.140845  -98.305813  0.380563  residential\n",
       "...        ...   ...        ...         ...       ...          ...\n",
       "27791    27791  7864  36.512588 -103.014083  3.853156  residential\n",
       "27965    27965  7865  36.492353 -103.053419  1.844439  residential\n",
       "27966    27966  7866  36.512465 -103.014439  2.187866  residential\n",
       "27967    27967  7867  36.486838 -102.905068  1.507610  residential\n",
       "28131    28131  7868  36.512313 -103.015172  1.048014  residential\n",
       "\n",
       "[7869 rows x 6 columns]"
      ]
     },
     "metadata": {},
     "output_type": "display_data"
    }
   ],
   "source": [
    "res_road_df= pd.DataFrame((lambda rlist: {'site_id' : nrel_state['site_id'].iloc[:len(res_road_data_list)], 'i' : rlist[1], 'latitude' : [x[0] for x in rlist[2]],\n",
    "              'longitude' : [x[1] for x in rlist[2]] ,'distance' : rlist[3], 'label' : rlist[4]})(list(zip(*res_road_data_list)))\n",
    "            )\n",
    "display(res_road_df)\n",
    "#res_road_df.to_pickle('../data/nrel-techno-tx/roads/res-road0:7869.pkl',protocol=3)\n"
   ]
  },
  {
   "cell_type": "code",
   "execution_count": 289,
   "metadata": {
    "hidden": true
   },
   "outputs": [
    {
     "name": "stderr",
     "output_type": "stream",
     "text": [
      "/Users/kook/opt/anaconda3/envs/insight_h5py/lib/python3.8/site-packages/numpy/lib/histograms.py:839: RuntimeWarning: invalid value encountered in greater_equal\n",
      "  keep = (tmp_a >= first_edge)\n",
      "/Users/kook/opt/anaconda3/envs/insight_h5py/lib/python3.8/site-packages/numpy/lib/histograms.py:840: RuntimeWarning: invalid value encountered in less_equal\n",
      "  keep &= (tmp_a <= last_edge)\n"
     ]
    },
    {
     "data": {
      "text/plain": [
       "(array([  10.,   43.,  165.,  376.,  918., 1806., 2005., 1150.,  690.,\n",
       "         499.]),\n",
       " array([-2.66326894, -2.31755457, -1.9718402 , -1.62612584, -1.28041147,\n",
       "        -0.9346971 , -0.58898273, -0.24326837,  0.102446  ,  0.44816037,\n",
       "         0.79387474]),\n",
       " <a list of 10 Patch objects>)"
      ]
     },
     "execution_count": 289,
     "metadata": {},
     "output_type": "execute_result"
    },
    {
     "data": {
      "image/png": "[encoded data removed]",
      "text/plain": [
       "<Figure size 432x288 with 1 Axes>"
      ]
     },
     "metadata": {
      "needs_background": "light"
     },
     "output_type": "display_data"
    }
   ],
   "source": [
    "plt.hist(np.log10(res_road_df['distance'])); plt.show()"
   ]
  },
  {
   "cell_type": "code",
   "execution_count": 292,
   "metadata": {
    "hidden": true
   },
   "outputs": [
    {
     "data": {
      "text/plain": [
       "<matplotlib.colorbar.Colorbar at 0x13496ce20>"
      ]
     },
     "execution_count": 292,
     "metadata": {},
     "output_type": "execute_result"
    },
    {
     "data": {
      "image/png": "[encoded data removed]",
      "text/plain": [
       "<Figure size 432x288 with 2 Axes>"
      ]
     },
     "metadata": {
      "needs_background": "light"
     },
     "output_type": "display_data"
    }
   ],
   "source": [
    "plt.scatter(res_road_df['longitude'],res_road_df['latitude'],c=np.log10(res_road_df['distance'])); plt.colorbar()"
   ]
  },
  {
   "cell_type": "markdown",
   "metadata": {
    "heading_collapsed": true,
    "hidden": true
   },
   "source": [
    "## Calculate distances to nearest viable roads"
   ]
  },
  {
   "cell_type": "markdown",
   "metadata": {
    "hidden": true
   },
   "source": [
    "Calculate distances to nearest viable roads (nonresidental paved roads). The following cell may need to be run multiple times if the Overpass API limit is reached"
   ]
  },
  {
   "cell_type": "code",
   "execution_count": 152,
   "metadata": {
    "hidden": true,
    "scrolled": true
   },
   "outputs": [
    {
     "name": "stdout",
     "output_type": "stream",
     "text": [
      "5450\n",
      "5500\n",
      "5550\n",
      "5600\n",
      "5650\n",
      "5700\n",
      "5750\n",
      "5800\n",
      "5850\n",
      "5900\n",
      "5950\n",
      "6000\n",
      "6050\n",
      "6100\n",
      "6150\n",
      "6200\n",
      "6250\n",
      "6300\n",
      "6350\n",
      "6400\n",
      "6450\n",
      "6500\n",
      "6550\n",
      "6600\n",
      "6650\n",
      "6700\n",
      "6750\n",
      "6800\n",
      "6850\n",
      "6900\n",
      "6950\n",
      "7000\n",
      "7050\n",
      "7100\n",
      "7150\n",
      "7200\n",
      "7250\n",
      "7300\n",
      "7350\n",
      "7400\n",
      "7450\n",
      "7500\n",
      "7550\n",
      "7600\n",
      "7650\n",
      "7700\n",
      "7750\n",
      "7800\n",
      "7850\n"
     ]
    }
   ],
   "source": [
    "#find closest roads\n",
    "\n",
    "road_data_list = []\n",
    "i = 0\n",
    "while i < len(point_list[:]):\n",
    "    if i%50 == 0:\n",
    "        print(i)\n",
    "    latlon = point_list[i]\n",
    "    road_data_list.append((i,) + roads.get_closest_road_radii(latlon,debug=False,))\n",
    "    i = i + 1"
   ]
  },
  {
   "cell_type": "markdown",
   "metadata": {
    "hidden": true
   },
   "source": [
    "Create and save road database"
   ]
  },
  {
   "cell_type": "code",
   "execution_count": 154,
   "metadata": {
    "hidden": true
   },
   "outputs": [
    {
     "data": {
      "text/html": [
       "<div>\n",
       "<style scoped>\n",
       "    .dataframe tbody tr th:only-of-type {\n",
       "        vertical-align: middle;\n",
       "    }\n",
       "\n",
       "    .dataframe tbody tr th {\n",
       "        vertical-align: top;\n",
       "    }\n",
       "\n",
       "    .dataframe thead th {\n",
       "        text-align: right;\n",
       "    }\n",
       "</style>\n",
       "<table border=\"1\" class=\"dataframe\">\n",
       "  <thead>\n",
       "    <tr style=\"text-align: right;\">\n",
       "      <th></th>\n",
       "      <th>site_id</th>\n",
       "      <th>i</th>\n",
       "      <th>latitude</th>\n",
       "      <th>longitude</th>\n",
       "      <th>distance</th>\n",
       "      <th>label</th>\n",
       "    </tr>\n",
       "  </thead>\n",
       "  <tbody>\n",
       "    <tr>\n",
       "      <th>169</th>\n",
       "      <td>169</td>\n",
       "      <td>0</td>\n",
       "      <td>25.896175</td>\n",
       "      <td>-97.460796</td>\n",
       "      <td>0.034964</td>\n",
       "      <td>tertiary</td>\n",
       "    </tr>\n",
       "    <tr>\n",
       "      <th>251</th>\n",
       "      <td>251</td>\n",
       "      <td>1</td>\n",
       "      <td>26.032830</td>\n",
       "      <td>-97.738788</td>\n",
       "      <td>0.044568</td>\n",
       "      <td>primary</td>\n",
       "    </tr>\n",
       "    <tr>\n",
       "      <th>288</th>\n",
       "      <td>288</td>\n",
       "      <td>2</td>\n",
       "      <td>26.071840</td>\n",
       "      <td>-97.216763</td>\n",
       "      <td>1.026501</td>\n",
       "      <td>primary</td>\n",
       "    </tr>\n",
       "    <tr>\n",
       "      <th>367</th>\n",
       "      <td>367</td>\n",
       "      <td>3</td>\n",
       "      <td>26.078643</td>\n",
       "      <td>-98.074974</td>\n",
       "      <td>0.100975</td>\n",
       "      <td>primary</td>\n",
       "    </tr>\n",
       "    <tr>\n",
       "      <th>494</th>\n",
       "      <td>494</td>\n",
       "      <td>4</td>\n",
       "      <td>26.143035</td>\n",
       "      <td>-98.312744</td>\n",
       "      <td>0.088229</td>\n",
       "      <td>trunk</td>\n",
       "    </tr>\n",
       "    <tr>\n",
       "      <th>...</th>\n",
       "      <td>...</td>\n",
       "      <td>...</td>\n",
       "      <td>...</td>\n",
       "      <td>...</td>\n",
       "      <td>...</td>\n",
       "      <td>...</td>\n",
       "    </tr>\n",
       "    <tr>\n",
       "      <th>27791</th>\n",
       "      <td>27791</td>\n",
       "      <td>7864</td>\n",
       "      <td>36.448977</td>\n",
       "      <td>-103.009130</td>\n",
       "      <td>2.201790</td>\n",
       "      <td>unclassified</td>\n",
       "    </tr>\n",
       "    <tr>\n",
       "      <th>27965</th>\n",
       "      <td>27965</td>\n",
       "      <td>7865</td>\n",
       "      <td>36.480363</td>\n",
       "      <td>-103.025504</td>\n",
       "      <td>0.134556</td>\n",
       "      <td>unclassified</td>\n",
       "    </tr>\n",
       "    <tr>\n",
       "      <th>27966</th>\n",
       "      <td>27966</td>\n",
       "      <td>7866</td>\n",
       "      <td>36.500527</td>\n",
       "      <td>-103.000867</td>\n",
       "      <td>1.223024</td>\n",
       "      <td>unclassified</td>\n",
       "    </tr>\n",
       "    <tr>\n",
       "      <th>27967</th>\n",
       "      <td>27967</td>\n",
       "      <td>7867</td>\n",
       "      <td>36.500452</td>\n",
       "      <td>-102.932340</td>\n",
       "      <td>0.886875</td>\n",
       "      <td>unclassified</td>\n",
       "    </tr>\n",
       "    <tr>\n",
       "      <th>28131</th>\n",
       "      <td>28131</td>\n",
       "      <td>7868</td>\n",
       "      <td>36.500528</td>\n",
       "      <td>-103.025619</td>\n",
       "      <td>0.071628</td>\n",
       "      <td>unclassified</td>\n",
       "    </tr>\n",
       "  </tbody>\n",
       "</table>\n",
       "<p>7869 rows × 6 columns</p>\n",
       "</div>"
      ],
      "text/plain": [
       "       site_id     i   latitude   longitude  distance         label\n",
       "169        169     0  25.896175  -97.460796  0.034964      tertiary\n",
       "251        251     1  26.032830  -97.738788  0.044568       primary\n",
       "288        288     2  26.071840  -97.216763  1.026501       primary\n",
       "367        367     3  26.078643  -98.074974  0.100975       primary\n",
       "494        494     4  26.143035  -98.312744  0.088229         trunk\n",
       "...        ...   ...        ...         ...       ...           ...\n",
       "27791    27791  7864  36.448977 -103.009130  2.201790  unclassified\n",
       "27965    27965  7865  36.480363 -103.025504  0.134556  unclassified\n",
       "27966    27966  7866  36.500527 -103.000867  1.223024  unclassified\n",
       "27967    27967  7867  36.500452 -102.932340  0.886875  unclassified\n",
       "28131    28131  7868  36.500528 -103.025619  0.071628  unclassified\n",
       "\n",
       "[7869 rows x 6 columns]"
      ]
     },
     "metadata": {},
     "output_type": "display_data"
    }
   ],
   "source": [
    "road_df= pd.DataFrame((lambda rlist: {'site_id' : nrel_state['site_id'].iloc[:len(road_data_list)], 'i' : rlist[0], 'latitude' : [x[0] for x in rlist[1]],\n",
    "              'longitude' : [x[1] for x in rlist[1]] ,'distance' : rlist[2], 'label' : rlist[3]})(list(zip(*road_data_list)))\n",
    "            )\n",
    "display(road_df)\n",
    "#road_df.to_pickle('../data/nrel-techno-tx/roads/nonres-road0:7869.npy',protocol=3)"
   ]
  },
  {
   "cell_type": "code",
   "execution_count": 18,
   "metadata": {
    "hidden": true
   },
   "outputs": [
    {
     "name": "stderr",
     "output_type": "stream",
     "text": [
      "/Users/kook/opt/anaconda3/envs/insight_h5py/lib/python3.8/site-packages/numpy/lib/histograms.py:839: RuntimeWarning: invalid value encountered in greater_equal\n",
      "  keep = (tmp_a >= first_edge)\n",
      "/Users/kook/opt/anaconda3/envs/insight_h5py/lib/python3.8/site-packages/numpy/lib/histograms.py:840: RuntimeWarning: invalid value encountered in less_equal\n",
      "  keep &= (tmp_a <= last_edge)\n"
     ]
    },
    {
     "data": {
      "image/png": "[encoded data removed]",
      "text/plain": [
       "<Figure size 432x288 with 1 Axes>"
      ]
     },
     "metadata": {
      "needs_background": "light"
     },
     "output_type": "display_data"
    }
   ],
   "source": [
    "plt.hist(road_df['distance']); plt.show()"
   ]
  },
  {
   "cell_type": "markdown",
   "metadata": {
    "heading_collapsed": true,
    "hidden": true
   },
   "source": [
    "## Load road databases"
   ]
  },
  {
   "cell_type": "code",
   "execution_count": 16,
   "metadata": {
    "hidden": true
   },
   "outputs": [],
   "source": [
    "res_road_df = pd.read_pickle('../data/nrel-techno-tx/roads/res-road0:7869.pkl')\n",
    "road_df = pd.read_pickle('../data/nrel-techno-tx/roads/nonres-road0:7869.pkl')"
   ]
  },
  {
   "cell_type": "markdown",
   "metadata": {},
   "source": [
    "# incorporate model data"
   ]
  },
  {
   "cell_type": "markdown",
   "metadata": {},
   "source": [
    "Load models"
   ]
  },
  {
   "cell_type": "code",
   "execution_count": 19,
   "metadata": {},
   "outputs": [],
   "source": [
    "import pickle as pkl\n",
    "with open('../models/land-price-17.pkl','rb') as f:\n",
    "    land_value_model = pkl.load(f)\n",
    "with open('../models/cf-model-21-tech.pkl','rb') as f:\n",
    "    capacity_class_model = pkl.load(f)"
   ]
  },
  {
   "cell_type": "markdown",
   "metadata": {},
   "source": [
    "Use capacity factor model to label high/low performance sites"
   ]
  },
  {
   "cell_type": "code",
   "execution_count": 20,
   "metadata": {},
   "outputs": [
    {
     "name": "stdout",
     "output_type": "stream",
     "text": [
      "5671 / 7869 high capacity sites\n"
     ]
    }
   ],
   "source": [
    "#format data for classifier\n",
    "X_cap = pd.concat([\n",
    "    nrel_state[['site_id','longitude','capacity_factor']].set_index('site_id'),\n",
    "    pd.DataFrame({'p_year' : np.full([len(nrel_state)],2017)},index=nrel_state['site_id'])\n",
    "],axis=1)\n",
    "best_threshold = 0.6807357617109732 #threshold chosen to achieve desired precision\n",
    "#calculate predicted labels\n",
    "y_cap = models.pred_thresh(capacity_class_model,X_cap,th=best_threshold)\n",
    "\n",
    "print(np.count_nonzero(y_cap),'/',len(y_cap),'high capacity sites')\n",
    "capacity_class = y_cap"
   ]
  },
  {
   "cell_type": "markdown",
   "metadata": {},
   "source": [
    "Use land cost regression to estimate site land price per acre"
   ]
  },
  {
   "cell_type": "code",
   "execution_count": 21,
   "metadata": {},
   "outputs": [],
   "source": [
    "X_land = nrel_state[['latitude','longitude']]\n",
    "y_land,y_land_std = land_value_model.predict(X_land,return_std=True)\n",
    "land_value = 10**y_land"
   ]
  },
  {
   "cell_type": "markdown",
   "metadata": {},
   "source": [
    "# combine data"
   ]
  },
  {
   "cell_type": "markdown",
   "metadata": {},
   "source": [
    "Combine dataframes to yield final database"
   ]
  },
  {
   "cell_type": "code",
   "execution_count": 24,
   "metadata": {},
   "outputs": [
    {
     "data": {
      "text/html": [
       "<div>\n",
       "<style scoped>\n",
       "    .dataframe tbody tr th:only-of-type {\n",
       "        vertical-align: middle;\n",
       "    }\n",
       "\n",
       "    .dataframe tbody tr th {\n",
       "        vertical-align: top;\n",
       "    }\n",
       "\n",
       "    .dataframe thead tr th {\n",
       "        text-align: left;\n",
       "    }\n",
       "\n",
       "    .dataframe thead tr:last-of-type th {\n",
       "        text-align: right;\n",
       "    }\n",
       "</style>\n",
       "<table border=\"1\" class=\"dataframe\">\n",
       "  <thead>\n",
       "    <tr>\n",
       "      <th></th>\n",
       "      <th colspan=\"4\" halign=\"left\">nrel</th>\n",
       "      <th colspan=\"4\" halign=\"left\">trans</th>\n",
       "      <th colspan=\"3\" halign=\"left\">road</th>\n",
       "      <th colspan=\"3\" halign=\"left\">res_road</th>\n",
       "      <th colspan=\"3\" halign=\"left\">ML</th>\n",
       "    </tr>\n",
       "    <tr>\n",
       "      <th></th>\n",
       "      <th>latitude</th>\n",
       "      <th>longitude</th>\n",
       "      <th>County</th>\n",
       "      <th>capacity_factor</th>\n",
       "      <th>trans_idx</th>\n",
       "      <th>latitude</th>\n",
       "      <th>longitude</th>\n",
       "      <th>distance</th>\n",
       "      <th>latitude</th>\n",
       "      <th>longitude</th>\n",
       "      <th>distance</th>\n",
       "      <th>latitude</th>\n",
       "      <th>longitude</th>\n",
       "      <th>distance</th>\n",
       "      <th>capacity_class</th>\n",
       "      <th>land_value</th>\n",
       "      <th>land_value_logstd</th>\n",
       "    </tr>\n",
       "    <tr>\n",
       "      <th>site_id</th>\n",
       "      <th></th>\n",
       "      <th></th>\n",
       "      <th></th>\n",
       "      <th></th>\n",
       "      <th></th>\n",
       "      <th></th>\n",
       "      <th></th>\n",
       "      <th></th>\n",
       "      <th></th>\n",
       "      <th></th>\n",
       "      <th></th>\n",
       "      <th></th>\n",
       "      <th></th>\n",
       "      <th></th>\n",
       "      <th></th>\n",
       "      <th></th>\n",
       "      <th></th>\n",
       "    </tr>\n",
       "  </thead>\n",
       "  <tbody>\n",
       "    <tr>\n",
       "      <th>169</th>\n",
       "      <td>25.896492</td>\n",
       "      <td>-97.460358</td>\n",
       "      <td>Cameron</td>\n",
       "      <td>0.433</td>\n",
       "      <td>833</td>\n",
       "      <td>25.888472</td>\n",
       "      <td>-97.424833</td>\n",
       "      <td>2.279919</td>\n",
       "      <td>25.896175</td>\n",
       "      <td>-97.460796</td>\n",
       "      <td>0.034964</td>\n",
       "      <td>25.896713</td>\n",
       "      <td>-97.459846</td>\n",
       "      <td>0.035290</td>\n",
       "      <td>1</td>\n",
       "      <td>7661.198190</td>\n",
       "      <td>0.387342</td>\n",
       "    </tr>\n",
       "    <tr>\n",
       "      <th>251</th>\n",
       "      <td>26.032654</td>\n",
       "      <td>-97.738098</td>\n",
       "      <td>Cameron</td>\n",
       "      <td>0.414</td>\n",
       "      <td>882</td>\n",
       "      <td>26.087197</td>\n",
       "      <td>-97.785635</td>\n",
       "      <td>4.778612</td>\n",
       "      <td>26.032830</td>\n",
       "      <td>-97.738788</td>\n",
       "      <td>0.044568</td>\n",
       "      <td>26.031307</td>\n",
       "      <td>-97.736630</td>\n",
       "      <td>0.130132</td>\n",
       "      <td>1</td>\n",
       "      <td>6440.220342</td>\n",
       "      <td>0.295477</td>\n",
       "    </tr>\n",
       "    <tr>\n",
       "      <th>288</th>\n",
       "      <td>26.059063</td>\n",
       "      <td>-97.208252</td>\n",
       "      <td>Cameron</td>\n",
       "      <td>0.506</td>\n",
       "      <td>848</td>\n",
       "      <td>26.084680</td>\n",
       "      <td>-97.267434</td>\n",
       "      <td>4.080237</td>\n",
       "      <td>26.071840</td>\n",
       "      <td>-97.216763</td>\n",
       "      <td>1.026501</td>\n",
       "      <td>26.061464</td>\n",
       "      <td>-97.205937</td>\n",
       "      <td>0.219165</td>\n",
       "      <td>1</td>\n",
       "      <td>8406.848485</td>\n",
       "      <td>0.435271</td>\n",
       "    </tr>\n",
       "    <tr>\n",
       "      <th>367</th>\n",
       "      <td>26.078449</td>\n",
       "      <td>-98.073364</td>\n",
       "      <td>Hidalgo</td>\n",
       "      <td>0.363</td>\n",
       "      <td>885</td>\n",
       "      <td>26.078824</td>\n",
       "      <td>-98.075022</td>\n",
       "      <td>0.106241</td>\n",
       "      <td>26.078643</td>\n",
       "      <td>-98.074974</td>\n",
       "      <td>0.100975</td>\n",
       "      <td>26.077726</td>\n",
       "      <td>-98.068152</td>\n",
       "      <td>0.327825</td>\n",
       "      <td>0</td>\n",
       "      <td>5174.235727</td>\n",
       "      <td>0.266716</td>\n",
       "    </tr>\n",
       "    <tr>\n",
       "      <th>494</th>\n",
       "      <td>26.143227</td>\n",
       "      <td>-98.311340</td>\n",
       "      <td>Hidalgo</td>\n",
       "      <td>0.358</td>\n",
       "      <td>884</td>\n",
       "      <td>26.103226</td>\n",
       "      <td>-98.213942</td>\n",
       "      <td>6.649775</td>\n",
       "      <td>26.143035</td>\n",
       "      <td>-98.312744</td>\n",
       "      <td>0.088229</td>\n",
       "      <td>26.140845</td>\n",
       "      <td>-98.305813</td>\n",
       "      <td>0.380563</td>\n",
       "      <td>0</td>\n",
       "      <td>4320.702080</td>\n",
       "      <td>0.264095</td>\n",
       "    </tr>\n",
       "    <tr>\n",
       "      <th>...</th>\n",
       "      <td>...</td>\n",
       "      <td>...</td>\n",
       "      <td>...</td>\n",
       "      <td>...</td>\n",
       "      <td>...</td>\n",
       "      <td>...</td>\n",
       "      <td>...</td>\n",
       "      <td>...</td>\n",
       "      <td>...</td>\n",
       "      <td>...</td>\n",
       "      <td>...</td>\n",
       "      <td>...</td>\n",
       "      <td>...</td>\n",
       "      <td>...</td>\n",
       "      <td>...</td>\n",
       "      <td>...</td>\n",
       "      <td>...</td>\n",
       "    </tr>\n",
       "    <tr>\n",
       "      <th>27791</th>\n",
       "      <td>36.466068</td>\n",
       "      <td>-102.975739</td>\n",
       "      <td>Dallam</td>\n",
       "      <td>0.436</td>\n",
       "      <td>644</td>\n",
       "      <td>36.081104</td>\n",
       "      <td>-102.532032</td>\n",
       "      <td>36.307250</td>\n",
       "      <td>36.448977</td>\n",
       "      <td>-103.009130</td>\n",
       "      <td>2.201790</td>\n",
       "      <td>36.512588</td>\n",
       "      <td>-103.014083</td>\n",
       "      <td>3.853156</td>\n",
       "      <td>1</td>\n",
       "      <td>3876.243634</td>\n",
       "      <td>0.666039</td>\n",
       "    </tr>\n",
       "    <tr>\n",
       "      <th>27965</th>\n",
       "      <td>36.481190</td>\n",
       "      <td>-103.023315</td>\n",
       "      <td>Dallam</td>\n",
       "      <td>0.420</td>\n",
       "      <td>644</td>\n",
       "      <td>36.081104</td>\n",
       "      <td>-102.532032</td>\n",
       "      <td>38.899448</td>\n",
       "      <td>36.480363</td>\n",
       "      <td>-103.025504</td>\n",
       "      <td>0.134556</td>\n",
       "      <td>36.492353</td>\n",
       "      <td>-103.053419</td>\n",
       "      <td>1.844439</td>\n",
       "      <td>1</td>\n",
       "      <td>3927.128267</td>\n",
       "      <td>0.682710</td>\n",
       "    </tr>\n",
       "    <tr>\n",
       "      <th>27966</th>\n",
       "      <td>36.482792</td>\n",
       "      <td>-103.000519</td>\n",
       "      <td>Dallam</td>\n",
       "      <td>0.420</td>\n",
       "      <td>644</td>\n",
       "      <td>36.081104</td>\n",
       "      <td>-102.532032</td>\n",
       "      <td>38.092980</td>\n",
       "      <td>36.500527</td>\n",
       "      <td>-103.000867</td>\n",
       "      <td>1.223024</td>\n",
       "      <td>36.512465</td>\n",
       "      <td>-103.014439</td>\n",
       "      <td>2.187866</td>\n",
       "      <td>1</td>\n",
       "      <td>3919.716977</td>\n",
       "      <td>0.676243</td>\n",
       "    </tr>\n",
       "    <tr>\n",
       "      <th>27967</th>\n",
       "      <td>36.487591</td>\n",
       "      <td>-102.932129</td>\n",
       "      <td>Dallam</td>\n",
       "      <td>0.445</td>\n",
       "      <td>644</td>\n",
       "      <td>36.081104</td>\n",
       "      <td>-102.532032</td>\n",
       "      <td>35.838002</td>\n",
       "      <td>36.500452</td>\n",
       "      <td>-102.932340</td>\n",
       "      <td>0.886875</td>\n",
       "      <td>36.486838</td>\n",
       "      <td>-102.905068</td>\n",
       "      <td>1.507610</td>\n",
       "      <td>0</td>\n",
       "      <td>3897.462019</td>\n",
       "      <td>0.656392</td>\n",
       "    </tr>\n",
       "    <tr>\n",
       "      <th>28131</th>\n",
       "      <td>36.499516</td>\n",
       "      <td>-103.025330</td>\n",
       "      <td>Dallam</td>\n",
       "      <td>0.444</td>\n",
       "      <td>644</td>\n",
       "      <td>36.081104</td>\n",
       "      <td>-102.532032</td>\n",
       "      <td>39.880884</td>\n",
       "      <td>36.500528</td>\n",
       "      <td>-103.025619</td>\n",
       "      <td>0.071628</td>\n",
       "      <td>36.512313</td>\n",
       "      <td>-103.015172</td>\n",
       "      <td>1.048014</td>\n",
       "      <td>0</td>\n",
       "      <td>3961.501697</td>\n",
       "      <td>0.686311</td>\n",
       "    </tr>\n",
       "  </tbody>\n",
       "</table>\n",
       "<p>7869 rows × 17 columns</p>\n",
       "</div>"
      ],
      "text/plain": [
       "              nrel                                          trans             \\\n",
       "          latitude   longitude   County capacity_factor trans_idx   latitude   \n",
       "site_id                                                                        \n",
       "169      25.896492  -97.460358  Cameron           0.433       833  25.888472   \n",
       "251      26.032654  -97.738098  Cameron           0.414       882  26.087197   \n",
       "288      26.059063  -97.208252  Cameron           0.506       848  26.084680   \n",
       "367      26.078449  -98.073364  Hidalgo           0.363       885  26.078824   \n",
       "494      26.143227  -98.311340  Hidalgo           0.358       884  26.103226   \n",
       "...            ...         ...      ...             ...       ...        ...   \n",
       "27791    36.466068 -102.975739   Dallam           0.436       644  36.081104   \n",
       "27965    36.481190 -103.023315   Dallam           0.420       644  36.081104   \n",
       "27966    36.482792 -103.000519   Dallam           0.420       644  36.081104   \n",
       "27967    36.487591 -102.932129   Dallam           0.445       644  36.081104   \n",
       "28131    36.499516 -103.025330   Dallam           0.444       644  36.081104   \n",
       "\n",
       "                                     road                         res_road  \\\n",
       "          longitude   distance   latitude   longitude  distance   latitude   \n",
       "site_id                                                                      \n",
       "169      -97.424833   2.279919  25.896175  -97.460796  0.034964  25.896713   \n",
       "251      -97.785635   4.778612  26.032830  -97.738788  0.044568  26.031307   \n",
       "288      -97.267434   4.080237  26.071840  -97.216763  1.026501  26.061464   \n",
       "367      -98.075022   0.106241  26.078643  -98.074974  0.100975  26.077726   \n",
       "494      -98.213942   6.649775  26.143035  -98.312744  0.088229  26.140845   \n",
       "...             ...        ...        ...         ...       ...        ...   \n",
       "27791   -102.532032  36.307250  36.448977 -103.009130  2.201790  36.512588   \n",
       "27965   -102.532032  38.899448  36.480363 -103.025504  0.134556  36.492353   \n",
       "27966   -102.532032  38.092980  36.500527 -103.000867  1.223024  36.512465   \n",
       "27967   -102.532032  35.838002  36.500452 -102.932340  0.886875  36.486838   \n",
       "28131   -102.532032  39.880884  36.500528 -103.025619  0.071628  36.512313   \n",
       "\n",
       "                                          ML                                 \n",
       "          longitude  distance capacity_class   land_value land_value_logstd  \n",
       "site_id                                                                      \n",
       "169      -97.459846  0.035290              1  7661.198190          0.387342  \n",
       "251      -97.736630  0.130132              1  6440.220342          0.295477  \n",
       "288      -97.205937  0.219165              1  8406.848485          0.435271  \n",
       "367      -98.068152  0.327825              0  5174.235727          0.266716  \n",
       "494      -98.305813  0.380563              0  4320.702080          0.264095  \n",
       "...             ...       ...            ...          ...               ...  \n",
       "27791   -103.014083  3.853156              1  3876.243634          0.666039  \n",
       "27965   -103.053419  1.844439              1  3927.128267          0.682710  \n",
       "27966   -103.014439  2.187866              1  3919.716977          0.676243  \n",
       "27967   -102.905068  1.507610              0  3897.462019          0.656392  \n",
       "28131   -103.015172  1.048014              0  3961.501697          0.686311  \n",
       "\n",
       "[7869 rows x 17 columns]"
      ]
     },
     "execution_count": 24,
     "metadata": {},
     "output_type": "execute_result"
    }
   ],
   "source": [
    "#make sure all site ids match\n",
    "assert(np.all((nrel_state['site_id'] == trans_df['site_id']) & (nrel_state['site_id'] == road_df['site_id'])))\n",
    "\n",
    "#columns to include from each dataframe\n",
    "nrel_names = 'site_id,latitude,longitude,County,capacity_factor'.split(',')\n",
    "trans_names = 'site_id,trans_idx,latitude,longitude,distance'.split(',')\n",
    "road_names = 'site_id,latitude,longitude,distance'.split(',')\n",
    "res_road_names = 'site_id,latitude,longitude,distance'.split(',')\n",
    "#concatenate dataframes\n",
    "df = pd.concat([\n",
    "    nrel_state[nrel_names].set_index('site_id'),\n",
    "    trans_df[trans_names].set_index('site_id'),\n",
    "    road_df[road_names].set_index('site_id'),\n",
    "    res_road_df[res_road_names].set_index('site_id'),\n",
    "    pd.DataFrame({\n",
    "        'site_id' : nrel_state['site_id'], 'capacity_class' : capacity_class,\n",
    "        'land_value' : land_value,'land_value_logstd' : y_land_std\n",
    "    }).set_index('site_id')\n",
    "],axis=1,keys=['nrel','trans','road','res_road','ML'])\n",
    "df"
   ]
  },
  {
   "cell_type": "markdown",
   "metadata": {},
   "source": [
    "Remove sites with missing values"
   ]
  },
  {
   "cell_type": "code",
   "execution_count": 25,
   "metadata": {},
   "outputs": [
    {
     "name": "stdout",
     "output_type": "stream",
     "text": [
      "4629 / 6183 remaining sites\n"
     ]
    }
   ],
   "source": [
    "clean_df = df.dropna()\n",
    "print(np.count_nonzero(clean_df[('ML','capacity_class')]),'/',len(clean_df), 'remaining sites')\n"
   ]
  },
  {
   "cell_type": "markdown",
   "metadata": {},
   "source": [
    "Save dataframe"
   ]
  },
  {
   "cell_type": "code",
   "execution_count": 306,
   "metadata": {},
   "outputs": [],
   "source": [
    "#clean_df.to_pickle('../app/data/results-21.pkl',protocol = 3)"
   ]
  }
 ],
 "metadata": {
  "kernelspec": {
   "display_name": "Python 3",
   "language": "python",
   "name": "python3"
  },
  "language_info": {
   "codemirror_mode": {
    "name": "ipython",
    "version": 3
   },
   "file_extension": ".py",
   "mimetype": "text/x-python",
   "name": "python",
   "nbconvert_exporter": "python",
   "pygments_lexer": "ipython3",
   "version": "3.8.2"
  },
  "latex_envs": {
   "LaTeX_envs_menu_present": true,
   "autoclose": false,
   "autocomplete": true,
   "bibliofile": "biblio.bib",
   "cite_by": "apalike",
   "current_citInitial": 1,
   "eqLabelWithNumbers": true,
   "eqNumInitial": 1,
   "hotkeys": {
    "equation": "Ctrl-E",
    "itemize": "Ctrl-I"
   },
   "labels_anchors": false,
   "latex_user_defs": false,
   "report_style_numbering": false,
   "user_envs_cfg": false
  },
  "toc": {
   "base_numbering": 1,
   "nav_menu": {},
   "number_sections": true,
   "sideBar": true,
   "skip_h1_title": false,
   "title_cell": "Table of Contents",
   "title_sidebar": "Contents",
   "toc_cell": false,
   "toc_position": {},
   "toc_section_display": true,
   "toc_window_display": false
  },
  "varInspector": {
   "cols": {
    "lenName": 16,
    "lenType": 16,
    "lenVar": 40
   },
   "kernels_config": {
    "python": {
     "delete_cmd_postfix": "",
     "delete_cmd_prefix": "del ",
     "library": "var_list.py",
     "varRefreshCmd": "print(var_dic_list())"
    },
    "r": {
     "delete_cmd_postfix": ") ",
     "delete_cmd_prefix": "rm(",
     "library": "var_list.r",
     "varRefreshCmd": "cat(var_dic_list()) "
    }
   },
   "types_to_exclude": [
    "module",
    "function",
    "builtin_function_or_method",
    "instance",
    "_Feature"
   ],
   "window_display": false
  }
 },
 "nbformat": 4,
 "nbformat_minor": 4
}
