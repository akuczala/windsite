{
 "cells": [
  {
   "cell_type": "code",
   "execution_count": 233,
   "metadata": {},
   "outputs": [
    {
     "name": "stdout",
     "output_type": "stream",
     "text": [
      "Libraries loaded.\n"
     ]
    }
   ],
   "source": [
    "import imp\n",
    "import sys\n",
    "sys.path.append('/Users/kook/insight/windsite/src')\n",
    "# import wind\n",
    "# imp.reload(wind)\n",
    "# import wind\n",
    "import seaborn as sns\n",
    "import transdist\n",
    "imp.reload(transdist)\n",
    "import transdist\n",
    "\n",
    "import imp\n",
    "import roads\n",
    "imp.reload(roads)\n",
    "import roads\n",
    "\n",
    "import pandas as pd\n",
    "import numpy as np\n",
    "import geopandas as gpd\n",
    "import requests\n",
    "from shapely.geometry import Point\n",
    "from matplotlib import pyplot as plt\n",
    "%matplotlib inline\n",
    "import time\n",
    "\n",
    "import gmaps\n",
    "import os\n",
    "gmaps.configure(api_key=os.environ[\"GOOGLE_API_KEY\"])\n",
    "import json\n",
    "\n",
    "print('Libraries loaded.')"
   ]
  },
  {
   "cell_type": "markdown",
   "metadata": {},
   "source": [
    "# nrel techno sites"
   ]
  },
  {
   "cell_type": "code",
   "execution_count": 4,
   "metadata": {},
   "outputs": [
    {
     "name": "stdout",
     "output_type": "stream",
     "text": [
      "126692\n",
      "7869\n"
     ]
    },
    {
     "data": {
      "text/html": [
       "<div>\n",
       "<style scoped>\n",
       "    .dataframe tbody tr th:only-of-type {\n",
       "        vertical-align: middle;\n",
       "    }\n",
       "\n",
       "    .dataframe tbody tr th {\n",
       "        vertical-align: top;\n",
       "    }\n",
       "\n",
       "    .dataframe thead th {\n",
       "        text-align: right;\n",
       "    }\n",
       "</style>\n",
       "<table border=\"1\" class=\"dataframe\">\n",
       "  <thead>\n",
       "    <tr style=\"text-align: right;\">\n",
       "      <th></th>\n",
       "      <th>site_id</th>\n",
       "      <th>longitude</th>\n",
       "      <th>latitude</th>\n",
       "      <th>State</th>\n",
       "      <th>County</th>\n",
       "      <th>fraction_of_usable_area</th>\n",
       "      <th>power_curve</th>\n",
       "      <th>capacity</th>\n",
       "      <th>wind_speed</th>\n",
       "      <th>capacity_factor</th>\n",
       "      <th>full_timeseries_directory</th>\n",
       "      <th>full_timeseries_path</th>\n",
       "    </tr>\n",
       "  </thead>\n",
       "  <tbody>\n",
       "    <tr>\n",
       "      <th>169</th>\n",
       "      <td>169</td>\n",
       "      <td>-97.460358</td>\n",
       "      <td>25.896492</td>\n",
       "      <td>Texas</td>\n",
       "      <td>Cameron</td>\n",
       "      <td>0.0049</td>\n",
       "      <td>2</td>\n",
       "      <td>2</td>\n",
       "      <td>7.46</td>\n",
       "      <td>0.433</td>\n",
       "      <td>0</td>\n",
       "      <td>0/169.nc</td>\n",
       "    </tr>\n",
       "    <tr>\n",
       "      <th>251</th>\n",
       "      <td>251</td>\n",
       "      <td>-97.738098</td>\n",
       "      <td>26.032654</td>\n",
       "      <td>Texas</td>\n",
       "      <td>Cameron</td>\n",
       "      <td>0.5680</td>\n",
       "      <td>2</td>\n",
       "      <td>10</td>\n",
       "      <td>7.45</td>\n",
       "      <td>0.414</td>\n",
       "      <td>0</td>\n",
       "      <td>0/251.nc</td>\n",
       "    </tr>\n",
       "    <tr>\n",
       "      <th>288</th>\n",
       "      <td>288</td>\n",
       "      <td>-97.208252</td>\n",
       "      <td>26.059063</td>\n",
       "      <td>Texas</td>\n",
       "      <td>Cameron</td>\n",
       "      <td>0.0801</td>\n",
       "      <td>2</td>\n",
       "      <td>2</td>\n",
       "      <td>8.18</td>\n",
       "      <td>0.506</td>\n",
       "      <td>0</td>\n",
       "      <td>0/288.nc</td>\n",
       "    </tr>\n",
       "    <tr>\n",
       "      <th>367</th>\n",
       "      <td>367</td>\n",
       "      <td>-98.073364</td>\n",
       "      <td>26.078449</td>\n",
       "      <td>Texas</td>\n",
       "      <td>Hidalgo</td>\n",
       "      <td>0.9851</td>\n",
       "      <td>2</td>\n",
       "      <td>16</td>\n",
       "      <td>7.17</td>\n",
       "      <td>0.363</td>\n",
       "      <td>0</td>\n",
       "      <td>0/367.nc</td>\n",
       "    </tr>\n",
       "    <tr>\n",
       "      <th>494</th>\n",
       "      <td>494</td>\n",
       "      <td>-98.311340</td>\n",
       "      <td>26.143227</td>\n",
       "      <td>Texas</td>\n",
       "      <td>Hidalgo</td>\n",
       "      <td>0.9475</td>\n",
       "      <td>2</td>\n",
       "      <td>16</td>\n",
       "      <td>7.06</td>\n",
       "      <td>0.358</td>\n",
       "      <td>0</td>\n",
       "      <td>0/494.nc</td>\n",
       "    </tr>\n",
       "  </tbody>\n",
       "</table>\n",
       "</div>"
      ],
      "text/plain": [
       "     site_id  longitude   latitude  State   County  fraction_of_usable_area  \\\n",
       "169      169 -97.460358  25.896492  Texas  Cameron                   0.0049   \n",
       "251      251 -97.738098  26.032654  Texas  Cameron                   0.5680   \n",
       "288      288 -97.208252  26.059063  Texas  Cameron                   0.0801   \n",
       "367      367 -98.073364  26.078449  Texas  Hidalgo                   0.9851   \n",
       "494      494 -98.311340  26.143227  Texas  Hidalgo                   0.9475   \n",
       "\n",
       "    power_curve  capacity  wind_speed  capacity_factor  \\\n",
       "169           2         2        7.46            0.433   \n",
       "251           2        10        7.45            0.414   \n",
       "288           2         2        8.18            0.506   \n",
       "367           2        16        7.17            0.363   \n",
       "494           2        16        7.06            0.358   \n",
       "\n",
       "     full_timeseries_directory full_timeseries_path  \n",
       "169                          0             0/169.nc  \n",
       "251                          0             0/251.nc  \n",
       "288                          0             0/288.nc  \n",
       "367                          0             0/367.nc  \n",
       "494                          0             0/494.nc  "
      ]
     },
     "execution_count": 4,
     "metadata": {},
     "output_type": "execute_result"
    }
   ],
   "source": [
    "nrel_us = pd.read_csv('../data/nrel-techno-sites.csv')\n",
    "print(len(nrel_us))\n",
    "nrel_state = nrel_us[(nrel_us.State == 'Texas')]\n",
    "print(len(nrel_state))\n",
    "point_list = list(zip(nrel_state['latitude'],nrel_state['longitude']))\n",
    "nrel_state.head()"
   ]
  },
  {
   "cell_type": "code",
   "execution_count": 171,
   "metadata": {},
   "outputs": [
    {
     "data": {
      "text/plain": [
       "<matplotlib.axes._subplots.AxesSubplot at 0x132ad7f40>"
      ]
     },
     "execution_count": 171,
     "metadata": {},
     "output_type": "execute_result"
    },
    {
     "data": {
      "image/png": "[encoded data removed]",
      "text/plain": [
       "<Figure size 432x288 with 1 Axes>"
      ]
     },
     "metadata": {
      "needs_background": "light"
     },
     "output_type": "display_data"
    }
   ],
   "source": [
    "sns.distplot(nrel_state['capacity_factor'])"
   ]
  },
  {
   "cell_type": "markdown",
   "metadata": {
    "heading_collapsed": true
   },
   "source": [
    "# transmission"
   ]
  },
  {
   "cell_type": "code",
   "execution_count": 94,
   "metadata": {
    "hidden": true
   },
   "outputs": [
    {
     "name": "stdout",
     "output_type": "stream",
     "text": [
      "CPU times: user 30.5 s, sys: 155 ms, total: 30.7 s\n",
      "Wall time: 30.9 s\n"
     ]
    },
    {
     "data": {
      "text/plain": [
       "(882, (26.0871967721134, -97.7856351906115), 4.778611523323892)"
      ]
     },
     "execution_count": 94,
     "metadata": {},
     "output_type": "execute_result"
    }
   ],
   "source": [
    "%time transdist.find_closest_trans_point(point_list[1])"
   ]
  },
  {
   "cell_type": "code",
   "execution_count": 91,
   "metadata": {
    "hidden": true,
    "scrolled": true
   },
   "outputs": [
    {
     "ename": "KeyboardInterrupt",
     "evalue": "",
     "output_type": "error",
     "traceback": [
      "\u001b[0;31m---------------------------------------------------------------------------\u001b[0m",
      "\u001b[0;31mKeyboardInterrupt\u001b[0m                         Traceback (most recent call last)",
      "\u001b[0;32m<timed exec>\u001b[0m in \u001b[0;36m<module>\u001b[0;34m\u001b[0m\n",
      "\u001b[0;32m<timed exec>\u001b[0m in \u001b[0;36m<listcomp>\u001b[0;34m(.0)\u001b[0m\n",
      "\u001b[0;32m~/insight/windsite/src/transdist.py\u001b[0m in \u001b[0;36mfind_closest_trans_point\u001b[0;34m(latlon)\u001b[0m\n\u001b[1;32m     76\u001b[0m \u001b[0;32mdef\u001b[0m \u001b[0mfind_closest_trans_point\u001b[0m\u001b[0;34m(\u001b[0m\u001b[0mlatlon\u001b[0m\u001b[0;34m)\u001b[0m\u001b[0;34m:\u001b[0m\u001b[0;34m\u001b[0m\u001b[0;34m\u001b[0m\u001b[0m\n\u001b[1;32m     77\u001b[0m     \u001b[0mlonlat\u001b[0m \u001b[0;34m=\u001b[0m \u001b[0mlatlon\u001b[0m\u001b[0;34m[\u001b[0m\u001b[0;34m:\u001b[0m\u001b[0;34m:\u001b[0m\u001b[0;34m-\u001b[0m\u001b[0;36m1\u001b[0m\u001b[0;34m]\u001b[0m\u001b[0;34m\u001b[0m\u001b[0;34m\u001b[0m\u001b[0m\n\u001b[0;32m---> 78\u001b[0;31m     closest_coords = [find_closest_in_geo(this.special_gdf['geometry'].iloc[i],lonlat)\n\u001b[0m\u001b[1;32m     79\u001b[0m                      for i in range(len(this.special_gdf))]\n\u001b[1;32m     80\u001b[0m     \u001b[0mbest_idx\u001b[0m \u001b[0;34m=\u001b[0m \u001b[0mint\u001b[0m\u001b[0;34m(\u001b[0m\u001b[0mnp\u001b[0m\u001b[0;34m.\u001b[0m\u001b[0margmin\u001b[0m\u001b[0;34m(\u001b[0m\u001b[0;34m[\u001b[0m\u001b[0mdistance_metric\u001b[0m\u001b[0;34m(\u001b[0m\u001b[0mlonlat\u001b[0m\u001b[0;34m,\u001b[0m\u001b[0mp\u001b[0m\u001b[0;34m)\u001b[0m \u001b[0;32mfor\u001b[0m \u001b[0mp\u001b[0m \u001b[0;32min\u001b[0m \u001b[0mclosest_coords\u001b[0m\u001b[0;34m]\u001b[0m\u001b[0;34m)\u001b[0m\u001b[0;34m)\u001b[0m\u001b[0;34m\u001b[0m\u001b[0;34m\u001b[0m\u001b[0m\n",
      "\u001b[0;32m~/insight/windsite/src/transdist.py\u001b[0m in \u001b[0;36m<listcomp>\u001b[0;34m(.0)\u001b[0m\n\u001b[1;32m     76\u001b[0m \u001b[0;32mdef\u001b[0m \u001b[0mfind_closest_trans_point\u001b[0m\u001b[0;34m(\u001b[0m\u001b[0mlatlon\u001b[0m\u001b[0;34m)\u001b[0m\u001b[0;34m:\u001b[0m\u001b[0;34m\u001b[0m\u001b[0;34m\u001b[0m\u001b[0m\n\u001b[1;32m     77\u001b[0m     \u001b[0mlonlat\u001b[0m \u001b[0;34m=\u001b[0m \u001b[0mlatlon\u001b[0m\u001b[0;34m[\u001b[0m\u001b[0;34m:\u001b[0m\u001b[0;34m:\u001b[0m\u001b[0;34m-\u001b[0m\u001b[0;36m1\u001b[0m\u001b[0;34m]\u001b[0m\u001b[0;34m\u001b[0m\u001b[0;34m\u001b[0m\u001b[0m\n\u001b[0;32m---> 78\u001b[0;31m     closest_coords = [find_closest_in_geo(this.special_gdf['geometry'].iloc[i],lonlat)\n\u001b[0m\u001b[1;32m     79\u001b[0m                      for i in range(len(this.special_gdf))]\n\u001b[1;32m     80\u001b[0m     \u001b[0mbest_idx\u001b[0m \u001b[0;34m=\u001b[0m \u001b[0mint\u001b[0m\u001b[0;34m(\u001b[0m\u001b[0mnp\u001b[0m\u001b[0;34m.\u001b[0m\u001b[0margmin\u001b[0m\u001b[0;34m(\u001b[0m\u001b[0;34m[\u001b[0m\u001b[0mdistance_metric\u001b[0m\u001b[0;34m(\u001b[0m\u001b[0mlonlat\u001b[0m\u001b[0;34m,\u001b[0m\u001b[0mp\u001b[0m\u001b[0;34m)\u001b[0m \u001b[0;32mfor\u001b[0m \u001b[0mp\u001b[0m \u001b[0;32min\u001b[0m \u001b[0mclosest_coords\u001b[0m\u001b[0;34m]\u001b[0m\u001b[0;34m)\u001b[0m\u001b[0;34m)\u001b[0m\u001b[0;34m\u001b[0m\u001b[0;34m\u001b[0m\u001b[0m\n",
      "\u001b[0;32m~/insight/windsite/src/transdist.py\u001b[0m in \u001b[0;36mfind_closest_in_geo\u001b[0;34m(geo, lonlat, max_dist)\u001b[0m\n\u001b[1;32m     66\u001b[0m     \u001b[0;31m#closest = FAR\u001b[0m\u001b[0;34m\u001b[0m\u001b[0;34m\u001b[0m\u001b[0;34m\u001b[0m\u001b[0m\n\u001b[1;32m     67\u001b[0m     \u001b[0;32mif\u001b[0m \u001b[0mtype\u001b[0m\u001b[0;34m(\u001b[0m\u001b[0mgeo\u001b[0m\u001b[0;34m)\u001b[0m \u001b[0;34m==\u001b[0m \u001b[0mLineString\u001b[0m\u001b[0;34m:\u001b[0m\u001b[0;34m\u001b[0m\u001b[0;34m\u001b[0m\u001b[0m\n\u001b[0;32m---> 68\u001b[0;31m         \u001b[0mbest_idx\u001b[0m \u001b[0;34m=\u001b[0m \u001b[0mnp\u001b[0m\u001b[0;34m.\u001b[0m\u001b[0margmin\u001b[0m\u001b[0;34m(\u001b[0m\u001b[0;34m[\u001b[0m\u001b[0mdistance_metric\u001b[0m\u001b[0;34m(\u001b[0m\u001b[0mlonlat\u001b[0m\u001b[0;34m,\u001b[0m\u001b[0mp\u001b[0m\u001b[0;34m)\u001b[0m \u001b[0;32mfor\u001b[0m \u001b[0mp\u001b[0m \u001b[0;32min\u001b[0m \u001b[0mgeo\u001b[0m\u001b[0;34m.\u001b[0m\u001b[0mcoords\u001b[0m\u001b[0;34m]\u001b[0m\u001b[0;34m)\u001b[0m\u001b[0;34m\u001b[0m\u001b[0;34m\u001b[0m\u001b[0m\n\u001b[0m\u001b[1;32m     69\u001b[0m         \u001b[0;32mreturn\u001b[0m \u001b[0mgeo\u001b[0m\u001b[0;34m.\u001b[0m\u001b[0mcoords\u001b[0m\u001b[0;34m[\u001b[0m\u001b[0mint\u001b[0m\u001b[0;34m(\u001b[0m\u001b[0mbest_idx\u001b[0m\u001b[0;34m)\u001b[0m\u001b[0;34m]\u001b[0m\u001b[0;34m\u001b[0m\u001b[0;34m\u001b[0m\u001b[0m\n\u001b[1;32m     70\u001b[0m     \u001b[0;32melse\u001b[0m\u001b[0;34m:\u001b[0m\u001b[0;34m\u001b[0m\u001b[0;34m\u001b[0m\u001b[0m\n",
      "\u001b[0;32m~/insight/windsite/src/transdist.py\u001b[0m in \u001b[0;36m<listcomp>\u001b[0;34m(.0)\u001b[0m\n\u001b[1;32m     66\u001b[0m     \u001b[0;31m#closest = FAR\u001b[0m\u001b[0;34m\u001b[0m\u001b[0;34m\u001b[0m\u001b[0;34m\u001b[0m\u001b[0m\n\u001b[1;32m     67\u001b[0m     \u001b[0;32mif\u001b[0m \u001b[0mtype\u001b[0m\u001b[0;34m(\u001b[0m\u001b[0mgeo\u001b[0m\u001b[0;34m)\u001b[0m \u001b[0;34m==\u001b[0m \u001b[0mLineString\u001b[0m\u001b[0;34m:\u001b[0m\u001b[0;34m\u001b[0m\u001b[0;34m\u001b[0m\u001b[0m\n\u001b[0;32m---> 68\u001b[0;31m         \u001b[0mbest_idx\u001b[0m \u001b[0;34m=\u001b[0m \u001b[0mnp\u001b[0m\u001b[0;34m.\u001b[0m\u001b[0margmin\u001b[0m\u001b[0;34m(\u001b[0m\u001b[0;34m[\u001b[0m\u001b[0mdistance_metric\u001b[0m\u001b[0;34m(\u001b[0m\u001b[0mlonlat\u001b[0m\u001b[0;34m,\u001b[0m\u001b[0mp\u001b[0m\u001b[0;34m)\u001b[0m \u001b[0;32mfor\u001b[0m \u001b[0mp\u001b[0m \u001b[0;32min\u001b[0m \u001b[0mgeo\u001b[0m\u001b[0;34m.\u001b[0m\u001b[0mcoords\u001b[0m\u001b[0;34m]\u001b[0m\u001b[0;34m)\u001b[0m\u001b[0;34m\u001b[0m\u001b[0;34m\u001b[0m\u001b[0m\n\u001b[0m\u001b[1;32m     69\u001b[0m         \u001b[0;32mreturn\u001b[0m \u001b[0mgeo\u001b[0m\u001b[0;34m.\u001b[0m\u001b[0mcoords\u001b[0m\u001b[0;34m[\u001b[0m\u001b[0mint\u001b[0m\u001b[0;34m(\u001b[0m\u001b[0mbest_idx\u001b[0m\u001b[0;34m)\u001b[0m\u001b[0;34m]\u001b[0m\u001b[0;34m\u001b[0m\u001b[0;34m\u001b[0m\u001b[0m\n\u001b[1;32m     70\u001b[0m     \u001b[0;32melse\u001b[0m\u001b[0;34m:\u001b[0m\u001b[0;34m\u001b[0m\u001b[0;34m\u001b[0m\u001b[0m\n",
      "\u001b[0;32m~/insight/windsite/src/transdist.py\u001b[0m in \u001b[0;36mdistance_metric\u001b[0;34m(lonlat1, lonlat2)\u001b[0m\n\u001b[1;32m     59\u001b[0m     \u001b[0;34m(\u001b[0m\u001b[0mlonlat1\u001b[0m\u001b[0;34m[\u001b[0m\u001b[0;36m1\u001b[0m\u001b[0;34m]\u001b[0m\u001b[0;34m-\u001b[0m\u001b[0mlonlat2\u001b[0m\u001b[0;34m[\u001b[0m\u001b[0;36m1\u001b[0m\u001b[0;34m]\u001b[0m\u001b[0;34m)\u001b[0m\u001b[0;34m**\u001b[0m\u001b[0;36m2\u001b[0m\u001b[0;34m\u001b[0m\u001b[0;34m\u001b[0m\u001b[0m\n\u001b[1;32m     60\u001b[0m \u001b[0;32mdef\u001b[0m \u001b[0mdistance_metric\u001b[0m\u001b[0;34m(\u001b[0m\u001b[0mlonlat1\u001b[0m\u001b[0;34m,\u001b[0m\u001b[0mlonlat2\u001b[0m\u001b[0;34m)\u001b[0m\u001b[0;34m:\u001b[0m\u001b[0;34m\u001b[0m\u001b[0;34m\u001b[0m\u001b[0m\n\u001b[0;32m---> 61\u001b[0;31m     \u001b[0;32mreturn\u001b[0m \u001b[0mdistance\u001b[0m\u001b[0;34m(\u001b[0m\u001b[0mlonlat1\u001b[0m\u001b[0;34m[\u001b[0m\u001b[0;34m:\u001b[0m\u001b[0;34m:\u001b[0m\u001b[0;34m-\u001b[0m\u001b[0;36m1\u001b[0m\u001b[0;34m]\u001b[0m\u001b[0;34m,\u001b[0m\u001b[0mlonlat2\u001b[0m\u001b[0;34m[\u001b[0m\u001b[0;34m:\u001b[0m\u001b[0;34m:\u001b[0m\u001b[0;34m-\u001b[0m\u001b[0;36m1\u001b[0m\u001b[0;34m]\u001b[0m\u001b[0;34m)\u001b[0m\u001b[0;34m\u001b[0m\u001b[0;34m\u001b[0m\u001b[0m\n\u001b[0m\u001b[1;32m     62\u001b[0m \u001b[0;32mdef\u001b[0m \u001b[0mbbox_is_in_radius\u001b[0m\u001b[0;34m(\u001b[0m\u001b[0mlatlon\u001b[0m\u001b[0;34m,\u001b[0m\u001b[0mbounds\u001b[0m\u001b[0;34m,\u001b[0m\u001b[0mradius\u001b[0m\u001b[0;34m)\u001b[0m\u001b[0;34m:\u001b[0m\u001b[0;34m\u001b[0m\u001b[0;34m\u001b[0m\u001b[0m\n\u001b[1;32m     63\u001b[0m     \u001b[0;31m#if distance_metric()\u001b[0m\u001b[0;34m\u001b[0m\u001b[0;34m\u001b[0m\u001b[0;34m\u001b[0m\u001b[0m\n",
      "\u001b[0;32m~/opt/anaconda3/envs/insight_h5py/lib/python3.8/site-packages/geopy/distance.py\u001b[0m in \u001b[0;36m__init__\u001b[0;34m(self, *args, **kwargs)\u001b[0m\n\u001b[1;32m    387\u001b[0m         \u001b[0mkwargs\u001b[0m\u001b[0;34m.\u001b[0m\u001b[0mpop\u001b[0m\u001b[0;34m(\u001b[0m\u001b[0;34m'iterations'\u001b[0m\u001b[0;34m,\u001b[0m \u001b[0;36m0\u001b[0m\u001b[0;34m)\u001b[0m\u001b[0;34m\u001b[0m\u001b[0;34m\u001b[0m\u001b[0m\n\u001b[1;32m    388\u001b[0m         \u001b[0mmajor\u001b[0m\u001b[0;34m,\u001b[0m \u001b[0mminor\u001b[0m\u001b[0;34m,\u001b[0m \u001b[0mf\u001b[0m \u001b[0;34m=\u001b[0m \u001b[0mself\u001b[0m\u001b[0;34m.\u001b[0m\u001b[0mELLIPSOID\u001b[0m\u001b[0;34m\u001b[0m\u001b[0;34m\u001b[0m\u001b[0m\n\u001b[0;32m--> 389\u001b[0;31m         \u001b[0msuper\u001b[0m\u001b[0;34m(\u001b[0m\u001b[0mgeodesic\u001b[0m\u001b[0;34m,\u001b[0m \u001b[0mself\u001b[0m\u001b[0;34m)\u001b[0m\u001b[0;34m.\u001b[0m\u001b[0m__init__\u001b[0m\u001b[0;34m(\u001b[0m\u001b[0;34m*\u001b[0m\u001b[0margs\u001b[0m\u001b[0;34m,\u001b[0m \u001b[0;34m**\u001b[0m\u001b[0mkwargs\u001b[0m\u001b[0;34m)\u001b[0m\u001b[0;34m\u001b[0m\u001b[0;34m\u001b[0m\u001b[0m\n\u001b[0m\u001b[1;32m    390\u001b[0m \u001b[0;34m\u001b[0m\u001b[0m\n\u001b[1;32m    391\u001b[0m     \u001b[0;32mdef\u001b[0m \u001b[0mset_ellipsoid\u001b[0m\u001b[0;34m(\u001b[0m\u001b[0mself\u001b[0m\u001b[0;34m,\u001b[0m \u001b[0mellipsoid\u001b[0m\u001b[0;34m)\u001b[0m\u001b[0;34m:\u001b[0m\u001b[0;34m\u001b[0m\u001b[0;34m\u001b[0m\u001b[0m\n",
      "\u001b[0;32m~/opt/anaconda3/envs/insight_h5py/lib/python3.8/site-packages/geopy/distance.py\u001b[0m in \u001b[0;36m__init__\u001b[0;34m(self, *args, **kwargs)\u001b[0m\n\u001b[1;32m    162\u001b[0m         \u001b[0;32melif\u001b[0m \u001b[0mlen\u001b[0m\u001b[0;34m(\u001b[0m\u001b[0margs\u001b[0m\u001b[0;34m)\u001b[0m \u001b[0;34m>\u001b[0m \u001b[0;36m1\u001b[0m\u001b[0;34m:\u001b[0m\u001b[0;34m\u001b[0m\u001b[0;34m\u001b[0m\u001b[0m\n\u001b[1;32m    163\u001b[0m             \u001b[0;32mfor\u001b[0m \u001b[0ma\u001b[0m\u001b[0;34m,\u001b[0m \u001b[0mb\u001b[0m \u001b[0;32min\u001b[0m \u001b[0mutil\u001b[0m\u001b[0;34m.\u001b[0m\u001b[0mpairwise\u001b[0m\u001b[0;34m(\u001b[0m\u001b[0margs\u001b[0m\u001b[0;34m)\u001b[0m\u001b[0;34m:\u001b[0m\u001b[0;34m\u001b[0m\u001b[0;34m\u001b[0m\u001b[0m\n\u001b[0;32m--> 164\u001b[0;31m                 \u001b[0mkilometers\u001b[0m \u001b[0;34m+=\u001b[0m \u001b[0mself\u001b[0m\u001b[0;34m.\u001b[0m\u001b[0mmeasure\u001b[0m\u001b[0;34m(\u001b[0m\u001b[0ma\u001b[0m\u001b[0;34m,\u001b[0m \u001b[0mb\u001b[0m\u001b[0;34m)\u001b[0m\u001b[0;34m\u001b[0m\u001b[0;34m\u001b[0m\u001b[0m\n\u001b[0m\u001b[1;32m    165\u001b[0m \u001b[0;34m\u001b[0m\u001b[0m\n\u001b[1;32m    166\u001b[0m         \u001b[0mkilometers\u001b[0m \u001b[0;34m+=\u001b[0m \u001b[0munits\u001b[0m\u001b[0;34m.\u001b[0m\u001b[0mkilometers\u001b[0m\u001b[0;34m(\u001b[0m\u001b[0;34m**\u001b[0m\u001b[0mkwargs\u001b[0m\u001b[0;34m)\u001b[0m\u001b[0;34m\u001b[0m\u001b[0;34m\u001b[0m\u001b[0m\n",
      "\u001b[0;32m~/opt/anaconda3/envs/insight_h5py/lib/python3.8/site-packages/geopy/distance.py\u001b[0m in \u001b[0;36mmeasure\u001b[0;34m(self, a, b)\u001b[0m\n\u001b[1;32m    417\u001b[0m             \u001b[0mself\u001b[0m\u001b[0;34m.\u001b[0m\u001b[0mgeod\u001b[0m \u001b[0;34m=\u001b[0m \u001b[0mGeodesic\u001b[0m\u001b[0;34m(\u001b[0m\u001b[0mself\u001b[0m\u001b[0;34m.\u001b[0m\u001b[0mELLIPSOID\u001b[0m\u001b[0;34m[\u001b[0m\u001b[0;36m0\u001b[0m\u001b[0;34m]\u001b[0m\u001b[0;34m,\u001b[0m \u001b[0mself\u001b[0m\u001b[0;34m.\u001b[0m\u001b[0mELLIPSOID\u001b[0m\u001b[0;34m[\u001b[0m\u001b[0;36m2\u001b[0m\u001b[0;34m]\u001b[0m\u001b[0;34m)\u001b[0m\u001b[0;34m\u001b[0m\u001b[0;34m\u001b[0m\u001b[0m\n\u001b[1;32m    418\u001b[0m \u001b[0;34m\u001b[0m\u001b[0m\n\u001b[0;32m--> 419\u001b[0;31m         s12 = self.geod.Inverse(lat1, lon1, lat2, lon2,\n\u001b[0m\u001b[1;32m    420\u001b[0m                                 Geodesic.DISTANCE)['s12']\n\u001b[1;32m    421\u001b[0m \u001b[0;34m\u001b[0m\u001b[0m\n",
      "\u001b[0;32m~/opt/anaconda3/envs/insight_h5py/lib/python3.8/site-packages/geographiclib/geodesic.py\u001b[0m in \u001b[0;36mInverse\u001b[0;34m(self, lat1, lon1, lat2, lon2, outmask)\u001b[0m\n\u001b[1;32m   1033\u001b[0m     \"\"\"\n\u001b[1;32m   1034\u001b[0m \u001b[0;34m\u001b[0m\u001b[0m\n\u001b[0;32m-> 1035\u001b[0;31m     a12, s12, salp1,calp1, salp2,calp2, m12, M12, M21, S12 = self._GenInverse(\n\u001b[0m\u001b[1;32m   1036\u001b[0m       lat1, lon1, lat2, lon2, outmask)\n\u001b[1;32m   1037\u001b[0m     \u001b[0moutmask\u001b[0m \u001b[0;34m&=\u001b[0m \u001b[0mGeodesic\u001b[0m\u001b[0;34m.\u001b[0m\u001b[0mOUT_MASK\u001b[0m\u001b[0;34m\u001b[0m\u001b[0;34m\u001b[0m\u001b[0m\n",
      "\u001b[0;32m~/opt/anaconda3/envs/insight_h5py/lib/python3.8/site-packages/geographiclib/geodesic.py\u001b[0m in \u001b[0;36m_GenInverse\u001b[0;34m(self, lat1, lon1, lat2, lon2, outmask)\u001b[0m\n\u001b[1;32m    878\u001b[0m           \u001b[0;31m# WGS84 and random input: mean = 2.85, sd = 0.60\u001b[0m\u001b[0;34m\u001b[0m\u001b[0;34m\u001b[0m\u001b[0;34m\u001b[0m\u001b[0m\n\u001b[1;32m    879\u001b[0m           (v, salp2, calp2, sig12, ssig1, csig1, ssig2, csig2,\n\u001b[0;32m--> 880\u001b[0;31m            \u001b[0meps\u001b[0m\u001b[0;34m,\u001b[0m \u001b[0mdomg12\u001b[0m\u001b[0;34m,\u001b[0m \u001b[0mdv\u001b[0m\u001b[0;34m)\u001b[0m \u001b[0;34m=\u001b[0m \u001b[0mself\u001b[0m\u001b[0;34m.\u001b[0m\u001b[0m_Lambda12\u001b[0m\u001b[0;34m(\u001b[0m\u001b[0;34m\u001b[0m\u001b[0;34m\u001b[0m\u001b[0m\n\u001b[0m\u001b[1;32m    881\u001b[0m              \u001b[0msbet1\u001b[0m\u001b[0;34m,\u001b[0m \u001b[0mcbet1\u001b[0m\u001b[0;34m,\u001b[0m \u001b[0mdn1\u001b[0m\u001b[0;34m,\u001b[0m \u001b[0msbet2\u001b[0m\u001b[0;34m,\u001b[0m \u001b[0mcbet2\u001b[0m\u001b[0;34m,\u001b[0m \u001b[0mdn2\u001b[0m\u001b[0;34m,\u001b[0m\u001b[0;34m\u001b[0m\u001b[0;34m\u001b[0m\u001b[0m\n\u001b[1;32m    882\u001b[0m              \u001b[0msalp1\u001b[0m\u001b[0;34m,\u001b[0m \u001b[0mcalp1\u001b[0m\u001b[0;34m,\u001b[0m \u001b[0mslam12\u001b[0m\u001b[0;34m,\u001b[0m \u001b[0mclam12\u001b[0m\u001b[0;34m,\u001b[0m \u001b[0mnumit\u001b[0m \u001b[0;34m<\u001b[0m \u001b[0mGeodesic\u001b[0m\u001b[0;34m.\u001b[0m\u001b[0mmaxit1_\u001b[0m\u001b[0;34m,\u001b[0m\u001b[0;34m\u001b[0m\u001b[0;34m\u001b[0m\u001b[0m\n",
      "\u001b[0;32m~/opt/anaconda3/envs/insight_h5py/lib/python3.8/site-packages/geographiclib/geodesic.py\u001b[0m in \u001b[0;36m_Lambda12\u001b[0;34m(self, sbet1, cbet1, dn1, sbet2, cbet2, dn2, salp1, calp1, slam120, clam120, diffp, C1a, C2a, C3a)\u001b[0m\n\u001b[1;32m    656\u001b[0m     \u001b[0;31m# and subst for calp0 and rearrange to give (choose positive sqrt\u001b[0m\u001b[0;34m\u001b[0m\u001b[0;34m\u001b[0m\u001b[0;34m\u001b[0m\u001b[0m\n\u001b[1;32m    657\u001b[0m     \u001b[0;31m# to give alp2 in [0, pi/2]).\u001b[0m\u001b[0;34m\u001b[0m\u001b[0;34m\u001b[0m\u001b[0;34m\u001b[0m\u001b[0m\n\u001b[0;32m--> 658\u001b[0;31m     calp2 = (math.sqrt(Math.sq(calp1 * cbet1) +\n\u001b[0m\u001b[1;32m    659\u001b[0m                        ((cbet2 - cbet1) * (cbet1 + cbet2) if cbet1 < -sbet1\n\u001b[1;32m    660\u001b[0m                         else (sbet1 - sbet2) * (sbet1 + sbet2))) / cbet2\n",
      "\u001b[0;32m~/opt/anaconda3/envs/insight_h5py/lib/python3.8/site-packages/geographiclib/geomath.py\u001b[0m in \u001b[0;36msq\u001b[0;34m(x)\u001b[0m\n\u001b[1;32m     35\u001b[0m   \u001b[0mnan\u001b[0m \u001b[0;34m=\u001b[0m \u001b[0mfloat\u001b[0m\u001b[0;34m(\u001b[0m\u001b[0;34m\"nan\"\u001b[0m\u001b[0;34m)\u001b[0m \u001b[0;32mif\u001b[0m \u001b[0msys\u001b[0m\u001b[0;34m.\u001b[0m\u001b[0mversion_info\u001b[0m \u001b[0;34m>\u001b[0m \u001b[0;34m(\u001b[0m\u001b[0;36m2\u001b[0m\u001b[0;34m,\u001b[0m \u001b[0;36m6\u001b[0m\u001b[0;34m)\u001b[0m \u001b[0;32melse\u001b[0m \u001b[0minf\u001b[0m \u001b[0;34m-\u001b[0m \u001b[0minf\u001b[0m\u001b[0;34m\u001b[0m\u001b[0;34m\u001b[0m\u001b[0m\n\u001b[1;32m     36\u001b[0m \u001b[0;34m\u001b[0m\u001b[0m\n\u001b[0;32m---> 37\u001b[0;31m   \u001b[0;32mdef\u001b[0m \u001b[0msq\u001b[0m\u001b[0;34m(\u001b[0m\u001b[0mx\u001b[0m\u001b[0;34m)\u001b[0m\u001b[0;34m:\u001b[0m\u001b[0;34m\u001b[0m\u001b[0;34m\u001b[0m\u001b[0m\n\u001b[0m\u001b[1;32m     38\u001b[0m     \u001b[0;34m\"\"\"Square a number\"\"\"\u001b[0m\u001b[0;34m\u001b[0m\u001b[0;34m\u001b[0m\u001b[0m\n\u001b[1;32m     39\u001b[0m \u001b[0;34m\u001b[0m\u001b[0m\n",
      "\u001b[0;31mKeyboardInterrupt\u001b[0m: "
     ]
    }
   ],
   "source": [
    "transdist.get_tx('../data/long-trans-data-TX.geojson')\n",
    "%time trans_idx_list,trans_point_list,trans_dist_list = list(zip(*[transdist.find_closest_trans_point(latlon) for latlon in point_list[:5]]))"
   ]
  },
  {
   "cell_type": "code",
   "execution_count": 81,
   "metadata": {
    "hidden": true
   },
   "outputs": [
    {
     "data": {
      "text/html": [
       "<div>\n",
       "<style scoped>\n",
       "    .dataframe tbody tr th:only-of-type {\n",
       "        vertical-align: middle;\n",
       "    }\n",
       "\n",
       "    .dataframe tbody tr th {\n",
       "        vertical-align: top;\n",
       "    }\n",
       "\n",
       "    .dataframe thead th {\n",
       "        text-align: right;\n",
       "    }\n",
       "</style>\n",
       "<table border=\"1\" class=\"dataframe\">\n",
       "  <thead>\n",
       "    <tr style=\"text-align: right;\">\n",
       "      <th></th>\n",
       "      <th>site_id</th>\n",
       "      <th>trans_idx</th>\n",
       "      <th>latitude</th>\n",
       "      <th>longitude</th>\n",
       "      <th>distance</th>\n",
       "    </tr>\n",
       "  </thead>\n",
       "  <tbody>\n",
       "    <tr>\n",
       "      <th>14960</th>\n",
       "      <td>14960</td>\n",
       "      <td>21</td>\n",
       "      <td>32.760762</td>\n",
       "      <td>-114.758057</td>\n",
       "      <td>0.489166</td>\n",
       "    </tr>\n",
       "    <tr>\n",
       "      <th>14961</th>\n",
       "      <td>14961</td>\n",
       "      <td>21</td>\n",
       "      <td>32.755820</td>\n",
       "      <td>-114.737533</td>\n",
       "      <td>0.144866</td>\n",
       "    </tr>\n",
       "    <tr>\n",
       "      <th>15019</th>\n",
       "      <td>15019</td>\n",
       "      <td>21</td>\n",
       "      <td>32.760918</td>\n",
       "      <td>-114.785208</td>\n",
       "      <td>0.429378</td>\n",
       "    </tr>\n",
       "    <tr>\n",
       "      <th>15020</th>\n",
       "      <td>15020</td>\n",
       "      <td>21</td>\n",
       "      <td>32.760782</td>\n",
       "      <td>-114.763691</td>\n",
       "      <td>0.730965</td>\n",
       "    </tr>\n",
       "    <tr>\n",
       "      <th>15021</th>\n",
       "      <td>15021</td>\n",
       "      <td>788</td>\n",
       "      <td>32.772353</td>\n",
       "      <td>-114.748950</td>\n",
       "      <td>0.422307</td>\n",
       "    </tr>\n",
       "    <tr>\n",
       "      <th>...</th>\n",
       "      <td>...</td>\n",
       "      <td>...</td>\n",
       "      <td>...</td>\n",
       "      <td>...</td>\n",
       "      <td>...</td>\n",
       "    </tr>\n",
       "    <tr>\n",
       "      <th>105964</th>\n",
       "      <td>105964</td>\n",
       "      <td>807</td>\n",
       "      <td>41.929079</td>\n",
       "      <td>-122.365740</td>\n",
       "      <td>4.953008</td>\n",
       "    </tr>\n",
       "    <tr>\n",
       "      <th>106091</th>\n",
       "      <td>106091</td>\n",
       "      <td>882</td>\n",
       "      <td>41.728283</td>\n",
       "      <td>-122.630512</td>\n",
       "      <td>11.365939</td>\n",
       "    </tr>\n",
       "    <tr>\n",
       "      <th>106312</th>\n",
       "      <td>106312</td>\n",
       "      <td>851</td>\n",
       "      <td>41.936491</td>\n",
       "      <td>-123.828342</td>\n",
       "      <td>26.184677</td>\n",
       "    </tr>\n",
       "    <tr>\n",
       "      <th>106583</th>\n",
       "      <td>106583</td>\n",
       "      <td>882</td>\n",
       "      <td>41.728283</td>\n",
       "      <td>-122.630512</td>\n",
       "      <td>26.690433</td>\n",
       "    </tr>\n",
       "    <tr>\n",
       "      <th>108380</th>\n",
       "      <td>108380</td>\n",
       "      <td>851</td>\n",
       "      <td>41.997997</td>\n",
       "      <td>-123.788704</td>\n",
       "      <td>3.340916</td>\n",
       "    </tr>\n",
       "  </tbody>\n",
       "</table>\n",
       "<p>3932 rows × 5 columns</p>\n",
       "</div>"
      ],
      "text/plain": [
       "        site_id  trans_idx   latitude   longitude   distance\n",
       "14960     14960         21  32.760762 -114.758057   0.489166\n",
       "14961     14961         21  32.755820 -114.737533   0.144866\n",
       "15019     15019         21  32.760918 -114.785208   0.429378\n",
       "15020     15020         21  32.760782 -114.763691   0.730965\n",
       "15021     15021        788  32.772353 -114.748950   0.422307\n",
       "...         ...        ...        ...         ...        ...\n",
       "105964   105964        807  41.929079 -122.365740   4.953008\n",
       "106091   106091        882  41.728283 -122.630512  11.365939\n",
       "106312   106312        851  41.936491 -123.828342  26.184677\n",
       "106583   106583        882  41.728283 -122.630512  26.690433\n",
       "108380   108380        851  41.997997 -123.788704   3.340916\n",
       "\n",
       "[3932 rows x 5 columns]"
      ]
     },
     "execution_count": 81,
     "metadata": {},
     "output_type": "execute_result"
    }
   ],
   "source": [
    "trans_df = pd.DataFrame({\n",
    "    'site_id' : nrel_ca['site_id'],\n",
    "    'trans_idx' : trans_idx_list,\n",
    "    'latitude' : [latlon[0] for latlon in trans_point_list],\n",
    "    'longitude': [latlon[1] for latlon in trans_point_list],\n",
    "    'distance': trans_dist_list\n",
    "})\n",
    "trans_df"
   ]
  },
  {
   "cell_type": "code",
   "execution_count": 157,
   "metadata": {
    "hidden": true
   },
   "outputs": [
    {
     "data": {
      "text/html": [
       "<div>\n",
       "<style scoped>\n",
       "    .dataframe tbody tr th:only-of-type {\n",
       "        vertical-align: middle;\n",
       "    }\n",
       "\n",
       "    .dataframe tbody tr th {\n",
       "        vertical-align: top;\n",
       "    }\n",
       "\n",
       "    .dataframe thead th {\n",
       "        text-align: right;\n",
       "    }\n",
       "</style>\n",
       "<table border=\"1\" class=\"dataframe\">\n",
       "  <thead>\n",
       "    <tr style=\"text-align: right;\">\n",
       "      <th></th>\n",
       "      <th>site_id</th>\n",
       "      <th>trans_idx</th>\n",
       "      <th>latitude</th>\n",
       "      <th>longitude</th>\n",
       "      <th>distance</th>\n",
       "    </tr>\n",
       "  </thead>\n",
       "  <tbody>\n",
       "    <tr>\n",
       "      <th>169</th>\n",
       "      <td>169</td>\n",
       "      <td>833</td>\n",
       "      <td>25.888472</td>\n",
       "      <td>-97.424833</td>\n",
       "      <td>2.279919</td>\n",
       "    </tr>\n",
       "    <tr>\n",
       "      <th>251</th>\n",
       "      <td>251</td>\n",
       "      <td>882</td>\n",
       "      <td>26.087197</td>\n",
       "      <td>-97.785635</td>\n",
       "      <td>4.778612</td>\n",
       "    </tr>\n",
       "    <tr>\n",
       "      <th>288</th>\n",
       "      <td>288</td>\n",
       "      <td>848</td>\n",
       "      <td>26.084680</td>\n",
       "      <td>-97.267434</td>\n",
       "      <td>4.080237</td>\n",
       "    </tr>\n",
       "    <tr>\n",
       "      <th>367</th>\n",
       "      <td>367</td>\n",
       "      <td>885</td>\n",
       "      <td>26.078824</td>\n",
       "      <td>-98.075022</td>\n",
       "      <td>0.106241</td>\n",
       "    </tr>\n",
       "    <tr>\n",
       "      <th>494</th>\n",
       "      <td>494</td>\n",
       "      <td>884</td>\n",
       "      <td>26.103226</td>\n",
       "      <td>-98.213942</td>\n",
       "      <td>6.649775</td>\n",
       "    </tr>\n",
       "    <tr>\n",
       "      <th>...</th>\n",
       "      <td>...</td>\n",
       "      <td>...</td>\n",
       "      <td>...</td>\n",
       "      <td>...</td>\n",
       "      <td>...</td>\n",
       "    </tr>\n",
       "    <tr>\n",
       "      <th>27791</th>\n",
       "      <td>27791</td>\n",
       "      <td>644</td>\n",
       "      <td>36.081104</td>\n",
       "      <td>-102.532032</td>\n",
       "      <td>36.307250</td>\n",
       "    </tr>\n",
       "    <tr>\n",
       "      <th>27965</th>\n",
       "      <td>27965</td>\n",
       "      <td>644</td>\n",
       "      <td>36.081104</td>\n",
       "      <td>-102.532032</td>\n",
       "      <td>38.899448</td>\n",
       "    </tr>\n",
       "    <tr>\n",
       "      <th>27966</th>\n",
       "      <td>27966</td>\n",
       "      <td>644</td>\n",
       "      <td>36.081104</td>\n",
       "      <td>-102.532032</td>\n",
       "      <td>38.092980</td>\n",
       "    </tr>\n",
       "    <tr>\n",
       "      <th>27967</th>\n",
       "      <td>27967</td>\n",
       "      <td>644</td>\n",
       "      <td>36.081104</td>\n",
       "      <td>-102.532032</td>\n",
       "      <td>35.838002</td>\n",
       "    </tr>\n",
       "    <tr>\n",
       "      <th>28131</th>\n",
       "      <td>28131</td>\n",
       "      <td>644</td>\n",
       "      <td>36.081104</td>\n",
       "      <td>-102.532032</td>\n",
       "      <td>39.880884</td>\n",
       "    </tr>\n",
       "  </tbody>\n",
       "</table>\n",
       "<p>7869 rows × 5 columns</p>\n",
       "</div>"
      ],
      "text/plain": [
       "       site_id  trans_idx   latitude   longitude   distance\n",
       "169        169        833  25.888472  -97.424833   2.279919\n",
       "251        251        882  26.087197  -97.785635   4.778612\n",
       "288        288        848  26.084680  -97.267434   4.080237\n",
       "367        367        885  26.078824  -98.075022   0.106241\n",
       "494        494        884  26.103226  -98.213942   6.649775\n",
       "...        ...        ...        ...         ...        ...\n",
       "27791    27791        644  36.081104 -102.532032  36.307250\n",
       "27965    27965        644  36.081104 -102.532032  38.899448\n",
       "27966    27966        644  36.081104 -102.532032  38.092980\n",
       "27967    27967        644  36.081104 -102.532032  35.838002\n",
       "28131    28131        644  36.081104 -102.532032  39.880884\n",
       "\n",
       "[7869 rows x 5 columns]"
      ]
     },
     "execution_count": 157,
     "metadata": {},
     "output_type": "execute_result"
    }
   ],
   "source": [
    "trans_df = pd.read_pickle('../data/trans-df-tx.pkl')\n",
    "trans_df"
   ]
  },
  {
   "cell_type": "code",
   "execution_count": 160,
   "metadata": {
    "hidden": true
   },
   "outputs": [
    {
     "data": {
      "text/plain": [
       "(array([6176.,  904.,  403.,  126.,   19.,   84.,   36.,   34.,   50.,\n",
       "          37.]),\n",
       " array([1.02975933e-02, 1.23032493e+01, 2.45962010e+01, 3.68891527e+01,\n",
       "        4.91821043e+01, 6.14750560e+01, 7.37680077e+01, 8.60609594e+01,\n",
       "        9.83539111e+01, 1.10646863e+02, 1.22939814e+02]),\n",
       " <a list of 10 Patch objects>)"
      ]
     },
     "execution_count": 160,
     "metadata": {},
     "output_type": "execute_result"
    },
    {
     "data": {
      "image/png": "[encoded data removed]",
      "text/plain": [
       "<Figure size 432x288 with 1 Axes>"
      ]
     },
     "metadata": {
      "needs_background": "light"
     },
     "output_type": "display_data"
    }
   ],
   "source": [
    "plt.hist(trans_df['distance'])"
   ]
  },
  {
   "cell_type": "code",
   "execution_count": 11,
   "metadata": {
    "hidden": true
   },
   "outputs": [
    {
     "data": {
      "text/plain": [
       "6.553333333333333"
      ]
     },
     "execution_count": 11,
     "metadata": {},
     "output_type": "execute_result"
    }
   ],
   "source": [
    "3932/10/60"
   ]
  },
  {
   "cell_type": "code",
   "execution_count": 19,
   "metadata": {
    "hidden": true
   },
   "outputs": [],
   "source": [
    "#special gdf = select special transmission lines\n",
    "transdist.special_gdf.drop('bounds',axis=1).to_file(\"special_trans_gdf.geojson\", driver='GeoJSON')\n",
    "with open('special_trans_gdf.geojson','r') as f : \n",
    "    special_gdf_geojson = json.load(f)\n",
    "trans_layer = gmaps.geojson_layer(special_gdf_geojson,stroke_color=(0,0,0))"
   ]
  },
  {
   "cell_type": "markdown",
   "metadata": {},
   "source": [
    "# roads"
   ]
  },
  {
   "cell_type": "code",
   "execution_count": 234,
   "metadata": {},
   "outputs": [
    {
     "data": {
      "text/plain": [
       "((26.0614638, -97.2059371), 0.21916479798980912, 'residential')"
      ]
     },
     "execution_count": 234,
     "metadata": {},
     "output_type": "execute_result"
    }
   ],
   "source": [
    "roads.get_closest_road_radii(latlon,debug=False,valid_highways = ['residential'])"
   ]
  },
  {
   "cell_type": "code",
   "execution_count": 241,
   "metadata": {},
   "outputs": [
    {
     "data": {
      "text/plain": [
       "169"
      ]
     },
     "execution_count": 241,
     "metadata": {},
     "output_type": "execute_result"
    }
   ],
   "source": [
    "nrel_state['site_id'].iloc[i]"
   ]
  },
  {
   "cell_type": "code",
   "execution_count": 254,
   "metadata": {},
   "outputs": [
    {
     "name": "stdout",
     "output_type": "stream",
     "text": [
      "50\n"
     ]
    },
    {
     "ename": "TypeError",
     "evalue": "closest_valid_node() got an unexpected keyword argument 'max_radius'",
     "output_type": "error",
     "traceback": [
      "\u001b[0;31m---------------------------------------------------------------------------\u001b[0m",
      "\u001b[0;31mTypeError\u001b[0m                                 Traceback (most recent call last)",
      "\u001b[0;32m<ipython-input-254-5f39bc008e56>\u001b[0m in \u001b[0;36m<module>\u001b[0;34m\u001b[0m\n\u001b[1;32m      8\u001b[0m         \u001b[0mprint\u001b[0m\u001b[0;34m(\u001b[0m\u001b[0mi\u001b[0m\u001b[0;34m)\u001b[0m\u001b[0;34m\u001b[0m\u001b[0;34m\u001b[0m\u001b[0m\n\u001b[1;32m      9\u001b[0m     \u001b[0mlatlon\u001b[0m \u001b[0;34m=\u001b[0m \u001b[0mpoint_list\u001b[0m\u001b[0;34m[\u001b[0m\u001b[0mi\u001b[0m\u001b[0;34m]\u001b[0m\u001b[0;34m\u001b[0m\u001b[0;34m\u001b[0m\u001b[0m\n\u001b[0;32m---> 10\u001b[0;31m     \u001b[0mres_road_data_list\u001b[0m\u001b[0;34m.\u001b[0m\u001b[0mappend\u001b[0m\u001b[0;34m(\u001b[0m\u001b[0;34m(\u001b[0m\u001b[0mnrel_state\u001b[0m\u001b[0;34m[\u001b[0m\u001b[0;34m'site_id'\u001b[0m\u001b[0;34m]\u001b[0m\u001b[0;34m.\u001b[0m\u001b[0miloc\u001b[0m\u001b[0;34m[\u001b[0m\u001b[0mi\u001b[0m\u001b[0;34m]\u001b[0m\u001b[0;34m,\u001b[0m\u001b[0mi\u001b[0m\u001b[0;34m)\u001b[0m \u001b[0;34m+\u001b[0m \u001b[0mroads\u001b[0m\u001b[0;34m.\u001b[0m\u001b[0mget_closest_road_radii\u001b[0m\u001b[0;34m(\u001b[0m\u001b[0mlatlon\u001b[0m\u001b[0;34m,\u001b[0m\u001b[0mdebug\u001b[0m\u001b[0;34m=\u001b[0m\u001b[0;32mFalse\u001b[0m\u001b[0;34m,\u001b[0m\u001b[0mvalid_highways\u001b[0m \u001b[0;34m=\u001b[0m \u001b[0;34m[\u001b[0m\u001b[0;34m'residential'\u001b[0m\u001b[0;34m]\u001b[0m\u001b[0;34m)\u001b[0m\u001b[0;34m)\u001b[0m\u001b[0;34m\u001b[0m\u001b[0;34m\u001b[0m\u001b[0m\n\u001b[0m\u001b[1;32m     11\u001b[0m     \u001b[0mi\u001b[0m \u001b[0;34m=\u001b[0m \u001b[0mi\u001b[0m \u001b[0;34m+\u001b[0m \u001b[0;36m1\u001b[0m\u001b[0;34m\u001b[0m\u001b[0;34m\u001b[0m\u001b[0m\n",
      "\u001b[0;32m~/insight/windsite/src/roads.py\u001b[0m in \u001b[0;36mget_closest_road_radii\u001b[0;34m(latlon, max_radius, **kwargs)\u001b[0m\n\u001b[1;32m     62\u001b[0m         \u001b[0mout\u001b[0m \u001b[0;34m=\u001b[0m \u001b[0mget_closest_road\u001b[0m\u001b[0;34m(\u001b[0m\u001b[0mlatlon\u001b[0m\u001b[0;34m,\u001b[0m\u001b[0mradius\u001b[0m\u001b[0;34m=\u001b[0m\u001b[0;36m5000\u001b[0m\u001b[0;34m,\u001b[0m\u001b[0;34m**\u001b[0m\u001b[0mkwargs\u001b[0m\u001b[0;34m)\u001b[0m\u001b[0;34m\u001b[0m\u001b[0;34m\u001b[0m\u001b[0m\n\u001b[1;32m     63\u001b[0m     \u001b[0;32mif\u001b[0m \u001b[0mnp\u001b[0m\u001b[0;34m.\u001b[0m\u001b[0misnan\u001b[0m\u001b[0;34m(\u001b[0m\u001b[0mout\u001b[0m\u001b[0;34m[\u001b[0m\u001b[0;36m1\u001b[0m\u001b[0;34m]\u001b[0m\u001b[0;34m)\u001b[0m\u001b[0;34m:\u001b[0m\u001b[0;34m\u001b[0m\u001b[0;34m\u001b[0m\u001b[0m\n\u001b[0;32m---> 64\u001b[0;31m         \u001b[0mout\u001b[0m \u001b[0;34m=\u001b[0m \u001b[0mget_closest_road\u001b[0m\u001b[0;34m(\u001b[0m\u001b[0mlatlon\u001b[0m\u001b[0;34m,\u001b[0m\u001b[0mmax_radius\u001b[0m\u001b[0;34m=\u001b[0m\u001b[0mmax_radius\u001b[0m\u001b[0;34m,\u001b[0m\u001b[0;34m**\u001b[0m\u001b[0mkwargs\u001b[0m\u001b[0;34m)\u001b[0m\u001b[0;34m\u001b[0m\u001b[0;34m\u001b[0m\u001b[0m\n\u001b[0m\u001b[1;32m     65\u001b[0m     \u001b[0;32mreturn\u001b[0m \u001b[0mout\u001b[0m\u001b[0;34m\u001b[0m\u001b[0;34m\u001b[0m\u001b[0m\n",
      "\u001b[0;32m~/insight/windsite/src/roads.py\u001b[0m in \u001b[0;36mget_closest_road\u001b[0;34m(latlon, radius, **kwargs)\u001b[0m\n\u001b[1;32m     55\u001b[0m         \u001b[0mresult\u001b[0m \u001b[0;34m=\u001b[0m \u001b[0mapi\u001b[0m\u001b[0;34m.\u001b[0m\u001b[0mquery\u001b[0m\u001b[0;34m(\u001b[0m\u001b[0mmake_query\u001b[0m\u001b[0;34m(\u001b[0m\u001b[0;34m*\u001b[0m\u001b[0mlatlon\u001b[0m\u001b[0;34m,\u001b[0m\u001b[0mradius\u001b[0m\u001b[0;34m=\u001b[0m\u001b[0mradius\u001b[0m\u001b[0;34m)\u001b[0m\u001b[0;34m)\u001b[0m\u001b[0;34m\u001b[0m\u001b[0;34m\u001b[0m\u001b[0m\n\u001b[1;32m     56\u001b[0m \u001b[0;34m\u001b[0m\u001b[0m\n\u001b[0;32m---> 57\u001b[0;31m         \u001b[0;32mreturn\u001b[0m \u001b[0mclosest_valid_node\u001b[0m\u001b[0;34m(\u001b[0m\u001b[0mlatlon\u001b[0m\u001b[0;34m,\u001b[0m\u001b[0mresult\u001b[0m\u001b[0;34m.\u001b[0m\u001b[0mways\u001b[0m\u001b[0;34m,\u001b[0m\u001b[0;34m**\u001b[0m\u001b[0mkwargs\u001b[0m\u001b[0;34m)\u001b[0m\u001b[0;34m\u001b[0m\u001b[0;34m\u001b[0m\u001b[0m\n\u001b[0m\u001b[1;32m     58\u001b[0m \u001b[0;34m\u001b[0m\u001b[0m\n\u001b[1;32m     59\u001b[0m \u001b[0;32mdef\u001b[0m \u001b[0mget_closest_road_radii\u001b[0m\u001b[0;34m(\u001b[0m\u001b[0mlatlon\u001b[0m\u001b[0;34m,\u001b[0m\u001b[0mmax_radius\u001b[0m \u001b[0;34m=\u001b[0m \u001b[0;36m10000\u001b[0m\u001b[0;34m,\u001b[0m\u001b[0;34m**\u001b[0m\u001b[0mkwargs\u001b[0m\u001b[0;34m)\u001b[0m\u001b[0;34m:\u001b[0m\u001b[0;34m\u001b[0m\u001b[0;34m\u001b[0m\u001b[0m\n",
      "\u001b[0;31mTypeError\u001b[0m: closest_valid_node() got an unexpected keyword argument 'max_radius'"
     ]
    }
   ],
   "source": [
    "#find closest residential roads\n",
    "#find closest roads\n",
    "#road_coords, road_dists = list(zip(*[roads.get_closest_road(latlon,debug=True) for latlon in grid_point_list[:]]))\n",
    "#res_road_data_list = []\n",
    "#i = 0\n",
    "while i < len(point_list[:]):\n",
    "    if i%50 == 0:\n",
    "        print(i)\n",
    "    latlon = point_list[i]\n",
    "    res_road_data_list.append((nrel_state['site_id'].iloc[i],i) + roads.get_closest_road_radii(latlon,debug=False,valid_highways = ['residential']))\n",
    "    i = i + 1"
   ]
  },
  {
   "cell_type": "code",
   "execution_count": 253,
   "metadata": {},
   "outputs": [
    {
     "name": "stdout",
     "output_type": "stream",
     "text": [
      "33 33\n"
     ]
    }
   ],
   "source": [
    "print(len(res_road_data_list),i)"
   ]
  },
  {
   "cell_type": "code",
   "execution_count": 152,
   "metadata": {
    "scrolled": true
   },
   "outputs": [
    {
     "name": "stdout",
     "output_type": "stream",
     "text": [
      "5450\n",
      "5500\n",
      "5550\n",
      "5600\n",
      "5650\n",
      "5700\n",
      "5750\n",
      "5800\n",
      "5850\n",
      "5900\n",
      "5950\n",
      "6000\n",
      "6050\n",
      "6100\n",
      "6150\n",
      "6200\n",
      "6250\n",
      "6300\n",
      "6350\n",
      "6400\n",
      "6450\n",
      "6500\n",
      "6550\n",
      "6600\n",
      "6650\n",
      "6700\n",
      "6750\n",
      "6800\n",
      "6850\n",
      "6900\n",
      "6950\n",
      "7000\n",
      "7050\n",
      "7100\n",
      "7150\n",
      "7200\n",
      "7250\n",
      "7300\n",
      "7350\n",
      "7400\n",
      "7450\n",
      "7500\n",
      "7550\n",
      "7600\n",
      "7650\n",
      "7700\n",
      "7750\n",
      "7800\n",
      "7850\n"
     ]
    }
   ],
   "source": [
    "#find closest roads\n",
    "#road_coords, road_dists = list(zip(*[roads.get_closest_road(latlon,debug=True) for latlon in grid_point_list[:]]))\n",
    "road_data_list = []\n",
    "i = 0\n",
    "while i < len(point_list[:]):\n",
    "    if i%50 == 0:\n",
    "        print(i)\n",
    "    latlon = point_list[i]\n",
    "    road_data_list.append((i,) + roads.get_closest_road_radii(latlon,debug=False,))\n",
    "    i = i + 1"
   ]
  },
  {
   "cell_type": "code",
   "execution_count": 153,
   "metadata": {},
   "outputs": [
    {
     "name": "stdout",
     "output_type": "stream",
     "text": [
      "7869 7869\n"
     ]
    }
   ],
   "source": [
    "print(len(road_data_list),i)"
   ]
  },
  {
   "cell_type": "code",
   "execution_count": 147,
   "metadata": {},
   "outputs": [
    {
     "data": {
      "text/plain": [
       "7869"
      ]
     },
     "execution_count": 147,
     "metadata": {},
     "output_type": "execute_result"
    }
   ],
   "source": [
    "len(point_list)"
   ]
  },
  {
   "cell_type": "code",
   "execution_count": 146,
   "metadata": {},
   "outputs": [
    {
     "data": {
      "text/plain": [
       "5438"
      ]
     },
     "execution_count": 146,
     "metadata": {},
     "output_type": "execute_result"
    }
   ],
   "source": [
    "len(road_data_list)"
   ]
  },
  {
   "cell_type": "code",
   "execution_count": 154,
   "metadata": {},
   "outputs": [
    {
     "data": {
      "text/html": [
       "<div>\n",
       "<style scoped>\n",
       "    .dataframe tbody tr th:only-of-type {\n",
       "        vertical-align: middle;\n",
       "    }\n",
       "\n",
       "    .dataframe tbody tr th {\n",
       "        vertical-align: top;\n",
       "    }\n",
       "\n",
       "    .dataframe thead th {\n",
       "        text-align: right;\n",
       "    }\n",
       "</style>\n",
       "<table border=\"1\" class=\"dataframe\">\n",
       "  <thead>\n",
       "    <tr style=\"text-align: right;\">\n",
       "      <th></th>\n",
       "      <th>site_id</th>\n",
       "      <th>i</th>\n",
       "      <th>latitude</th>\n",
       "      <th>longitude</th>\n",
       "      <th>distance</th>\n",
       "      <th>label</th>\n",
       "    </tr>\n",
       "  </thead>\n",
       "  <tbody>\n",
       "    <tr>\n",
       "      <th>169</th>\n",
       "      <td>169</td>\n",
       "      <td>0</td>\n",
       "      <td>25.896175</td>\n",
       "      <td>-97.460796</td>\n",
       "      <td>0.034964</td>\n",
       "      <td>tertiary</td>\n",
       "    </tr>\n",
       "    <tr>\n",
       "      <th>251</th>\n",
       "      <td>251</td>\n",
       "      <td>1</td>\n",
       "      <td>26.032830</td>\n",
       "      <td>-97.738788</td>\n",
       "      <td>0.044568</td>\n",
       "      <td>primary</td>\n",
       "    </tr>\n",
       "    <tr>\n",
       "      <th>288</th>\n",
       "      <td>288</td>\n",
       "      <td>2</td>\n",
       "      <td>26.071840</td>\n",
       "      <td>-97.216763</td>\n",
       "      <td>1.026501</td>\n",
       "      <td>primary</td>\n",
       "    </tr>\n",
       "    <tr>\n",
       "      <th>367</th>\n",
       "      <td>367</td>\n",
       "      <td>3</td>\n",
       "      <td>26.078643</td>\n",
       "      <td>-98.074974</td>\n",
       "      <td>0.100975</td>\n",
       "      <td>primary</td>\n",
       "    </tr>\n",
       "    <tr>\n",
       "      <th>494</th>\n",
       "      <td>494</td>\n",
       "      <td>4</td>\n",
       "      <td>26.143035</td>\n",
       "      <td>-98.312744</td>\n",
       "      <td>0.088229</td>\n",
       "      <td>trunk</td>\n",
       "    </tr>\n",
       "    <tr>\n",
       "      <th>...</th>\n",
       "      <td>...</td>\n",
       "      <td>...</td>\n",
       "      <td>...</td>\n",
       "      <td>...</td>\n",
       "      <td>...</td>\n",
       "      <td>...</td>\n",
       "    </tr>\n",
       "    <tr>\n",
       "      <th>27791</th>\n",
       "      <td>27791</td>\n",
       "      <td>7864</td>\n",
       "      <td>36.448977</td>\n",
       "      <td>-103.009130</td>\n",
       "      <td>2.201790</td>\n",
       "      <td>unclassified</td>\n",
       "    </tr>\n",
       "    <tr>\n",
       "      <th>27965</th>\n",
       "      <td>27965</td>\n",
       "      <td>7865</td>\n",
       "      <td>36.480363</td>\n",
       "      <td>-103.025504</td>\n",
       "      <td>0.134556</td>\n",
       "      <td>unclassified</td>\n",
       "    </tr>\n",
       "    <tr>\n",
       "      <th>27966</th>\n",
       "      <td>27966</td>\n",
       "      <td>7866</td>\n",
       "      <td>36.500527</td>\n",
       "      <td>-103.000867</td>\n",
       "      <td>1.223024</td>\n",
       "      <td>unclassified</td>\n",
       "    </tr>\n",
       "    <tr>\n",
       "      <th>27967</th>\n",
       "      <td>27967</td>\n",
       "      <td>7867</td>\n",
       "      <td>36.500452</td>\n",
       "      <td>-102.932340</td>\n",
       "      <td>0.886875</td>\n",
       "      <td>unclassified</td>\n",
       "    </tr>\n",
       "    <tr>\n",
       "      <th>28131</th>\n",
       "      <td>28131</td>\n",
       "      <td>7868</td>\n",
       "      <td>36.500528</td>\n",
       "      <td>-103.025619</td>\n",
       "      <td>0.071628</td>\n",
       "      <td>unclassified</td>\n",
       "    </tr>\n",
       "  </tbody>\n",
       "</table>\n",
       "<p>7869 rows × 6 columns</p>\n",
       "</div>"
      ],
      "text/plain": [
       "       site_id     i   latitude   longitude  distance         label\n",
       "169        169     0  25.896175  -97.460796  0.034964      tertiary\n",
       "251        251     1  26.032830  -97.738788  0.044568       primary\n",
       "288        288     2  26.071840  -97.216763  1.026501       primary\n",
       "367        367     3  26.078643  -98.074974  0.100975       primary\n",
       "494        494     4  26.143035  -98.312744  0.088229         trunk\n",
       "...        ...   ...        ...         ...       ...           ...\n",
       "27791    27791  7864  36.448977 -103.009130  2.201790  unclassified\n",
       "27965    27965  7865  36.480363 -103.025504  0.134556  unclassified\n",
       "27966    27966  7866  36.500527 -103.000867  1.223024  unclassified\n",
       "27967    27967  7867  36.500452 -102.932340  0.886875  unclassified\n",
       "28131    28131  7868  36.500528 -103.025619  0.071628  unclassified\n",
       "\n",
       "[7869 rows x 6 columns]"
      ]
     },
     "metadata": {},
     "output_type": "display_data"
    }
   ],
   "source": [
    "road_df= pd.DataFrame((lambda rlist: {'site_id' : nrel_state['site_id'].iloc[:len(road_data_list)], 'i' : rlist[0], 'latitude' : [x[0] for x in rlist[1]],\n",
    "              'longitude' : [x[1] for x in rlist[1]] ,'distance' : rlist[2], 'label' : rlist[3]})(list(zip(*road_data_list)))\n",
    "            )\n",
    "display(road_df)\n",
    "#froad_df.to_pickle('../data/nrel-techno-tx/roads/nonres-road0:f7869.npy',protocol=3)"
   ]
  },
  {
   "cell_type": "code",
   "execution_count": 156,
   "metadata": {},
   "outputs": [
    {
     "data": {
      "text/plain": [
       "1601"
      ]
     },
     "execution_count": 156,
     "metadata": {},
     "output_type": "execute_result"
    }
   ],
   "source": [
    "np.count_nonzero(road_df['label'] == 'none')"
   ]
  },
  {
   "cell_type": "code",
   "execution_count": 155,
   "metadata": {},
   "outputs": [
    {
     "name": "stderr",
     "output_type": "stream",
     "text": [
      "/Users/kook/opt/anaconda3/envs/insight_h5py/lib/python3.8/site-packages/numpy/lib/histograms.py:839: RuntimeWarning: invalid value encountered in greater_equal\n",
      "  keep = (tmp_a >= first_edge)\n",
      "/Users/kook/opt/anaconda3/envs/insight_h5py/lib/python3.8/site-packages/numpy/lib/histograms.py:840: RuntimeWarning: invalid value encountered in less_equal\n",
      "  keep &= (tmp_a <= last_edge)\n"
     ]
    },
    {
     "data": {
      "text/plain": [
       "(array([1296., 1090.,  875.,  700.,  580.,  487.,  387.,  339.,  291.,\n",
       "         223.]),\n",
       " array([8.80706622e-04, 3.13659290e-01, 6.26437873e-01, 9.39216457e-01,\n",
       "        1.25199504e+00, 1.56477362e+00, 1.87755221e+00, 2.19033079e+00,\n",
       "        2.50310937e+00, 2.81588796e+00, 3.12866654e+00]),\n",
       " <a list of 10 Patch objects>)"
      ]
     },
     "execution_count": 155,
     "metadata": {},
     "output_type": "execute_result"
    },
    {
     "data": {
      "image/png": "[encoded data removed]",
      "text/plain": [
       "<Figure size 432x288 with 1 Axes>"
      ]
     },
     "metadata": {
      "needs_background": "light"
     },
     "output_type": "display_data"
    }
   ],
   "source": [
    "plt.hist(road_df['distance'])"
   ]
  },
  {
   "cell_type": "markdown",
   "metadata": {},
   "source": [
    "# incorporate model data"
   ]
  },
  {
   "cell_type": "code",
   "execution_count": 161,
   "metadata": {},
   "outputs": [],
   "source": [
    "import pickle as pkl\n",
    "with open('../models/land-price-17.pkl','rb') as f:\n",
    "    land_value_model = pkl.load(f)\n",
    "with open('../models/cf-model-17.pkl','rb') as f:\n",
    "    capacity_class_model = pkl.load(f)"
   ]
  },
  {
   "cell_type": "code",
   "execution_count": 182,
   "metadata": {},
   "outputs": [
    {
     "name": "stdout",
     "output_type": "stream",
     "text": [
      "101 / 7869\n"
     ]
    }
   ],
   "source": [
    "import models\n",
    "X_cap = pd.concat([nrel_state[['site_id','longitude','capacity_factor']].set_index('site_id'),\n",
    "               pd.DataFrame({'p_year' : np.full([len(nrel_state)],2017)},index=nrel_state['site_id'])],axis=1)\n",
    "#y_cap = capacity_class_model.predict(X_cap)\n",
    "best_threshold = 0.7420621909792579\n",
    "y_cap = models.pred_thresh(capacity_class_model,X_cap,th=best_threshold)\n",
    "print(np.count_nonzero(y_cap),'/',len(y_cap))\n",
    "capacity_class = y_cap"
   ]
  },
  {
   "cell_type": "code",
   "execution_count": 189,
   "metadata": {},
   "outputs": [
    {
     "data": {
      "image/png": "[encoded data removed]",
      "text/plain": [
       "<Figure size 432x288 with 1 Axes>"
      ]
     },
     "metadata": {
      "needs_background": "light"
     },
     "output_type": "display_data"
    },
    {
     "data": {
      "image/png": "[encoded data removed]",
      "text/plain": [
       "<Figure size 432x288 with 1 Axes>"
      ]
     },
     "metadata": {
      "needs_background": "light"
     },
     "output_type": "display_data"
    },
    {
     "data": {
      "image/png": "[encoded data removed]",
      "text/plain": [
       "<Figure size 432x288 with 2 Axes>"
      ]
     },
     "metadata": {
      "needs_background": "light"
     },
     "output_type": "display_data"
    }
   ],
   "source": [
    "X_land = nrel_state[['latitude','longitude']]\n",
    "y_land,y_land_std = land_value_model.predict(X_land,return_std=True)\n",
    "land_value = 10**y_land\n",
    "plt.hist(y_land); plt.show()\n",
    "plt.hist(land_value); plt.show()\n",
    "plt.scatter(X_land.iloc[:,1],X_land.iloc[:,0],c=y_land); plt.colorbar(); plt.show()"
   ]
  },
  {
   "cell_type": "markdown",
   "metadata": {},
   "source": [
    "# combine data"
   ]
  },
  {
   "cell_type": "code",
   "execution_count": 185,
   "metadata": {},
   "outputs": [
    {
     "data": {
      "text/plain": [
       "Index(['site_id', 'longitude', 'latitude', 'State', 'County',\n",
       "       'fraction_of_usable_area', 'power_curve', 'capacity', 'wind_speed',\n",
       "       'capacity_factor', 'full_timeseries_directory', 'full_timeseries_path'],\n",
       "      dtype='object')"
      ]
     },
     "execution_count": 185,
     "metadata": {},
     "output_type": "execute_result"
    }
   ],
   "source": [
    "nrel_state.columns"
   ]
  },
  {
   "cell_type": "code",
   "execution_count": 186,
   "metadata": {},
   "outputs": [
    {
     "data": {
      "text/plain": [
       "True"
      ]
     },
     "execution_count": 186,
     "metadata": {},
     "output_type": "execute_result"
    }
   ],
   "source": [
    "#make sure all site ids match\n",
    "np.all((nrel_state['site_id'] == trans_df['site_id']) & (nrel_state['site_id'] == road_df['site_id']))"
   ]
  },
  {
   "cell_type": "code",
   "execution_count": 190,
   "metadata": {},
   "outputs": [
    {
     "data": {
      "text/html": [
       "<div>\n",
       "<style scoped>\n",
       "    .dataframe tbody tr th:only-of-type {\n",
       "        vertical-align: middle;\n",
       "    }\n",
       "\n",
       "    .dataframe tbody tr th {\n",
       "        vertical-align: top;\n",
       "    }\n",
       "\n",
       "    .dataframe thead tr th {\n",
       "        text-align: left;\n",
       "    }\n",
       "\n",
       "    .dataframe thead tr:last-of-type th {\n",
       "        text-align: right;\n",
       "    }\n",
       "</style>\n",
       "<table border=\"1\" class=\"dataframe\">\n",
       "  <thead>\n",
       "    <tr>\n",
       "      <th></th>\n",
       "      <th colspan=\"4\" halign=\"left\">nrel</th>\n",
       "      <th colspan=\"4\" halign=\"left\">trans</th>\n",
       "      <th colspan=\"3\" halign=\"left\">road</th>\n",
       "      <th colspan=\"3\" halign=\"left\">ML</th>\n",
       "    </tr>\n",
       "    <tr>\n",
       "      <th></th>\n",
       "      <th>latitude</th>\n",
       "      <th>longitude</th>\n",
       "      <th>County</th>\n",
       "      <th>capacity_factor</th>\n",
       "      <th>trans_idx</th>\n",
       "      <th>latitude</th>\n",
       "      <th>longitude</th>\n",
       "      <th>distance</th>\n",
       "      <th>latitude</th>\n",
       "      <th>longitude</th>\n",
       "      <th>distance</th>\n",
       "      <th>capacity_class</th>\n",
       "      <th>land_value</th>\n",
       "      <th>land_value_logstd</th>\n",
       "    </tr>\n",
       "    <tr>\n",
       "      <th>site_id</th>\n",
       "      <th></th>\n",
       "      <th></th>\n",
       "      <th></th>\n",
       "      <th></th>\n",
       "      <th></th>\n",
       "      <th></th>\n",
       "      <th></th>\n",
       "      <th></th>\n",
       "      <th></th>\n",
       "      <th></th>\n",
       "      <th></th>\n",
       "      <th></th>\n",
       "      <th></th>\n",
       "      <th></th>\n",
       "    </tr>\n",
       "  </thead>\n",
       "  <tbody>\n",
       "    <tr>\n",
       "      <th>169</th>\n",
       "      <td>25.896492</td>\n",
       "      <td>-97.460358</td>\n",
       "      <td>Cameron</td>\n",
       "      <td>0.433</td>\n",
       "      <td>833</td>\n",
       "      <td>25.888472</td>\n",
       "      <td>-97.424833</td>\n",
       "      <td>2.279919</td>\n",
       "      <td>25.896175</td>\n",
       "      <td>-97.460796</td>\n",
       "      <td>0.034964</td>\n",
       "      <td>0</td>\n",
       "      <td>7661.198190</td>\n",
       "      <td>0.387342</td>\n",
       "    </tr>\n",
       "    <tr>\n",
       "      <th>251</th>\n",
       "      <td>26.032654</td>\n",
       "      <td>-97.738098</td>\n",
       "      <td>Cameron</td>\n",
       "      <td>0.414</td>\n",
       "      <td>882</td>\n",
       "      <td>26.087197</td>\n",
       "      <td>-97.785635</td>\n",
       "      <td>4.778612</td>\n",
       "      <td>26.032830</td>\n",
       "      <td>-97.738788</td>\n",
       "      <td>0.044568</td>\n",
       "      <td>0</td>\n",
       "      <td>6440.220342</td>\n",
       "      <td>0.295477</td>\n",
       "    </tr>\n",
       "    <tr>\n",
       "      <th>288</th>\n",
       "      <td>26.059063</td>\n",
       "      <td>-97.208252</td>\n",
       "      <td>Cameron</td>\n",
       "      <td>0.506</td>\n",
       "      <td>848</td>\n",
       "      <td>26.084680</td>\n",
       "      <td>-97.267434</td>\n",
       "      <td>4.080237</td>\n",
       "      <td>26.071840</td>\n",
       "      <td>-97.216763</td>\n",
       "      <td>1.026501</td>\n",
       "      <td>0</td>\n",
       "      <td>8406.848485</td>\n",
       "      <td>0.435271</td>\n",
       "    </tr>\n",
       "    <tr>\n",
       "      <th>367</th>\n",
       "      <td>26.078449</td>\n",
       "      <td>-98.073364</td>\n",
       "      <td>Hidalgo</td>\n",
       "      <td>0.363</td>\n",
       "      <td>885</td>\n",
       "      <td>26.078824</td>\n",
       "      <td>-98.075022</td>\n",
       "      <td>0.106241</td>\n",
       "      <td>26.078643</td>\n",
       "      <td>-98.074974</td>\n",
       "      <td>0.100975</td>\n",
       "      <td>0</td>\n",
       "      <td>5174.235727</td>\n",
       "      <td>0.266716</td>\n",
       "    </tr>\n",
       "    <tr>\n",
       "      <th>494</th>\n",
       "      <td>26.143227</td>\n",
       "      <td>-98.311340</td>\n",
       "      <td>Hidalgo</td>\n",
       "      <td>0.358</td>\n",
       "      <td>884</td>\n",
       "      <td>26.103226</td>\n",
       "      <td>-98.213942</td>\n",
       "      <td>6.649775</td>\n",
       "      <td>26.143035</td>\n",
       "      <td>-98.312744</td>\n",
       "      <td>0.088229</td>\n",
       "      <td>0</td>\n",
       "      <td>4320.702080</td>\n",
       "      <td>0.264095</td>\n",
       "    </tr>\n",
       "    <tr>\n",
       "      <th>...</th>\n",
       "      <td>...</td>\n",
       "      <td>...</td>\n",
       "      <td>...</td>\n",
       "      <td>...</td>\n",
       "      <td>...</td>\n",
       "      <td>...</td>\n",
       "      <td>...</td>\n",
       "      <td>...</td>\n",
       "      <td>...</td>\n",
       "      <td>...</td>\n",
       "      <td>...</td>\n",
       "      <td>...</td>\n",
       "      <td>...</td>\n",
       "      <td>...</td>\n",
       "    </tr>\n",
       "    <tr>\n",
       "      <th>27791</th>\n",
       "      <td>36.466068</td>\n",
       "      <td>-102.975739</td>\n",
       "      <td>Dallam</td>\n",
       "      <td>0.436</td>\n",
       "      <td>644</td>\n",
       "      <td>36.081104</td>\n",
       "      <td>-102.532032</td>\n",
       "      <td>36.307250</td>\n",
       "      <td>36.448977</td>\n",
       "      <td>-103.009130</td>\n",
       "      <td>2.201790</td>\n",
       "      <td>0</td>\n",
       "      <td>3876.243634</td>\n",
       "      <td>0.666039</td>\n",
       "    </tr>\n",
       "    <tr>\n",
       "      <th>27965</th>\n",
       "      <td>36.481190</td>\n",
       "      <td>-103.023315</td>\n",
       "      <td>Dallam</td>\n",
       "      <td>0.420</td>\n",
       "      <td>644</td>\n",
       "      <td>36.081104</td>\n",
       "      <td>-102.532032</td>\n",
       "      <td>38.899448</td>\n",
       "      <td>36.480363</td>\n",
       "      <td>-103.025504</td>\n",
       "      <td>0.134556</td>\n",
       "      <td>0</td>\n",
       "      <td>3927.128267</td>\n",
       "      <td>0.682710</td>\n",
       "    </tr>\n",
       "    <tr>\n",
       "      <th>27966</th>\n",
       "      <td>36.482792</td>\n",
       "      <td>-103.000519</td>\n",
       "      <td>Dallam</td>\n",
       "      <td>0.420</td>\n",
       "      <td>644</td>\n",
       "      <td>36.081104</td>\n",
       "      <td>-102.532032</td>\n",
       "      <td>38.092980</td>\n",
       "      <td>36.500527</td>\n",
       "      <td>-103.000867</td>\n",
       "      <td>1.223024</td>\n",
       "      <td>0</td>\n",
       "      <td>3919.716977</td>\n",
       "      <td>0.676243</td>\n",
       "    </tr>\n",
       "    <tr>\n",
       "      <th>27967</th>\n",
       "      <td>36.487591</td>\n",
       "      <td>-102.932129</td>\n",
       "      <td>Dallam</td>\n",
       "      <td>0.445</td>\n",
       "      <td>644</td>\n",
       "      <td>36.081104</td>\n",
       "      <td>-102.532032</td>\n",
       "      <td>35.838002</td>\n",
       "      <td>36.500452</td>\n",
       "      <td>-102.932340</td>\n",
       "      <td>0.886875</td>\n",
       "      <td>0</td>\n",
       "      <td>3897.462019</td>\n",
       "      <td>0.656392</td>\n",
       "    </tr>\n",
       "    <tr>\n",
       "      <th>28131</th>\n",
       "      <td>36.499516</td>\n",
       "      <td>-103.025330</td>\n",
       "      <td>Dallam</td>\n",
       "      <td>0.444</td>\n",
       "      <td>644</td>\n",
       "      <td>36.081104</td>\n",
       "      <td>-102.532032</td>\n",
       "      <td>39.880884</td>\n",
       "      <td>36.500528</td>\n",
       "      <td>-103.025619</td>\n",
       "      <td>0.071628</td>\n",
       "      <td>0</td>\n",
       "      <td>3961.501697</td>\n",
       "      <td>0.686311</td>\n",
       "    </tr>\n",
       "  </tbody>\n",
       "</table>\n",
       "<p>7869 rows × 14 columns</p>\n",
       "</div>"
      ],
      "text/plain": [
       "              nrel                                          trans             \\\n",
       "          latitude   longitude   County capacity_factor trans_idx   latitude   \n",
       "site_id                                                                        \n",
       "169      25.896492  -97.460358  Cameron           0.433       833  25.888472   \n",
       "251      26.032654  -97.738098  Cameron           0.414       882  26.087197   \n",
       "288      26.059063  -97.208252  Cameron           0.506       848  26.084680   \n",
       "367      26.078449  -98.073364  Hidalgo           0.363       885  26.078824   \n",
       "494      26.143227  -98.311340  Hidalgo           0.358       884  26.103226   \n",
       "...            ...         ...      ...             ...       ...        ...   \n",
       "27791    36.466068 -102.975739   Dallam           0.436       644  36.081104   \n",
       "27965    36.481190 -103.023315   Dallam           0.420       644  36.081104   \n",
       "27966    36.482792 -103.000519   Dallam           0.420       644  36.081104   \n",
       "27967    36.487591 -102.932129   Dallam           0.445       644  36.081104   \n",
       "28131    36.499516 -103.025330   Dallam           0.444       644  36.081104   \n",
       "\n",
       "                                     road                        \\\n",
       "          longitude   distance   latitude   longitude  distance   \n",
       "site_id                                                           \n",
       "169      -97.424833   2.279919  25.896175  -97.460796  0.034964   \n",
       "251      -97.785635   4.778612  26.032830  -97.738788  0.044568   \n",
       "288      -97.267434   4.080237  26.071840  -97.216763  1.026501   \n",
       "367      -98.075022   0.106241  26.078643  -98.074974  0.100975   \n",
       "494      -98.213942   6.649775  26.143035  -98.312744  0.088229   \n",
       "...             ...        ...        ...         ...       ...   \n",
       "27791   -102.532032  36.307250  36.448977 -103.009130  2.201790   \n",
       "27965   -102.532032  38.899448  36.480363 -103.025504  0.134556   \n",
       "27966   -102.532032  38.092980  36.500527 -103.000867  1.223024   \n",
       "27967   -102.532032  35.838002  36.500452 -102.932340  0.886875   \n",
       "28131   -102.532032  39.880884  36.500528 -103.025619  0.071628   \n",
       "\n",
       "                    ML                                 \n",
       "        capacity_class   land_value land_value_logstd  \n",
       "site_id                                                \n",
       "169                  0  7661.198190          0.387342  \n",
       "251                  0  6440.220342          0.295477  \n",
       "288                  0  8406.848485          0.435271  \n",
       "367                  0  5174.235727          0.266716  \n",
       "494                  0  4320.702080          0.264095  \n",
       "...                ...          ...               ...  \n",
       "27791                0  3876.243634          0.666039  \n",
       "27965                0  3927.128267          0.682710  \n",
       "27966                0  3919.716977          0.676243  \n",
       "27967                0  3897.462019          0.656392  \n",
       "28131                0  3961.501697          0.686311  \n",
       "\n",
       "[7869 rows x 14 columns]"
      ]
     },
     "execution_count": 190,
     "metadata": {},
     "output_type": "execute_result"
    }
   ],
   "source": [
    "nrel_names = 'site_id,latitude,longitude,County,capacity_factor'.split(',')\n",
    "trans_names = 'site_id,trans_idx,latitude,longitude,distance'.split(',')\n",
    "road_names = 'site_id,latitude,longitude,distance'.split(',')\n",
    "df = pd.concat([\n",
    "    nrel_state[nrel_names].set_index('site_id'),\n",
    "    trans_df[trans_names].set_index('site_id'),\n",
    "    road_df[road_names].set_index('site_id'),\n",
    "    pd.DataFrame({\n",
    "        'site_id' : nrel_state['site_id'], 'capacity_class' : capacity_class,\n",
    "        'land_value' : land_value,'land_value_logstd' : y_land_std\n",
    "    }).set_index('site_id')\n",
    "],axis=1,keys=['nrel','trans','road','ML'])\n",
    "df"
   ]
  },
  {
   "cell_type": "code",
   "execution_count": 192,
   "metadata": {},
   "outputs": [
    {
     "name": "stdout",
     "output_type": "stream",
     "text": [
      "6268\n"
     ]
    },
    {
     "data": {
      "text/plain": [
       "81"
      ]
     },
     "execution_count": 192,
     "metadata": {},
     "output_type": "execute_result"
    }
   ],
   "source": [
    "clean_df = df.dropna()\n",
    "print(len(clean_df))\n",
    "np.count_nonzero(clean_df[('ML','capacity_class')])"
   ]
  },
  {
   "cell_type": "code",
   "execution_count": 193,
   "metadata": {},
   "outputs": [],
   "source": [
    "#fclean_df.to_pickle('../app/data/results.pkl',protocol = 3)"
   ]
  },
  {
   "cell_type": "code",
   "execution_count": 86,
   "metadata": {},
   "outputs": [
    {
     "data": {
      "text/plain": [
       "1845"
      ]
     },
     "execution_count": 86,
     "metadata": {},
     "output_type": "execute_result"
    }
   ],
   "source": [
    "np.count_nonzero(np.isnan(df[('road','distance')]))"
   ]
  },
  {
   "cell_type": "code",
   "execution_count": 84,
   "metadata": {},
   "outputs": [
    {
     "data": {
      "text/plain": [
       "<matplotlib.collections.PathCollection at 0x136a4f670>"
      ]
     },
     "execution_count": 84,
     "metadata": {},
     "output_type": "execute_result"
    },
    {
     "data": {
      "image/png": "[encoded data removed]",
      "text/plain": [
       "<Figure size 432x288 with 1 Axes>"
      ]
     },
     "metadata": {
      "needs_background": "light"
     },
     "output_type": "display_data"
    }
   ],
   "source": [
    "plt.scatter(df[('trans','distance')],df['road','distance'])"
   ]
  },
  {
   "cell_type": "code",
   "execution_count": 205,
   "metadata": {},
   "outputs": [
    {
     "data": {
      "text/html": [
       "<div>\n",
       "<style scoped>\n",
       "    .dataframe tbody tr th:only-of-type {\n",
       "        vertical-align: middle;\n",
       "    }\n",
       "\n",
       "    .dataframe tbody tr th {\n",
       "        vertical-align: top;\n",
       "    }\n",
       "\n",
       "    .dataframe thead th {\n",
       "        text-align: right;\n",
       "    }\n",
       "</style>\n",
       "<table border=\"1\" class=\"dataframe\">\n",
       "  <thead>\n",
       "    <tr style=\"text-align: right;\">\n",
       "      <th></th>\n",
       "      <th>elevation</th>\n",
       "      <th>mean_wind_speed</th>\n",
       "      <th>pow_curve</th>\n",
       "      <th>temperature</th>\n",
       "      <th>p_year</th>\n",
       "      <th>t_state</th>\n",
       "      <th>eia_id</th>\n",
       "      <th>t_cap_factor</th>\n",
       "      <th>p_cap_factor</th>\n",
       "      <th>t_cap_factor_18</th>\n",
       "      <th>p_cap_factor_18</th>\n",
       "      <th>t_cap &lt;lambda&gt;</th>\n",
       "      <th>p_cap max</th>\n",
       "      <th>latitude</th>\n",
       "      <th>longitude</th>\n",
       "    </tr>\n",
       "  </thead>\n",
       "  <tbody>\n",
       "    <tr>\n",
       "      <th>0</th>\n",
       "      <td>1163.833252</td>\n",
       "      <td>7.050343</td>\n",
       "      <td>0.442029</td>\n",
       "      <td>285.757263</td>\n",
       "      <td>2004.0</td>\n",
       "      <td>CO</td>\n",
       "      <td>508</td>\n",
       "      <td>0.495920</td>\n",
       "      <td>0.826533</td>\n",
       "      <td>0.161279</td>\n",
       "      <td>0.268798</td>\n",
       "      <td>7.50</td>\n",
       "      <td>4.50</td>\n",
       "      <td>38.033327</td>\n",
       "      <td>-102.537915</td>\n",
       "    </tr>\n",
       "    <tr>\n",
       "      <th>1</th>\n",
       "      <td>2061.776123</td>\n",
       "      <td>9.136992</td>\n",
       "      <td>0.573228</td>\n",
       "      <td>278.968262</td>\n",
       "      <td>1999.0</td>\n",
       "      <td>WY</td>\n",
       "      <td>692</td>\n",
       "      <td>0.312108</td>\n",
       "      <td>0.593006</td>\n",
       "      <td>0.317505</td>\n",
       "      <td>0.603259</td>\n",
       "      <td>6.27</td>\n",
       "      <td>3.30</td>\n",
       "      <td>41.835278</td>\n",
       "      <td>-106.242778</td>\n",
       "    </tr>\n",
       "    <tr>\n",
       "      <th>2</th>\n",
       "      <td>188.842148</td>\n",
       "      <td>7.063872</td>\n",
       "      <td>0.459379</td>\n",
       "      <td>282.483551</td>\n",
       "      <td>2009.0</td>\n",
       "      <td>IL</td>\n",
       "      <td>944</td>\n",
       "      <td>0.151146</td>\n",
       "      <td>0.151146</td>\n",
       "      <td>0.290601</td>\n",
       "      <td>0.290601</td>\n",
       "      <td>3.00</td>\n",
       "      <td>3.00</td>\n",
       "      <td>41.451494</td>\n",
       "      <td>-90.148547</td>\n",
       "    </tr>\n",
       "    <tr>\n",
       "      <th>3</th>\n",
       "      <td>357.343384</td>\n",
       "      <td>7.411217</td>\n",
       "      <td>0.508273</td>\n",
       "      <td>279.763184</td>\n",
       "      <td>2009.0</td>\n",
       "      <td>IA</td>\n",
       "      <td>1172</td>\n",
       "      <td>0.209597</td>\n",
       "      <td>0.209597</td>\n",
       "      <td>0.389498</td>\n",
       "      <td>0.389498</td>\n",
       "      <td>1.50</td>\n",
       "      <td>1.50</td>\n",
       "      <td>43.279722</td>\n",
       "      <td>-92.810556</td>\n",
       "    </tr>\n",
       "    <tr>\n",
       "      <th>4</th>\n",
       "      <td>394.538666</td>\n",
       "      <td>8.085404</td>\n",
       "      <td>0.561528</td>\n",
       "      <td>279.575165</td>\n",
       "      <td>2007.0</td>\n",
       "      <td>MN</td>\n",
       "      <td>1998</td>\n",
       "      <td>0.218535</td>\n",
       "      <td>0.209793</td>\n",
       "      <td>0.287196</td>\n",
       "      <td>0.275708</td>\n",
       "      <td>1.20</td>\n",
       "      <td>1.25</td>\n",
       "      <td>43.940500</td>\n",
       "      <td>-94.943400</td>\n",
       "    </tr>\n",
       "    <tr>\n",
       "      <th>...</th>\n",
       "      <td>...</td>\n",
       "      <td>...</td>\n",
       "      <td>...</td>\n",
       "      <td>...</td>\n",
       "      <td>...</td>\n",
       "      <td>...</td>\n",
       "      <td>...</td>\n",
       "      <td>...</td>\n",
       "      <td>...</td>\n",
       "      <td>...</td>\n",
       "      <td>...</td>\n",
       "      <td>...</td>\n",
       "      <td>...</td>\n",
       "      <td>...</td>\n",
       "      <td>...</td>\n",
       "    </tr>\n",
       "    <tr>\n",
       "      <th>979</th>\n",
       "      <td>605.183228</td>\n",
       "      <td>8.464551</td>\n",
       "      <td>0.595057</td>\n",
       "      <td>286.236420</td>\n",
       "      <td>2018.0</td>\n",
       "      <td>KS</td>\n",
       "      <td>61957</td>\n",
       "      <td>0.257120</td>\n",
       "      <td>0.257120</td>\n",
       "      <td>0.027803</td>\n",
       "      <td>0.027803</td>\n",
       "      <td>243.80</td>\n",
       "      <td>243.80</td>\n",
       "      <td>37.550000</td>\n",
       "      <td>-98.800000</td>\n",
       "    </tr>\n",
       "    <tr>\n",
       "      <th>985</th>\n",
       "      <td>286.378479</td>\n",
       "      <td>7.617006</td>\n",
       "      <td>0.523195</td>\n",
       "      <td>282.106049</td>\n",
       "      <td>2018.0</td>\n",
       "      <td>IA</td>\n",
       "      <td>62133</td>\n",
       "      <td>0.136419</td>\n",
       "      <td>0.136419</td>\n",
       "      <td>0.032852</td>\n",
       "      <td>0.032852</td>\n",
       "      <td>200.00</td>\n",
       "      <td>200.00</td>\n",
       "      <td>41.642776</td>\n",
       "      <td>-92.499064</td>\n",
       "    </tr>\n",
       "    <tr>\n",
       "      <th>986</th>\n",
       "      <td>330.648590</td>\n",
       "      <td>7.856215</td>\n",
       "      <td>0.551173</td>\n",
       "      <td>281.679626</td>\n",
       "      <td>2018.0</td>\n",
       "      <td>IA</td>\n",
       "      <td>62134</td>\n",
       "      <td>0.259090</td>\n",
       "      <td>0.259090</td>\n",
       "      <td>0.110237</td>\n",
       "      <td>0.110237</td>\n",
       "      <td>170.00</td>\n",
       "      <td>170.00</td>\n",
       "      <td>42.104562</td>\n",
       "      <td>-94.148925</td>\n",
       "    </tr>\n",
       "    <tr>\n",
       "      <th>987</th>\n",
       "      <td>258.422333</td>\n",
       "      <td>6.911395</td>\n",
       "      <td>0.447585</td>\n",
       "      <td>280.280579</td>\n",
       "      <td>2012.0</td>\n",
       "      <td>WI</td>\n",
       "      <td>62161</td>\n",
       "      <td>0.225970</td>\n",
       "      <td>0.225970</td>\n",
       "      <td>0.225970</td>\n",
       "      <td>0.225970</td>\n",
       "      <td>9.90</td>\n",
       "      <td>9.90</td>\n",
       "      <td>43.101605</td>\n",
       "      <td>-89.331855</td>\n",
       "    </tr>\n",
       "    <tr>\n",
       "      <th>990</th>\n",
       "      <td>311.521851</td>\n",
       "      <td>7.385202</td>\n",
       "      <td>0.502148</td>\n",
       "      <td>279.262085</td>\n",
       "      <td>2018.0</td>\n",
       "      <td>MN</td>\n",
       "      <td>62291</td>\n",
       "      <td>0.182641</td>\n",
       "      <td>0.182641</td>\n",
       "      <td>0.009053</td>\n",
       "      <td>0.009053</td>\n",
       "      <td>44.60</td>\n",
       "      <td>44.60</td>\n",
       "      <td>44.857694</td>\n",
       "      <td>-95.568888</td>\n",
       "    </tr>\n",
       "  </tbody>\n",
       "</table>\n",
       "<p>946 rows × 15 columns</p>\n",
       "</div>"
      ],
      "text/plain": [
       "       elevation  mean_wind_speed  pow_curve  temperature  p_year t_state  \\\n",
       "0    1163.833252         7.050343   0.442029   285.757263  2004.0      CO   \n",
       "1    2061.776123         9.136992   0.573228   278.968262  1999.0      WY   \n",
       "2     188.842148         7.063872   0.459379   282.483551  2009.0      IL   \n",
       "3     357.343384         7.411217   0.508273   279.763184  2009.0      IA   \n",
       "4     394.538666         8.085404   0.561528   279.575165  2007.0      MN   \n",
       "..           ...              ...        ...          ...     ...     ...   \n",
       "979   605.183228         8.464551   0.595057   286.236420  2018.0      KS   \n",
       "985   286.378479         7.617006   0.523195   282.106049  2018.0      IA   \n",
       "986   330.648590         7.856215   0.551173   281.679626  2018.0      IA   \n",
       "987   258.422333         6.911395   0.447585   280.280579  2012.0      WI   \n",
       "990   311.521851         7.385202   0.502148   279.262085  2018.0      MN   \n",
       "\n",
       "     eia_id  t_cap_factor  p_cap_factor  t_cap_factor_18  p_cap_factor_18  \\\n",
       "0       508      0.495920      0.826533         0.161279         0.268798   \n",
       "1       692      0.312108      0.593006         0.317505         0.603259   \n",
       "2       944      0.151146      0.151146         0.290601         0.290601   \n",
       "3      1172      0.209597      0.209597         0.389498         0.389498   \n",
       "4      1998      0.218535      0.209793         0.287196         0.275708   \n",
       "..      ...           ...           ...              ...              ...   \n",
       "979   61957      0.257120      0.257120         0.027803         0.027803   \n",
       "985   62133      0.136419      0.136419         0.032852         0.032852   \n",
       "986   62134      0.259090      0.259090         0.110237         0.110237   \n",
       "987   62161      0.225970      0.225970         0.225970         0.225970   \n",
       "990   62291      0.182641      0.182641         0.009053         0.009053   \n",
       "\n",
       "     t_cap <lambda>  p_cap max   latitude   longitude  \n",
       "0              7.50       4.50  38.033327 -102.537915  \n",
       "1              6.27       3.30  41.835278 -106.242778  \n",
       "2              3.00       3.00  41.451494  -90.148547  \n",
       "3              1.50       1.50  43.279722  -92.810556  \n",
       "4              1.20       1.25  43.940500  -94.943400  \n",
       "..              ...        ...        ...         ...  \n",
       "979          243.80     243.80  37.550000  -98.800000  \n",
       "985          200.00     200.00  41.642776  -92.499064  \n",
       "986          170.00     170.00  42.104562  -94.148925  \n",
       "987            9.90       9.90  43.101605  -89.331855  \n",
       "990           44.60      44.60  44.857694  -95.568888  \n",
       "\n",
       "[946 rows x 15 columns]"
      ]
     },
     "execution_count": 205,
     "metadata": {},
     "output_type": "execute_result"
    }
   ],
   "source": [
    "import cf_model\n",
    "existing_df = cf_model.clean_data('../')\n",
    "existing_df"
   ]
  },
  {
   "cell_type": "code",
   "execution_count": 219,
   "metadata": {},
   "outputs": [],
   "source": [
    "existing_state_locations =  np.array(list(zip(existing_df['latitude'],existing_df['longitude'])))[existing_df.t_state == 'TX']\n",
    "existing_high_cap_locations = np.array(\n",
    "    list(zip(existing_df['latitude'],existing_df['longitude']))\n",
    ")[(existing_df.t_state == 'TX') & existing_df['t_cap_factor'] > 0.3]\n",
    "# exist_layer = gmaps.symbol_layer(existing_state_locations,\n",
    "#     fill_opacity=0, stroke_color=(0,0,0), scale=6)\n",
    "exist_layer = gmaps.heatmap_layer(existing_high_cap_locations, max_intensity=10)"
   ]
  },
  {
   "cell_type": "code",
   "execution_count": 203,
   "metadata": {},
   "outputs": [],
   "source": [
    "is_high_cap = clean_df[('ML','capacity_class')].astype(np.bool)\n",
    "point_layer,trans_point_layer,road_point_layer = [\n",
    "    gmaps.symbol_layer(\n",
    "        np.array(list(zip(clean_df[(cat,'latitude')],clean_df[(cat,'longitude')])))[is_high_cap],\n",
    "        fill_color=color, stroke_color=color, scale=2\n",
    "    ) for cat,color in zip(['nrel','trans','road'],['red','green','blue'])]"
   ]
  },
  {
   "cell_type": "code",
   "execution_count": 220,
   "metadata": {},
   "outputs": [
    {
     "data": {
      "application/vnd.jupyter.widget-view+json": {
       "model_id": "fb1ea90bdf144ad1a067076ee00ff300",
       "version_major": 2,
       "version_minor": 0
      },
      "text/plain": [
       "Figure(layout=FigureLayout(height='600px', width='800px'))"
      ]
     },
     "metadata": {},
     "output_type": "display_data"
    }
   ],
   "source": [
    "fig = gmaps.figure(\n",
    "    layout={\n",
    "        'width': '800px',\n",
    "        'height': '600px',\n",
    "    })\n",
    "#fig.add_layer(trans_layer)\n",
    "fig.add_layer(exist_layer)\n",
    "fig.add_layer(point_layer)\n",
    "fig.add_layer(trans_point_layer)\n",
    "fig.add_layer(road_point_layer)\n",
    "fig"
   ]
  },
  {
   "cell_type": "code",
   "execution_count": null,
   "metadata": {},
   "outputs": [],
   "source": []
  }
 ],
 "metadata": {
  "kernelspec": {
   "display_name": "Python 3",
   "language": "python",
   "name": "python3"
  },
  "language_info": {
   "codemirror_mode": {
    "name": "ipython",
    "version": 3
   },
   "file_extension": ".py",
   "mimetype": "text/x-python",
   "name": "python",
   "nbconvert_exporter": "python",
   "pygments_lexer": "ipython3",
   "version": "3.8.2"
  },
  "latex_envs": {
   "LaTeX_envs_menu_present": true,
   "autoclose": false,
   "autocomplete": true,
   "bibliofile": "biblio.bib",
   "cite_by": "apalike",
   "current_citInitial": 1,
   "eqLabelWithNumbers": true,
   "eqNumInitial": 1,
   "hotkeys": {
    "equation": "Ctrl-E",
    "itemize": "Ctrl-I"
   },
   "labels_anchors": false,
   "latex_user_defs": false,
   "report_style_numbering": false,
   "user_envs_cfg": false
  },
  "toc": {
   "base_numbering": 1,
   "nav_menu": {},
   "number_sections": true,
   "sideBar": true,
   "skip_h1_title": false,
   "title_cell": "Table of Contents",
   "title_sidebar": "Contents",
   "toc_cell": false,
   "toc_position": {},
   "toc_section_display": true,
   "toc_window_display": false
  },
  "varInspector": {
   "cols": {
    "lenName": 16,
    "lenType": 16,
    "lenVar": 40
   },
   "kernels_config": {
    "python": {
     "delete_cmd_postfix": "",
     "delete_cmd_prefix": "del ",
     "library": "var_list.py",
     "varRefreshCmd": "print(var_dic_list())"
    },
    "r": {
     "delete_cmd_postfix": ") ",
     "delete_cmd_prefix": "rm(",
     "library": "var_list.r",
     "varRefreshCmd": "cat(var_dic_list()) "
    }
   },
   "types_to_exclude": [
    "module",
    "function",
    "builtin_function_or_method",
    "instance",
    "_Feature"
   ],
   "window_display": false
  }
 },
 "nbformat": 4,
 "nbformat_minor": 4
}
